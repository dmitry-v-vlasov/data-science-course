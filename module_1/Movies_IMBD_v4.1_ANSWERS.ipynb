{
 "cells": [
  {
   "cell_type": "code",
   "execution_count": 1,
   "metadata": {
    "_cell_guid": "b1076dfc-b9ad-4769-8c92-a6c4dae69d19",
    "_uuid": "8f2839f25d086af736a60e9eeb907d3b93b6e0e5",
    "colab": {},
    "colab_type": "code",
    "id": "U2D2gTdJVp90"
   },
   "outputs": [],
   "source": [
    "import numpy as np\n",
    "import pandas as pd\n",
    "from collections import Counter"
   ]
  },
  {
   "cell_type": "code",
   "execution_count": 2,
   "metadata": {
    "_cell_guid": "79c7e3d0-c299-4dcb-8224-4455121ee9b0",
    "_uuid": "d629ff2d2480ee46fbb7e2d37f6b5fab8052498a",
    "colab": {},
    "colab_type": "code",
    "id": "oyGfxL3eVp9-"
   },
   "outputs": [],
   "source": [
    "data = pd.read_csv('movie_bd_v5.csv')"
   ]
  },
  {
   "cell_type": "code",
   "execution_count": 3,
   "metadata": {},
   "outputs": [
    {
     "data": {
      "text/html": [
       "<div>\n",
       "<style scoped>\n",
       "    .dataframe tbody tr th:only-of-type {\n",
       "        vertical-align: middle;\n",
       "    }\n",
       "\n",
       "    .dataframe tbody tr th {\n",
       "        vertical-align: top;\n",
       "    }\n",
       "\n",
       "    .dataframe thead th {\n",
       "        text-align: right;\n",
       "    }\n",
       "</style>\n",
       "<table border=\"1\" class=\"dataframe\">\n",
       "  <thead>\n",
       "    <tr style=\"text-align: right;\">\n",
       "      <th></th>\n",
       "      <th>imdb_id</th>\n",
       "      <th>budget</th>\n",
       "      <th>revenue</th>\n",
       "      <th>original_title</th>\n",
       "      <th>cast</th>\n",
       "      <th>director</th>\n",
       "      <th>tagline</th>\n",
       "      <th>overview</th>\n",
       "      <th>runtime</th>\n",
       "      <th>genres</th>\n",
       "      <th>production_companies</th>\n",
       "      <th>release_date</th>\n",
       "      <th>vote_average</th>\n",
       "      <th>release_year</th>\n",
       "    </tr>\n",
       "  </thead>\n",
       "  <tbody>\n",
       "    <tr>\n",
       "      <th>1771</th>\n",
       "      <td>tt0374563</td>\n",
       "      <td>17000000</td>\n",
       "      <td>2626800</td>\n",
       "      <td>Captivity</td>\n",
       "      <td>Elisha Cuthbert|Daniel Gillies|Pruitt Taylor V...</td>\n",
       "      <td>Roland JoffÃ©</td>\n",
       "      <td>When You Think The Worst Has Happened... Think...</td>\n",
       "      <td>The sought-after images of top model, Jennifer...</td>\n",
       "      <td>96</td>\n",
       "      <td>Crime|Horror|Thriller</td>\n",
       "      <td>Foresight Unlimited|RAMCO|Captivity Productions</td>\n",
       "      <td>6/22/2007</td>\n",
       "      <td>4.5</td>\n",
       "      <td>2007</td>\n",
       "    </tr>\n",
       "    <tr>\n",
       "      <th>693</th>\n",
       "      <td>tt1000774</td>\n",
       "      <td>65000000</td>\n",
       "      <td>415252786</td>\n",
       "      <td>Sex and the City</td>\n",
       "      <td>Sarah Jessica Parker|Kim Cattrall|Cynthia Nixo...</td>\n",
       "      <td>Michael Patrick King</td>\n",
       "      <td>Get carried away.</td>\n",
       "      <td>A New York writer on sex and love is finally g...</td>\n",
       "      <td>145</td>\n",
       "      <td>Comedy|Drama|Romance</td>\n",
       "      <td>New Line Cinema|Darren Star Productions|Home B...</td>\n",
       "      <td>5/12/2008</td>\n",
       "      <td>6.1</td>\n",
       "      <td>2008</td>\n",
       "    </tr>\n",
       "    <tr>\n",
       "      <th>1670</th>\n",
       "      <td>tt0373889</td>\n",
       "      <td>150000000</td>\n",
       "      <td>938212738</td>\n",
       "      <td>Harry Potter and the Order of the Phoenix</td>\n",
       "      <td>Daniel Radcliffe|Rupert Grint|Emma Watson|Mich...</td>\n",
       "      <td>David Yates</td>\n",
       "      <td>Evil Must Be Confronted.</td>\n",
       "      <td>Returning for his fifth year of study at Hogwa...</td>\n",
       "      <td>138</td>\n",
       "      <td>Adventure|Fantasy|Family|Mystery</td>\n",
       "      <td>Cool Music|Warner Bros.|Heyday Films|Harry Pot...</td>\n",
       "      <td>6/28/2007</td>\n",
       "      <td>7.2</td>\n",
       "      <td>2007</td>\n",
       "    </tr>\n",
       "  </tbody>\n",
       "</table>\n",
       "</div>"
      ],
      "text/plain": [
       "        imdb_id     budget    revenue  \\\n",
       "1771  tt0374563   17000000    2626800   \n",
       "693   tt1000774   65000000  415252786   \n",
       "1670  tt0373889  150000000  938212738   \n",
       "\n",
       "                                 original_title  \\\n",
       "1771                                  Captivity   \n",
       "693                            Sex and the City   \n",
       "1670  Harry Potter and the Order of the Phoenix   \n",
       "\n",
       "                                                   cast              director  \\\n",
       "1771  Elisha Cuthbert|Daniel Gillies|Pruitt Taylor V...         Roland JoffÃ©   \n",
       "693   Sarah Jessica Parker|Kim Cattrall|Cynthia Nixo...  Michael Patrick King   \n",
       "1670  Daniel Radcliffe|Rupert Grint|Emma Watson|Mich...           David Yates   \n",
       "\n",
       "                                                tagline  \\\n",
       "1771  When You Think The Worst Has Happened... Think...   \n",
       "693                                   Get carried away.   \n",
       "1670                           Evil Must Be Confronted.   \n",
       "\n",
       "                                               overview  runtime  \\\n",
       "1771  The sought-after images of top model, Jennifer...       96   \n",
       "693   A New York writer on sex and love is finally g...      145   \n",
       "1670  Returning for his fifth year of study at Hogwa...      138   \n",
       "\n",
       "                                genres  \\\n",
       "1771             Crime|Horror|Thriller   \n",
       "693               Comedy|Drama|Romance   \n",
       "1670  Adventure|Fantasy|Family|Mystery   \n",
       "\n",
       "                                   production_companies release_date  \\\n",
       "1771    Foresight Unlimited|RAMCO|Captivity Productions    6/22/2007   \n",
       "693   New Line Cinema|Darren Star Productions|Home B...    5/12/2008   \n",
       "1670  Cool Music|Warner Bros.|Heyday Films|Harry Pot...    6/28/2007   \n",
       "\n",
       "      vote_average  release_year  \n",
       "1771           4.5          2007  \n",
       "693            6.1          2008  \n",
       "1670           7.2          2007  "
      ]
     },
     "execution_count": 3,
     "metadata": {},
     "output_type": "execute_result"
    }
   ],
   "source": [
    "data.sample(3)"
   ]
  },
  {
   "cell_type": "code",
   "execution_count": 4,
   "metadata": {},
   "outputs": [
    {
     "data": {
      "text/html": [
       "<div>\n",
       "<style scoped>\n",
       "    .dataframe tbody tr th:only-of-type {\n",
       "        vertical-align: middle;\n",
       "    }\n",
       "\n",
       "    .dataframe tbody tr th {\n",
       "        vertical-align: top;\n",
       "    }\n",
       "\n",
       "    .dataframe thead th {\n",
       "        text-align: right;\n",
       "    }\n",
       "</style>\n",
       "<table border=\"1\" class=\"dataframe\">\n",
       "  <thead>\n",
       "    <tr style=\"text-align: right;\">\n",
       "      <th></th>\n",
       "      <th>imdb_id</th>\n",
       "      <th>budget</th>\n",
       "      <th>revenue</th>\n",
       "      <th>original_title</th>\n",
       "      <th>cast</th>\n",
       "      <th>director</th>\n",
       "      <th>tagline</th>\n",
       "      <th>overview</th>\n",
       "      <th>runtime</th>\n",
       "      <th>genres</th>\n",
       "      <th>production_companies</th>\n",
       "      <th>release_date</th>\n",
       "      <th>vote_average</th>\n",
       "      <th>release_year</th>\n",
       "    </tr>\n",
       "  </thead>\n",
       "  <tbody>\n",
       "    <tr>\n",
       "      <th>0</th>\n",
       "      <td>tt0369610</td>\n",
       "      <td>150000000</td>\n",
       "      <td>1513528810</td>\n",
       "      <td>Jurassic World</td>\n",
       "      <td>Chris Pratt|Bryce Dallas Howard|Irrfan Khan|Vi...</td>\n",
       "      <td>Colin Trevorrow</td>\n",
       "      <td>The park is open.</td>\n",
       "      <td>Twenty-two years after the events of Jurassic ...</td>\n",
       "      <td>124</td>\n",
       "      <td>Action|Adventure|Science Fiction|Thriller</td>\n",
       "      <td>Universal Studios|Amblin Entertainment|Legenda...</td>\n",
       "      <td>6/9/2015</td>\n",
       "      <td>6.5</td>\n",
       "      <td>2015</td>\n",
       "    </tr>\n",
       "    <tr>\n",
       "      <th>1</th>\n",
       "      <td>tt1392190</td>\n",
       "      <td>150000000</td>\n",
       "      <td>378436354</td>\n",
       "      <td>Mad Max: Fury Road</td>\n",
       "      <td>Tom Hardy|Charlize Theron|Hugh Keays-Byrne|Nic...</td>\n",
       "      <td>George Miller</td>\n",
       "      <td>What a Lovely Day.</td>\n",
       "      <td>An apocalyptic story set in the furthest reach...</td>\n",
       "      <td>120</td>\n",
       "      <td>Action|Adventure|Science Fiction|Thriller</td>\n",
       "      <td>Village Roadshow Pictures|Kennedy Miller Produ...</td>\n",
       "      <td>5/13/2015</td>\n",
       "      <td>7.1</td>\n",
       "      <td>2015</td>\n",
       "    </tr>\n",
       "    <tr>\n",
       "      <th>2</th>\n",
       "      <td>tt2908446</td>\n",
       "      <td>110000000</td>\n",
       "      <td>295238201</td>\n",
       "      <td>Insurgent</td>\n",
       "      <td>Shailene Woodley|Theo James|Kate Winslet|Ansel...</td>\n",
       "      <td>Robert Schwentke</td>\n",
       "      <td>One Choice Can Destroy You</td>\n",
       "      <td>Beatrice Prior must confront her inner demons ...</td>\n",
       "      <td>119</td>\n",
       "      <td>Adventure|Science Fiction|Thriller</td>\n",
       "      <td>Summit Entertainment|Mandeville Films|Red Wago...</td>\n",
       "      <td>3/18/2015</td>\n",
       "      <td>6.3</td>\n",
       "      <td>2015</td>\n",
       "    </tr>\n",
       "  </tbody>\n",
       "</table>\n",
       "</div>"
      ],
      "text/plain": [
       "     imdb_id     budget     revenue      original_title  \\\n",
       "0  tt0369610  150000000  1513528810      Jurassic World   \n",
       "1  tt1392190  150000000   378436354  Mad Max: Fury Road   \n",
       "2  tt2908446  110000000   295238201           Insurgent   \n",
       "\n",
       "                                                cast          director  \\\n",
       "0  Chris Pratt|Bryce Dallas Howard|Irrfan Khan|Vi...   Colin Trevorrow   \n",
       "1  Tom Hardy|Charlize Theron|Hugh Keays-Byrne|Nic...     George Miller   \n",
       "2  Shailene Woodley|Theo James|Kate Winslet|Ansel...  Robert Schwentke   \n",
       "\n",
       "                      tagline  \\\n",
       "0           The park is open.   \n",
       "1          What a Lovely Day.   \n",
       "2  One Choice Can Destroy You   \n",
       "\n",
       "                                            overview  runtime  \\\n",
       "0  Twenty-two years after the events of Jurassic ...      124   \n",
       "1  An apocalyptic story set in the furthest reach...      120   \n",
       "2  Beatrice Prior must confront her inner demons ...      119   \n",
       "\n",
       "                                      genres  \\\n",
       "0  Action|Adventure|Science Fiction|Thriller   \n",
       "1  Action|Adventure|Science Fiction|Thriller   \n",
       "2         Adventure|Science Fiction|Thriller   \n",
       "\n",
       "                                production_companies release_date  \\\n",
       "0  Universal Studios|Amblin Entertainment|Legenda...     6/9/2015   \n",
       "1  Village Roadshow Pictures|Kennedy Miller Produ...    5/13/2015   \n",
       "2  Summit Entertainment|Mandeville Films|Red Wago...    3/18/2015   \n",
       "\n",
       "   vote_average  release_year  \n",
       "0           6.5          2015  \n",
       "1           7.1          2015  \n",
       "2           6.3          2015  "
      ]
     },
     "execution_count": 4,
     "metadata": {},
     "output_type": "execute_result"
    }
   ],
   "source": [
    "data.head(3)"
   ]
  },
  {
   "cell_type": "code",
   "execution_count": 5,
   "metadata": {},
   "outputs": [
    {
     "name": "stdout",
     "output_type": "stream",
     "text": [
      "<class 'pandas.core.frame.DataFrame'>\n",
      "RangeIndex: 1889 entries, 0 to 1888\n",
      "Data columns (total 14 columns):\n",
      " #   Column                Non-Null Count  Dtype  \n",
      "---  ------                --------------  -----  \n",
      " 0   imdb_id               1889 non-null   object \n",
      " 1   budget                1889 non-null   int64  \n",
      " 2   revenue               1889 non-null   int64  \n",
      " 3   original_title        1889 non-null   object \n",
      " 4   cast                  1889 non-null   object \n",
      " 5   director              1889 non-null   object \n",
      " 6   tagline               1889 non-null   object \n",
      " 7   overview              1889 non-null   object \n",
      " 8   runtime               1889 non-null   int64  \n",
      " 9   genres                1889 non-null   object \n",
      " 10  production_companies  1889 non-null   object \n",
      " 11  release_date          1889 non-null   object \n",
      " 12  vote_average          1889 non-null   float64\n",
      " 13  release_year          1889 non-null   int64  \n",
      "dtypes: float64(1), int64(4), object(9)\n",
      "memory usage: 206.7+ KB\n"
     ]
    }
   ],
   "source": [
    "data.info()"
   ]
  },
  {
   "cell_type": "markdown",
   "metadata": {
    "colab_type": "text",
    "id": "DTIt7ezGVp-G"
   },
   "source": [
    "# Предобработка"
   ]
  },
  {
   "cell_type": "code",
   "execution_count": 6,
   "metadata": {
    "colab": {},
    "colab_type": "code",
    "id": "jNb40DwKVp-H"
   },
   "outputs": [],
   "source": [
    "answers = {} # создадим словарь для ответов\n",
    "\n",
    "split_values_vert = lambda value: value.split('|')\n",
    "\n",
    "\n",
    "month_to_season = lambda month: \"Spring\" if 3 <= month <= 5 \\\n",
    "                      else \"Summer\" if 6 <= month <= 8 \\\n",
    "                      else \"Autumn\" if 9 <= month <= 11 \\\n",
    "                      else \"Winter\" if month == 12 or month == 1 or month == 2 \\\n",
    "                      else \"error\"\n",
    "\n",
    "\n",
    "data.release_date = pd.to_datetime(data.release_date)\n",
    "data.cast = data.cast.apply(split_values_vert)\n",
    "data.genres = data.genres.apply(split_values_vert)\n",
    "data.production_companies = data.production_companies.apply(split_values_vert)\n",
    "\n",
    "data[\"profit\"] = data.revenue - data.budget\n",
    "data[\"season\"] = data.apply(lambda row: month_to_season(int(row[\"release_date\"].strftime(\"%m\"))), axis=1)\n",
    "\n",
    "def movie_info_by_index(data, index):\n",
    "    \"\"\"Возвращает строку с индексом фильма в таблице data, его название и IMDb идентификатор.\n",
    "    Эта функция используется для помещение ответов на вопросы в словарь answers\n",
    "    в строковой форме.\n",
    "    \n",
    "    Args:\n",
    "        data: таблица с фильмами\n",
    "        index: индекс записи фильма в таблице\n",
    "    Returns:\n",
    "        Возвращает строку с индексом фильма в таблице data, его название и IMDb идентификатор\n",
    "        в формате 'index. original_title (imdb_id)'\n",
    "    \"\"\"\n",
    "    movie_entry = data.loc[index]\n",
    "    movie_title = movie_entry.original_title\n",
    "    movie_imdb_id = movie_entry.imdb_id\n",
    "    return f\"{index}. {movie_title} ({movie_imdb_id})\"\n",
    "\n",
    "def create_dataframe_split_column_list(data, data_column, index_column):\n",
    "    \"\"\"Разделяет значения в заданной колонке исходной таблицы, где\n",
    "    они представлены списком и формирует новую таблицу, в которой\n",
    "    есть только колонка индекса с дублирующимися значениями и\n",
    "    колонка с одиночными значениями вместо списков.\n",
    "    \n",
    "    Args:\n",
    "        data: исходная таблица с данными\n",
    "        data_column: название колонки, где в ячейках есть списки значений\n",
    "        index_column: колонка данных, которая должна играть роль индексной\n",
    "    Returns:\n",
    "        Новая таблицу, в которой есть только колонка индекса с дублирующимися значениями и\n",
    "        колонка с одиночными значениями вместо списков.\n",
    "    \"\"\"\n",
    "    data_columns = data.columns.tolist()\n",
    "    new_data = pd.DataFrame(data[data_column].tolist(), index=data[index_column]).stack()\n",
    "    new_data = new_data.reset_index([0, index_column])\n",
    "    new_data.columns = [index_column, data_column]\n",
    "    return new_data\n",
    "\n",
    "def create_dataframe_column_full(data, target_column_list):\n",
    "    \"\"\"Создаёт из исходной таблицы данных новую таблицу данных,\n",
    "    в которой заданная колонка со списками значений разделяется\n",
    "    с образованием нескольких строк таблицы, число которых равно\n",
    "    числу элементов списка в каждой ячейке такой колонки.\n",
    "    Результат аналогичен DataFrame.explode\n",
    "\n",
    "    Args:\n",
    "        data: исходная таблица с данными\n",
    "        target_column_list: название колонки в таблице data,\n",
    "                            где в ячейках находятся списки значений\n",
    "    Returns:\n",
    "        Новую таблицу данных, в которой заданная колонка со списками\n",
    "        значений разделяется с образованием нескольких строк таблицы,\n",
    "        число которых равно числу элементов списка в каждой ячейке такой колонки.\n",
    "    \"\"\"\n",
    "    rows = list()\n",
    "\n",
    "    def make_new_row(row):\n",
    "        for cell_value in row[target_column_list]:\n",
    "            new_row = row.to_dict()\n",
    "            new_row[target_column_list] = cell_value\n",
    "            rows.append(new_row)\n",
    "\n",
    "    data.apply(make_new_row, axis=1)\n",
    "    new_data = pd.DataFrame(rows)\n",
    "    return new_data"
   ]
  },
  {
   "cell_type": "code",
   "execution_count": 7,
   "metadata": {},
   "outputs": [
    {
     "data": {
      "text/html": [
       "<div>\n",
       "<style scoped>\n",
       "    .dataframe tbody tr th:only-of-type {\n",
       "        vertical-align: middle;\n",
       "    }\n",
       "\n",
       "    .dataframe tbody tr th {\n",
       "        vertical-align: top;\n",
       "    }\n",
       "\n",
       "    .dataframe thead th {\n",
       "        text-align: right;\n",
       "    }\n",
       "</style>\n",
       "<table border=\"1\" class=\"dataframe\">\n",
       "  <thead>\n",
       "    <tr style=\"text-align: right;\">\n",
       "      <th></th>\n",
       "      <th>imdb_id</th>\n",
       "      <th>budget</th>\n",
       "      <th>revenue</th>\n",
       "      <th>original_title</th>\n",
       "      <th>cast</th>\n",
       "      <th>director</th>\n",
       "      <th>tagline</th>\n",
       "      <th>overview</th>\n",
       "      <th>runtime</th>\n",
       "      <th>genres</th>\n",
       "      <th>production_companies</th>\n",
       "      <th>release_date</th>\n",
       "      <th>vote_average</th>\n",
       "      <th>release_year</th>\n",
       "      <th>profit</th>\n",
       "      <th>season</th>\n",
       "    </tr>\n",
       "  </thead>\n",
       "  <tbody>\n",
       "    <tr>\n",
       "      <th>0</th>\n",
       "      <td>tt0369610</td>\n",
       "      <td>150000000</td>\n",
       "      <td>1513528810</td>\n",
       "      <td>Jurassic World</td>\n",
       "      <td>[Chris Pratt, Bryce Dallas Howard, Irrfan Khan...</td>\n",
       "      <td>Colin Trevorrow</td>\n",
       "      <td>The park is open.</td>\n",
       "      <td>Twenty-two years after the events of Jurassic ...</td>\n",
       "      <td>124</td>\n",
       "      <td>[Action, Adventure, Science Fiction, Thriller]</td>\n",
       "      <td>[Universal Studios, Amblin Entertainment, Lege...</td>\n",
       "      <td>2015-06-09</td>\n",
       "      <td>6.5</td>\n",
       "      <td>2015</td>\n",
       "      <td>1363528810</td>\n",
       "      <td>Summer</td>\n",
       "    </tr>\n",
       "    <tr>\n",
       "      <th>1</th>\n",
       "      <td>tt1392190</td>\n",
       "      <td>150000000</td>\n",
       "      <td>378436354</td>\n",
       "      <td>Mad Max: Fury Road</td>\n",
       "      <td>[Tom Hardy, Charlize Theron, Hugh Keays-Byrne,...</td>\n",
       "      <td>George Miller</td>\n",
       "      <td>What a Lovely Day.</td>\n",
       "      <td>An apocalyptic story set in the furthest reach...</td>\n",
       "      <td>120</td>\n",
       "      <td>[Action, Adventure, Science Fiction, Thriller]</td>\n",
       "      <td>[Village Roadshow Pictures, Kennedy Miller Pro...</td>\n",
       "      <td>2015-05-13</td>\n",
       "      <td>7.1</td>\n",
       "      <td>2015</td>\n",
       "      <td>228436354</td>\n",
       "      <td>Spring</td>\n",
       "    </tr>\n",
       "    <tr>\n",
       "      <th>2</th>\n",
       "      <td>tt2908446</td>\n",
       "      <td>110000000</td>\n",
       "      <td>295238201</td>\n",
       "      <td>Insurgent</td>\n",
       "      <td>[Shailene Woodley, Theo James, Kate Winslet, A...</td>\n",
       "      <td>Robert Schwentke</td>\n",
       "      <td>One Choice Can Destroy You</td>\n",
       "      <td>Beatrice Prior must confront her inner demons ...</td>\n",
       "      <td>119</td>\n",
       "      <td>[Adventure, Science Fiction, Thriller]</td>\n",
       "      <td>[Summit Entertainment, Mandeville Films, Red W...</td>\n",
       "      <td>2015-03-18</td>\n",
       "      <td>6.3</td>\n",
       "      <td>2015</td>\n",
       "      <td>185238201</td>\n",
       "      <td>Spring</td>\n",
       "    </tr>\n",
       "    <tr>\n",
       "      <th>3</th>\n",
       "      <td>tt2488496</td>\n",
       "      <td>200000000</td>\n",
       "      <td>2068178225</td>\n",
       "      <td>Star Wars: The Force Awakens</td>\n",
       "      <td>[Harrison Ford, Mark Hamill, Carrie Fisher, Ad...</td>\n",
       "      <td>J.J. Abrams</td>\n",
       "      <td>Every generation has a story.</td>\n",
       "      <td>Thirty years after defeating the Galactic Empi...</td>\n",
       "      <td>136</td>\n",
       "      <td>[Action, Adventure, Science Fiction, Fantasy]</td>\n",
       "      <td>[Lucasfilm, Truenorth Productions, Bad Robot]</td>\n",
       "      <td>2015-12-15</td>\n",
       "      <td>7.5</td>\n",
       "      <td>2015</td>\n",
       "      <td>1868178225</td>\n",
       "      <td>Winter</td>\n",
       "    </tr>\n",
       "    <tr>\n",
       "      <th>4</th>\n",
       "      <td>tt2820852</td>\n",
       "      <td>190000000</td>\n",
       "      <td>1506249360</td>\n",
       "      <td>Furious 7</td>\n",
       "      <td>[Vin Diesel, Paul Walker, Jason Statham, Miche...</td>\n",
       "      <td>James Wan</td>\n",
       "      <td>Vengeance Hits Home</td>\n",
       "      <td>Deckard Shaw seeks revenge against Dominic Tor...</td>\n",
       "      <td>137</td>\n",
       "      <td>[Action, Crime, Thriller]</td>\n",
       "      <td>[Universal Pictures, Original Film, Media Righ...</td>\n",
       "      <td>2015-04-01</td>\n",
       "      <td>7.3</td>\n",
       "      <td>2015</td>\n",
       "      <td>1316249360</td>\n",
       "      <td>Spring</td>\n",
       "    </tr>\n",
       "  </tbody>\n",
       "</table>\n",
       "</div>"
      ],
      "text/plain": [
       "     imdb_id     budget     revenue                original_title  \\\n",
       "0  tt0369610  150000000  1513528810                Jurassic World   \n",
       "1  tt1392190  150000000   378436354            Mad Max: Fury Road   \n",
       "2  tt2908446  110000000   295238201                     Insurgent   \n",
       "3  tt2488496  200000000  2068178225  Star Wars: The Force Awakens   \n",
       "4  tt2820852  190000000  1506249360                     Furious 7   \n",
       "\n",
       "                                                cast          director  \\\n",
       "0  [Chris Pratt, Bryce Dallas Howard, Irrfan Khan...   Colin Trevorrow   \n",
       "1  [Tom Hardy, Charlize Theron, Hugh Keays-Byrne,...     George Miller   \n",
       "2  [Shailene Woodley, Theo James, Kate Winslet, A...  Robert Schwentke   \n",
       "3  [Harrison Ford, Mark Hamill, Carrie Fisher, Ad...       J.J. Abrams   \n",
       "4  [Vin Diesel, Paul Walker, Jason Statham, Miche...         James Wan   \n",
       "\n",
       "                         tagline  \\\n",
       "0              The park is open.   \n",
       "1             What a Lovely Day.   \n",
       "2     One Choice Can Destroy You   \n",
       "3  Every generation has a story.   \n",
       "4            Vengeance Hits Home   \n",
       "\n",
       "                                            overview  runtime  \\\n",
       "0  Twenty-two years after the events of Jurassic ...      124   \n",
       "1  An apocalyptic story set in the furthest reach...      120   \n",
       "2  Beatrice Prior must confront her inner demons ...      119   \n",
       "3  Thirty years after defeating the Galactic Empi...      136   \n",
       "4  Deckard Shaw seeks revenge against Dominic Tor...      137   \n",
       "\n",
       "                                           genres  \\\n",
       "0  [Action, Adventure, Science Fiction, Thriller]   \n",
       "1  [Action, Adventure, Science Fiction, Thriller]   \n",
       "2          [Adventure, Science Fiction, Thriller]   \n",
       "3   [Action, Adventure, Science Fiction, Fantasy]   \n",
       "4                       [Action, Crime, Thriller]   \n",
       "\n",
       "                                production_companies release_date  \\\n",
       "0  [Universal Studios, Amblin Entertainment, Lege...   2015-06-09   \n",
       "1  [Village Roadshow Pictures, Kennedy Miller Pro...   2015-05-13   \n",
       "2  [Summit Entertainment, Mandeville Films, Red W...   2015-03-18   \n",
       "3      [Lucasfilm, Truenorth Productions, Bad Robot]   2015-12-15   \n",
       "4  [Universal Pictures, Original Film, Media Righ...   2015-04-01   \n",
       "\n",
       "   vote_average  release_year      profit  season  \n",
       "0           6.5          2015  1363528810  Summer  \n",
       "1           7.1          2015   228436354  Spring  \n",
       "2           6.3          2015   185238201  Spring  \n",
       "3           7.5          2015  1868178225  Winter  \n",
       "4           7.3          2015  1316249360  Spring  "
      ]
     },
     "execution_count": 7,
     "metadata": {},
     "output_type": "execute_result"
    }
   ],
   "source": [
    "data.head(5)"
   ]
  },
  {
   "cell_type": "code",
   "execution_count": 8,
   "metadata": {},
   "outputs": [
    {
     "name": "stdout",
     "output_type": "stream",
     "text": [
      "<class 'pandas.core.frame.DataFrame'>\n",
      "RangeIndex: 1889 entries, 0 to 1888\n",
      "Data columns (total 16 columns):\n",
      " #   Column                Non-Null Count  Dtype         \n",
      "---  ------                --------------  -----         \n",
      " 0   imdb_id               1889 non-null   object        \n",
      " 1   budget                1889 non-null   int64         \n",
      " 2   revenue               1889 non-null   int64         \n",
      " 3   original_title        1889 non-null   object        \n",
      " 4   cast                  1889 non-null   object        \n",
      " 5   director              1889 non-null   object        \n",
      " 6   tagline               1889 non-null   object        \n",
      " 7   overview              1889 non-null   object        \n",
      " 8   runtime               1889 non-null   int64         \n",
      " 9   genres                1889 non-null   object        \n",
      " 10  production_companies  1889 non-null   object        \n",
      " 11  release_date          1889 non-null   datetime64[ns]\n",
      " 12  vote_average          1889 non-null   float64       \n",
      " 13  release_year          1889 non-null   int64         \n",
      " 14  profit                1889 non-null   int64         \n",
      " 15  season                1889 non-null   object        \n",
      "dtypes: datetime64[ns](1), float64(1), int64(5), object(9)\n",
      "memory usage: 236.2+ KB\n"
     ]
    }
   ],
   "source": [
    "data.info()"
   ]
  },
  {
   "cell_type": "markdown",
   "metadata": {
    "colab_type": "text",
    "id": "YxZaH-nPVp-L"
   },
   "source": [
    "# 1. У какого фильма из списка самый большой бюджет?"
   ]
  },
  {
   "cell_type": "markdown",
   "metadata": {
    "colab_type": "text",
    "id": "Nd-G5gX6Vp-M"
   },
   "source": [
    "Использовать варианты ответов в коде решения запрещено.    \n",
    "Вы думаете и в жизни у вас будут варианты ответов?)"
   ]
  },
  {
   "cell_type": "code",
   "execution_count": 9,
   "metadata": {
    "colab": {},
    "colab_type": "code",
    "id": "uVnXAY5RVp-O"
   },
   "outputs": [],
   "source": [
    "answers['1'] = '723. Pirates of the Caribbean: On Stranger Tides (tt1298650)' # +"
   ]
  },
  {
   "cell_type": "code",
   "execution_count": 10,
   "metadata": {
    "colab": {},
    "colab_type": "code",
    "id": "dZwb3m28Vp-S"
   },
   "outputs": [
    {
     "name": "stdout",
     "output_type": "stream",
     "text": [
      "Answer 01: '723. Pirates of the Caribbean: On Stranger Tides (tt1298650)'\n"
     ]
    }
   ],
   "source": [
    "df_movie_max_budget = data.loc[data.budget == data.budget.max()]\n",
    "\n",
    "answer_01 = movie_info_by_index(df_movie_max_budget, df_movie_max_budget.index[0])\n",
    "\n",
    "print(f\"Answer 01: '{answer_01}'\")"
   ]
  },
  {
   "cell_type": "markdown",
   "metadata": {
    "colab_type": "text",
    "id": "K7L3nbRXVp-X"
   },
   "source": [
    "**ВАРИАНТ 2**"
   ]
  },
  {
   "cell_type": "code",
   "execution_count": 11,
   "metadata": {
    "colab": {},
    "colab_type": "code",
    "id": "OGaoQI7rVp-X"
   },
   "outputs": [
    {
     "name": "stdout",
     "output_type": "stream",
     "text": [
      "Answer 01: '723. Pirates of the Caribbean: On Stranger Tides (tt1298650)'\n"
     ]
    }
   ],
   "source": [
    "answer_01 = movie_info_by_index(data, data.budget.idxmax())\n",
    "\n",
    "print(f\"Answer 01: '{answer_01}'\")"
   ]
  },
  {
   "cell_type": "markdown",
   "metadata": {
    "colab_type": "text",
    "id": "FNRbbI3vVp-c"
   },
   "source": [
    "# 2. Какой из фильмов самый длительный (в минутах)?"
   ]
  },
  {
   "cell_type": "code",
   "execution_count": 12,
   "metadata": {
    "colab": {},
    "colab_type": "code",
    "id": "vHAoEXNTVp-d"
   },
   "outputs": [],
   "source": [
    "answers['2'] = '1157. Gods and Generals (tt0279111)' # +"
   ]
  },
  {
   "cell_type": "code",
   "execution_count": 13,
   "metadata": {
    "colab": {},
    "colab_type": "code",
    "id": "ot-VX2XrVp-g"
   },
   "outputs": [
    {
     "name": "stdout",
     "output_type": "stream",
     "text": [
      "Answer 02: '1157. Gods and Generals (tt0279111)'\n"
     ]
    }
   ],
   "source": [
    "df_movie_max_runtime = data.loc[data.runtime == data.runtime.max()]\n",
    "\n",
    "answer_02 = movie_info_by_index(df_movie_max_runtime, df_movie_max_runtime.index[0])\n",
    "\n",
    "print(f\"Answer 02: '{answer_02}'\")"
   ]
  },
  {
   "cell_type": "markdown",
   "metadata": {},
   "source": [
    "**ВАРИАНТ 2**"
   ]
  },
  {
   "cell_type": "code",
   "execution_count": 14,
   "metadata": {},
   "outputs": [
    {
     "name": "stdout",
     "output_type": "stream",
     "text": [
      "Answer 02: '1157. Gods and Generals (tt0279111)'\n"
     ]
    }
   ],
   "source": [
    "answer_02 = movie_info_by_index(data, data.runtime.idxmax())\n",
    "\n",
    "print(f\"Answer 02: '{answer_02}'\")"
   ]
  },
  {
   "cell_type": "markdown",
   "metadata": {
    "colab_type": "text",
    "id": "bapLlpW8Vp-k"
   },
   "source": [
    "# 3. Какой из фильмов самый короткий (в минутах)?\n",
    "\n",
    "\n",
    "\n"
   ]
  },
  {
   "cell_type": "code",
   "execution_count": 15,
   "metadata": {
    "colab": {},
    "colab_type": "code",
    "id": "YBxaSHuAVp-l"
   },
   "outputs": [],
   "source": [
    "answers['3'] = '768. Winnie the Pooh (tt1449283)' # +"
   ]
  },
  {
   "cell_type": "code",
   "execution_count": 16,
   "metadata": {},
   "outputs": [
    {
     "name": "stdout",
     "output_type": "stream",
     "text": [
      "Answer 03: '768. Winnie the Pooh (tt1449283)'\n"
     ]
    }
   ],
   "source": [
    "answer_03 = movie_info_by_index(data, data.runtime.idxmin())\n",
    "\n",
    "print(f\"Answer 03: '{answer_03}'\")"
   ]
  },
  {
   "cell_type": "markdown",
   "metadata": {
    "colab_type": "text",
    "id": "TfQbxbfNVp-p"
   },
   "source": [
    "# 4. Какова средняя длительность фильмов?\n"
   ]
  },
  {
   "cell_type": "code",
   "execution_count": 17,
   "metadata": {},
   "outputs": [],
   "source": [
    "answers['4'] = '110' # +"
   ]
  },
  {
   "cell_type": "code",
   "execution_count": 18,
   "metadata": {
    "colab": {},
    "colab_type": "code",
    "id": "5K6dKZYVVp-q"
   },
   "outputs": [
    {
     "name": "stdout",
     "output_type": "stream",
     "text": [
      "Answer 04: '110'\n"
     ]
    }
   ],
   "source": [
    "answer_04 = round(data.runtime.mean())\n",
    "print(f\"Answer 04: '{answer_04}'\")"
   ]
  },
  {
   "cell_type": "markdown",
   "metadata": {
    "colab_type": "text",
    "id": "r5TvbnT_Vp-u"
   },
   "source": [
    "# 5. Каково медианное значение длительности фильмов? "
   ]
  },
  {
   "cell_type": "code",
   "execution_count": 19,
   "metadata": {
    "colab": {},
    "colab_type": "code",
    "id": "iBROplKnVp-v"
   },
   "outputs": [],
   "source": [
    "answers['5'] = '107' # +"
   ]
  },
  {
   "cell_type": "code",
   "execution_count": 20,
   "metadata": {},
   "outputs": [
    {
     "name": "stdout",
     "output_type": "stream",
     "text": [
      "Answer 05: '107'\n"
     ]
    }
   ],
   "source": [
    "answer_05 = round(data.runtime.median())\n",
    "print(f\"Answer 05: '{answer_05}'\")"
   ]
  },
  {
   "cell_type": "markdown",
   "metadata": {
    "colab_type": "text",
    "id": "39P-deDSVp-y"
   },
   "source": [
    "# 6. Какой самый прибыльный фильм?\n",
    "#### Внимание! Здесь и далее под «прибылью» или «убытками» понимается разность между сборами и бюджетом фильма. (прибыль = сборы - бюджет) в нашем датасете это будет (profit = revenue - budget) "
   ]
  },
  {
   "cell_type": "code",
   "execution_count": 21,
   "metadata": {},
   "outputs": [],
   "source": [
    "answers['6'] = '239. Avatar (tt0499549)' # +"
   ]
  },
  {
   "cell_type": "code",
   "execution_count": 22,
   "metadata": {
    "colab": {},
    "colab_type": "code",
    "id": "UYZh4T9WVp-y"
   },
   "outputs": [
    {
     "name": "stdout",
     "output_type": "stream",
     "text": [
      "Answer 06: '239. Avatar (tt0499549)'\n"
     ]
    }
   ],
   "source": [
    "movie_index = data.profit.idxmax()\n",
    "answer_06 = movie_info_by_index(data, movie_index)\n",
    "\n",
    "print(f\"Answer 06: '{answer_06}'\")"
   ]
  },
  {
   "cell_type": "markdown",
   "metadata": {
    "colab_type": "text",
    "id": "M99JmIX4Vp-2"
   },
   "source": [
    "# 7. Какой фильм самый убыточный? "
   ]
  },
  {
   "cell_type": "code",
   "execution_count": 23,
   "metadata": {},
   "outputs": [],
   "source": [
    "answers['7'] = '1245. The Lone Ranger (tt1210819)' # +"
   ]
  },
  {
   "cell_type": "code",
   "execution_count": 24,
   "metadata": {
    "colab": {},
    "colab_type": "code",
    "id": "w-D2m4XPVp-3"
   },
   "outputs": [
    {
     "name": "stdout",
     "output_type": "stream",
     "text": [
      "Answer 07: '1245. The Lone Ranger (tt1210819)'\n"
     ]
    }
   ],
   "source": [
    "movie_index = data.profit.idxmin()\n",
    "answer_07 = movie_info_by_index(data, movie_index)\n",
    "\n",
    "print(f\"Answer 07: '{answer_07}'\")"
   ]
  },
  {
   "cell_type": "markdown",
   "metadata": {
    "colab_type": "text",
    "id": "wEOM5ERVVp-6"
   },
   "source": [
    "# 8. У скольких фильмов из датасета объем сборов оказался выше бюджета?"
   ]
  },
  {
   "cell_type": "code",
   "execution_count": 25,
   "metadata": {},
   "outputs": [],
   "source": [
    "answers['8'] = '1478' # +"
   ]
  },
  {
   "cell_type": "code",
   "execution_count": 26,
   "metadata": {
    "colab": {},
    "colab_type": "code",
    "id": "y00_7HD6Vp-7"
   },
   "outputs": [
    {
     "name": "stdout",
     "output_type": "stream",
     "text": [
      "Answer 08: '1478'\n"
     ]
    }
   ],
   "source": [
    "answer_08 = len(data.loc[data.revenue > data.budget])\n",
    "print(f\"Answer 08: '{answer_08}'\")"
   ]
  },
  {
   "cell_type": "markdown",
   "metadata": {
    "colab_type": "text",
    "id": "xhpspA9KVp_A"
   },
   "source": [
    "# 9. Какой фильм оказался самым кассовым в 2008 году?"
   ]
  },
  {
   "cell_type": "code",
   "execution_count": 27,
   "metadata": {},
   "outputs": [],
   "source": [
    "answers['9'] = '599. The Dark Knight (tt0468569)' # +"
   ]
  },
  {
   "cell_type": "code",
   "execution_count": 28,
   "metadata": {
    "colab": {},
    "colab_type": "code",
    "id": "MoUyQr9RVp_B"
   },
   "outputs": [
    {
     "name": "stdout",
     "output_type": "stream",
     "text": [
      "Answer 09: '599. The Dark Knight (tt0468569)'\n"
     ]
    }
   ],
   "source": [
    "movies_2008 = data.loc[data.release_year == 2008]\n",
    "\n",
    "movie_index = movies_2008.profit.idxmax()\n",
    "answer_09 = movie_info_by_index(movies_2008, movie_index)\n",
    "\n",
    "print(f\"Answer 09: '{answer_09}'\")"
   ]
  },
  {
   "cell_type": "markdown",
   "metadata": {
    "colab_type": "text",
    "id": "Zi4hDKidVp_F"
   },
   "source": [
    "# 10. Самый убыточный фильм за период с 2012 по 2014 г. (включительно)?\n"
   ]
  },
  {
   "cell_type": "code",
   "execution_count": 29,
   "metadata": {
    "colab": {},
    "colab_type": "code",
    "id": "XqyRmufJVp_F"
   },
   "outputs": [],
   "source": [
    "answers['10'] = '1245. The Lone Ranger (tt1210819)' # +"
   ]
  },
  {
   "cell_type": "code",
   "execution_count": 30,
   "metadata": {},
   "outputs": [
    {
     "name": "stdout",
     "output_type": "stream",
     "text": [
      "Answer 10: '1245. The Lone Ranger (tt1210819)'\n"
     ]
    }
   ],
   "source": [
    "movies_2012_2014 = data.loc[(2012 <= data.release_year) & (data.release_year <= 2014)]\n",
    "\n",
    "movie_index = movies_2012_2014.profit.idxmin()\n",
    "answer_10 = movie_info_by_index(movies_2012_2014, movie_index)\n",
    "\n",
    "print(f\"Answer 10: '{answer_10}'\")"
   ]
  },
  {
   "cell_type": "markdown",
   "metadata": {
    "colab_type": "text",
    "id": "EA7Sa9dkVp_I"
   },
   "source": [
    "# 11. Какого жанра фильмов больше всего?"
   ]
  },
  {
   "cell_type": "code",
   "execution_count": 31,
   "metadata": {},
   "outputs": [],
   "source": [
    "answers['11'] = 'Drama' # +"
   ]
  },
  {
   "cell_type": "code",
   "execution_count": 32,
   "metadata": {
    "colab": {},
    "colab_type": "code",
    "id": "zsJAwJ8QVp_J"
   },
   "outputs": [
    {
     "name": "stdout",
     "output_type": "stream",
     "text": [
      "Answer 11: 'Drama'\n"
     ]
    }
   ],
   "source": [
    "genre_counter = Counter()\n",
    "for index, row in data.iterrows():\n",
    "    for genre in row[\"genres\"]:\n",
    "        genre_counter.update({genre: 1})\n",
    "answer_11 = genre_counter.most_common(1)[0][0]\n",
    "\n",
    "print(f\"Answer 11: '{answer_11}'\")"
   ]
  },
  {
   "cell_type": "markdown",
   "metadata": {
    "colab_type": "text",
    "id": "Ax6g2C8SVp_M"
   },
   "source": [
    "ВАРИАНТ 2"
   ]
  },
  {
   "cell_type": "code",
   "execution_count": 33,
   "metadata": {
    "colab": {},
    "colab_type": "code",
    "id": "otO3SbrSVp_N"
   },
   "outputs": [
    {
     "name": "stdout",
     "output_type": "stream",
     "text": [
      "Answer 11: 'Drama'\n"
     ]
    }
   ],
   "source": [
    "data_by_genres = create_dataframe_split_column_list(data, \"genres\", \"imdb_id\")\n",
    "\n",
    "genre_counter = Counter()\n",
    "for index, row in data_by_genres.iterrows():\n",
    "    genre_counter.update({row[\"genres\"]: 1})\n",
    "\n",
    "answer_11 = genre_counter.most_common(1)[0][0]\n",
    "print(f\"Answer 11: '{answer_11}'\")"
   ]
  },
  {
   "cell_type": "markdown",
   "metadata": {},
   "source": [
    "ВАРИАНТ 3"
   ]
  },
  {
   "cell_type": "code",
   "execution_count": 34,
   "metadata": {},
   "outputs": [
    {
     "name": "stdout",
     "output_type": "stream",
     "text": [
      "Answer 11: 'Drama'\n"
     ]
    }
   ],
   "source": [
    "new_data = create_dataframe_column_full(data, \"genres\")\n",
    "\n",
    "genre_counter = Counter()\n",
    "for index, row in new_data.iterrows():\n",
    "    genre_counter.update({row[\"genres\"]: 1})\n",
    "\n",
    "answer_11 = genre_counter.most_common(1)[0][0]\n",
    "print(f\"Answer 11: '{answer_11}'\")"
   ]
  },
  {
   "cell_type": "markdown",
   "metadata": {},
   "source": [
    "ВАРИАНТ 4"
   ]
  },
  {
   "cell_type": "code",
   "execution_count": 35,
   "metadata": {},
   "outputs": [
    {
     "name": "stdout",
     "output_type": "stream",
     "text": [
      "Answer 11: 'Drama'\n"
     ]
    }
   ],
   "source": [
    "new_data = data.explode(\"genres\")\n",
    "\n",
    "genre_counter = Counter()\n",
    "for index, row in new_data.iterrows():\n",
    "    genre_counter.update({row[\"genres\"]: 1})\n",
    "\n",
    "answer_11 = genre_counter.most_common(1)[0][0]\n",
    "print(f\"Answer 11: '{answer_11}'\")"
   ]
  },
  {
   "cell_type": "markdown",
   "metadata": {
    "colab_type": "text",
    "id": "T9_bPWpkVp_Q"
   },
   "source": [
    "# 12. Фильмы какого жанра чаще всего становятся прибыльными? "
   ]
  },
  {
   "cell_type": "code",
   "execution_count": 36,
   "metadata": {},
   "outputs": [],
   "source": [
    "answers['12'] = 'Drama' # +"
   ]
  },
  {
   "cell_type": "code",
   "execution_count": 37,
   "metadata": {
    "colab": {},
    "colab_type": "code",
    "id": "Tmt8MaK1Vp_R"
   },
   "outputs": [
    {
     "name": "stdout",
     "output_type": "stream",
     "text": [
      "Answer 12: 'Drama'\n"
     ]
    }
   ],
   "source": [
    "new_data = data.explode(\"genres\")\n",
    "\n",
    "genre_profitable = Counter()\n",
    "for index, row in new_data.iterrows():\n",
    "    if(row[\"profit\"] > 0):\n",
    "        genre_profitable.update({row[\"genres\"]: 1})\n",
    "\n",
    "answer_12 = genre_profitable.most_common(1)[0][0]\n",
    "print(f\"Answer 12: '{answer_12}'\")"
   ]
  },
  {
   "cell_type": "markdown",
   "metadata": {
    "colab_type": "text",
    "id": "0F23bgsDVp_U"
   },
   "source": [
    "# 13. У какого режиссера самые большие суммарные кассовые сбооры?"
   ]
  },
  {
   "cell_type": "code",
   "execution_count": 38,
   "metadata": {},
   "outputs": [],
   "source": [
    "answers['13'] = 'Peter Jackson' # +"
   ]
  },
  {
   "cell_type": "code",
   "execution_count": 39,
   "metadata": {
    "colab": {},
    "colab_type": "code",
    "id": "K6Z3J8ygVp_X"
   },
   "outputs": [
    {
     "name": "stdout",
     "output_type": "stream",
     "text": [
      "Answer 13: 'Peter Jackson'\n"
     ]
    }
   ],
   "source": [
    "director_revenues = dict()\n",
    "\n",
    "for index, row in data.iterrows():\n",
    "    director = row[\"director\"]\n",
    "    revenue = row[\"revenue\"]\n",
    "    director_revenues[director] = (director_revenues[director] if director in director_revenues else 0) + revenue\n",
    "\n",
    "answer_13 = max(director_revenues, key=director_revenues.get)\n",
    "print(f\"Answer 13: '{answer_13}'\")"
   ]
  },
  {
   "cell_type": "markdown",
   "metadata": {
    "colab_type": "text",
    "id": "PsYC9FgRVp_a"
   },
   "source": [
    "# 14. Какой режисер снял больше всего фильмов в стиле Action?"
   ]
  },
  {
   "cell_type": "code",
   "execution_count": 40,
   "metadata": {
    "colab": {},
    "colab_type": "code",
    "id": "wd2M-wHeVp_b"
   },
   "outputs": [],
   "source": [
    "# Это один из вариантов ответа в тесте\n",
    "# реально подсчёт выдаёт другой ответ по двум режиссёрам с\n",
    "# максимальным числом фильмов в стиле Action,\n",
    "# которых вообще нет в ответах теста: Michael Bay - 7, Paul W.S. Anderson - 7.\n",
    "# Ручной просмотр моего скачанного с skillfactory CSV файла показал, что действитльно\n",
    "# режиссёры Michael Bay - 7, Paul W.S. Anderson - 7,\n",
    "# а режиссёры Robert Rodriguez - 6 и Ridley Scott - 6.\n",
    "# Тем не менее в тесте есть два варианта ответа - не Ridley Scott и Robert Rodriguez.\n",
    "# При этом верный вариант - Robert Rodriguez\n",
    "answers['14'] = 'Robert Rodriguez' # +"
   ]
  },
  {
   "cell_type": "code",
   "execution_count": 41,
   "metadata": {},
   "outputs": [
    {
     "name": "stdout",
     "output_type": "stream",
     "text": [
      "Answer 14:\n",
      "'Michael Bay           7\n",
      "Paul W.S. Anderson    7\n",
      "Robert Rodriguez      6\n",
      "Ridley Scott          6\n",
      "Antoine Fuqua         6\n",
      "Zack Snyder           5\n",
      "Rob Cohen             5\n",
      "Andrzej Bartkowiak    5\n",
      "Brett Ratner          5\n",
      "Roland Emmerich       5\n",
      "Name: director, dtype: int64'\n"
     ]
    }
   ],
   "source": [
    "data_genres = data.explode(\"genres\")\n",
    "answer_14 = data_genres[data_genres[\"genres\"] == \"Action\"][\"director\"].value_counts(sort=True).head(10)\n",
    "print(f\"Answer 14:\\n'{answer_14}'\")"
   ]
  },
  {
   "cell_type": "markdown",
   "metadata": {},
   "source": [
    "ВАРИАНТ 2"
   ]
  },
  {
   "cell_type": "code",
   "execution_count": 42,
   "metadata": {
    "colab": {},
    "colab_type": "code",
    "id": "aga62oeKVp_g"
   },
   "outputs": [
    {
     "name": "stdout",
     "output_type": "stream",
     "text": [
      "Answer 14:\n",
      "'[('Michael Bay', 7), ('Paul W.S. Anderson', 7), ('Antoine Fuqua', 6), ('Ridley Scott', 6), ('Robert Rodriguez', 6), ('Brett Ratner', 5), ('Zack Snyder', 5), ('Roland Emmerich', 5), ('Andrzej Bartkowiak', 5), ('Tony Scott', 5)]'\n"
     ]
    }
   ],
   "source": [
    "director_genres = Counter()\n",
    "for index, row in data.iterrows():\n",
    "    if \"Action\" in row[\"genres\"]:\n",
    "        director_genres.update({row[\"director\"]: 1})\n",
    "\n",
    "answer_14 = director_genres.most_common(10)\n",
    "print(f\"Answer 14:\\n'{answer_14}'\")"
   ]
  },
  {
   "cell_type": "markdown",
   "metadata": {
    "colab_type": "text",
    "id": "PQ0KciD7Vp_f"
   },
   "source": [
    "# 15. Фильмы с каким актером принесли самые высокие кассовые сборы в 2012 году? "
   ]
  },
  {
   "cell_type": "code",
   "execution_count": 43,
   "metadata": {},
   "outputs": [],
   "source": [
    "answers['15'] = 'Chris Hemsworth' # +"
   ]
  },
  {
   "cell_type": "code",
   "execution_count": 44,
   "metadata": {},
   "outputs": [
    {
     "name": "stdout",
     "output_type": "stream",
     "text": [
      "Answer 15: 'Chris Hemsworth' (2027450773)\n"
     ]
    }
   ],
   "source": [
    "data_cast = data[data[\"release_year\"] == 2012].explode(\"cast\")\n",
    "pivot = pd.pivot_table(data_cast, index=[\"release_year\"], columns=[\"cast\"], values=[\"revenue\"], aggfunc=np.sum)\n",
    "actor_movie_revenues = pivot.iloc[0].sort_values(ascending=False)\n",
    "\n",
    "answer_15 = actor_movie_revenues.index[0][1]\n",
    "print(f\"Answer 15: '{answer_15}' ({actor_movie_revenues.iloc[0]})\")"
   ]
  },
  {
   "cell_type": "markdown",
   "metadata": {
    "colab_type": "text",
    "id": "mWHyyL7QVp_j"
   },
   "source": [
    "# 16. Какой актер снялся в большем количестве высокобюджетных фильмов?"
   ]
  },
  {
   "cell_type": "code",
   "execution_count": 45,
   "metadata": {
    "colab": {},
    "colab_type": "code",
    "id": "qQtmHKTFVp_k"
   },
   "outputs": [],
   "source": [
    "answers['16'] = 'Matt Damon' # +"
   ]
  },
  {
   "cell_type": "code",
   "execution_count": 46,
   "metadata": {},
   "outputs": [
    {
     "name": "stdout",
     "output_type": "stream",
     "text": [
      "Answer 16: 'Matt Damon' (23)\n"
     ]
    }
   ],
   "source": [
    "categorie_A_budget_min = data[\"budget\"].quantile(q=0.5) # a high budget movie, median()\n",
    "actors_high_budget = data[data[\"budget\"] >= categorie_A_budget_min].explode(\"cast\")[\"cast\"]\\\n",
    "                        .value_counts(sort=True, ascending=False)\n",
    "answer_16 = actors_high_budget.index[0]\n",
    "print(f\"Answer 16: '{answer_16}' ({actors_high_budget.iloc[0]})\")"
   ]
  },
  {
   "cell_type": "markdown",
   "metadata": {
    "colab_type": "text",
    "id": "NIh6AaW5Vp_n"
   },
   "source": [
    "# 17. В фильмах какого жанра больше всего снимался Nicolas Cage? "
   ]
  },
  {
   "cell_type": "code",
   "execution_count": 47,
   "metadata": {},
   "outputs": [],
   "source": [
    "answers['17'] = 'Action' # +"
   ]
  },
  {
   "cell_type": "code",
   "execution_count": 48,
   "metadata": {
    "colab": {},
    "colab_type": "code",
    "id": "H74SJDIBVp_n"
   },
   "outputs": [
    {
     "name": "stdout",
     "output_type": "stream",
     "text": [
      "Answer 17: 'Action' (17)\n"
     ]
    }
   ],
   "source": [
    "data_cast = data.explode(\"cast\")\n",
    "data_Nicolas_Cage = data_cast[data_cast[\"cast\"] == \"Nicolas Cage\"]\n",
    "data_Nicolas_Cage_genres = data_Nicolas_Cage.explode(\"genres\")\n",
    "genres_counts = data_Nicolas_Cage_genres[\"genres\"].value_counts(sort=True, ascending=False)\n",
    "\n",
    "answer_17 = genres_counts.index[0]\n",
    "print(f\"Answer 17: '{answer_17}' ({genres_counts.iloc[0]})\")"
   ]
  },
  {
   "cell_type": "markdown",
   "metadata": {
    "colab_type": "text",
    "id": "RqOmPRfWVp_q"
   },
   "source": [
    "# 18. Самый убыточный фильм от Paramount Pictures"
   ]
  },
  {
   "cell_type": "code",
   "execution_count": 49,
   "metadata": {
    "colab": {},
    "colab_type": "code",
    "id": "9E_B0Y96Vp_r"
   },
   "outputs": [],
   "source": [
    "answers['18'] = 'K-19: The Widowmaker (tt0267626)' # +"
   ]
  },
  {
   "cell_type": "code",
   "execution_count": 50,
   "metadata": {},
   "outputs": [
    {
     "name": "stdout",
     "output_type": "stream",
     "text": [
      "Answer 18: 'K-19: The Widowmaker (tt0267626)'\n"
     ]
    }
   ],
   "source": [
    "data_companies = data.explode(\"production_companies\")\n",
    "data_Paramount = data_companies[data_companies[\"production_companies\"] == \"Paramount Pictures\"]\n",
    "most_unprofitable_film = data_Paramount[data_Paramount[\"profit\"] == data_Paramount[\"profit\"].min()].iloc[0]\n",
    "\n",
    "answer_18 = f\"{most_unprofitable_film['original_title']} ({most_unprofitable_film['imdb_id']})\"\n",
    "print(f\"Answer 18: '{answer_18}'\")"
   ]
  },
  {
   "cell_type": "markdown",
   "metadata": {
    "colab_type": "text",
    "id": "vS8Ur6ddVp_u"
   },
   "source": [
    "# 19. Какой год стал самым успешным по суммарным кассовым сборам?"
   ]
  },
  {
   "cell_type": "code",
   "execution_count": 51,
   "metadata": {},
   "outputs": [],
   "source": [
    "answers['19'] = '2015' # +"
   ]
  },
  {
   "cell_type": "code",
   "execution_count": 52,
   "metadata": {
    "colab": {},
    "colab_type": "code",
    "id": "Dnbt4GdIVp_v"
   },
   "outputs": [
    {
     "name": "stdout",
     "output_type": "stream",
     "text": [
      "Answer 19: '2015' (25449202382)\n"
     ]
    }
   ],
   "source": [
    "year_revenue = data.groupby([\"release_year\"])[\"revenue\"].sum().sort_values(ascending=False)\n",
    "\n",
    "answer_19 = year_revenue.index[0]\n",
    "print(f\"Answer 19: '{answer_19}' ({year_revenue.iloc[0]})\")"
   ]
  },
  {
   "cell_type": "markdown",
   "metadata": {
    "colab_type": "text",
    "id": "JAzJh4QAVp_z"
   },
   "source": [
    "# 20. Какой самый прибыльный год для студии Warner Bros?"
   ]
  },
  {
   "cell_type": "code",
   "execution_count": 53,
   "metadata": {},
   "outputs": [],
   "source": [
    "answers['20'] = '2014' # +"
   ]
  },
  {
   "cell_type": "code",
   "execution_count": 54,
   "metadata": {
    "colab": {},
    "colab_type": "code",
    "id": "wgVu02DEVp_0"
   },
   "outputs": [
    {
     "name": "stdout",
     "output_type": "stream",
     "text": [
      "Answer 20: '2014' (2292949646)\n"
     ]
    }
   ],
   "source": [
    "data_companies = data.explode(\"production_companies\")\n",
    "data_Warner = data_companies[data_companies[\"production_companies\"].str.contains(\"Warner Bros\")]\n",
    "year_revenue_Warner = data_Warner.groupby(\"release_year\")[\"profit\"].sum().sort_values(ascending=False)\n",
    "\n",
    "answer_20 = year_revenue_Warner.index[0]\n",
    "print(f\"Answer 20: '{answer_20}' ({year_revenue_Warner.iloc[0]})\")"
   ]
  },
  {
   "cell_type": "markdown",
   "metadata": {
    "colab_type": "text",
    "id": "8Im1S2HRVp_4"
   },
   "source": [
    "# 21. В каком месяце за все годы суммарно вышло больше всего фильмов?"
   ]
  },
  {
   "cell_type": "code",
   "execution_count": 55,
   "metadata": {},
   "outputs": [],
   "source": [
    "answers['21'] = 'Сентябрь' # +, September"
   ]
  },
  {
   "cell_type": "code",
   "execution_count": 56,
   "metadata": {
    "colab": {},
    "colab_type": "code",
    "id": "lev6TH7gVp_4"
   },
   "outputs": [
    {
     "name": "stdout",
     "output_type": "stream",
     "text": [
      "Answer 21: 'September' (227)\n"
     ]
    }
   ],
   "source": [
    "films_monthly = data.groupby(data[\"release_date\"].dt.strftime(\"%B\"))[\"imdb_id\"] \\\n",
    "                    .count().sort_values(ascending=False)\n",
    "films_monthly = films_monthly.rename(\"Movies by Month\")\n",
    "films_monthly.index = films_monthly.index.rename(\"month\")\n",
    "\n",
    "answer_21 = films_monthly.index[0]\n",
    "print(f\"Answer 21: '{answer_21}' ({films_monthly.iloc[0]})\")"
   ]
  },
  {
   "cell_type": "markdown",
   "metadata": {
    "colab_type": "text",
    "id": "uAJsZ_NeVp_7"
   },
   "source": [
    "# 22. Сколько суммарно вышло фильмов летом? (за июнь, июль, август)"
   ]
  },
  {
   "cell_type": "code",
   "execution_count": 57,
   "metadata": {},
   "outputs": [],
   "source": [
    "answers['22'] = '450' # +"
   ]
  },
  {
   "cell_type": "code",
   "execution_count": 58,
   "metadata": {
    "colab": {},
    "colab_type": "code",
    "id": "Aa-hEREoVp_8"
   },
   "outputs": [
    {
     "name": "stdout",
     "output_type": "stream",
     "text": [
      "Answer 22: '450'\n"
     ]
    }
   ],
   "source": [
    "films_monthly = data.groupby(data[\"release_date\"].dt.strftime(\"%B\"))[\"imdb_id\"] \\\n",
    "                    .count().sort_values(ascending=False)\n",
    "films_monthly = films_monthly.rename(\"Movies by Month\")\n",
    "films_monthly.index = films_monthly.index.rename(\"month\")\n",
    "\n",
    "answer_22 = films_monthly[[\"July\", \"June\", \"August\"]].sum()\n",
    "print(f\"Answer 22: '{answer_22}'\")"
   ]
  },
  {
   "cell_type": "markdown",
   "metadata": {
    "colab_type": "text",
    "id": "G94ppOY1VqAA"
   },
   "source": [
    "# 23. Для какого режиссера зима – самое продуктивное время года? "
   ]
  },
  {
   "cell_type": "code",
   "execution_count": 59,
   "metadata": {},
   "outputs": [],
   "source": [
    "answers['23'] = 'Peter Jackson' # +"
   ]
  },
  {
   "cell_type": "code",
   "execution_count": 60,
   "metadata": {
    "colab": {},
    "colab_type": "code",
    "id": "RhNTsamuVqAB"
   },
   "outputs": [
    {
     "name": "stdout",
     "output_type": "stream",
     "text": [
      "Answer 23: 'Peter Jackson' (7)\n"
     ]
    }
   ],
   "source": [
    "director_season = pd.pivot_table(data, index=[\"director\"], columns=[\"season\"], values=[\"imdb_id\"],\n",
    "                                 aggfunc=\"count\", fill_value=0)\n",
    "\n",
    "director_season_imdb_id = director_season[\"imdb_id\"]\n",
    "# director_season[director_season[\"Winter\"] = ]\n",
    "winter_director = director_season_imdb_id[director_season_imdb_id[\"Winter\"] == director_season_imdb_id[\"Winter\"].max()].index[0]\n",
    "\n",
    "answer_23 = winter_director\n",
    "print(f\"Answer 23: '{answer_23}' ({director_season_imdb_id.loc[answer_23].Winter})\")"
   ]
  },
  {
   "cell_type": "markdown",
   "metadata": {
    "colab_type": "text",
    "id": "RBo0JVjVVqAF"
   },
   "source": [
    "# 24. Какая студия дает самые длинные названия своим фильмам по количеству символов?"
   ]
  },
  {
   "cell_type": "code",
   "execution_count": 61,
   "metadata": {},
   "outputs": [],
   "source": [
    "answers['24'] = 'Four By Two Productions' # +"
   ]
  },
  {
   "cell_type": "code",
   "execution_count": 62,
   "metadata": {
    "colab": {},
    "colab_type": "code",
    "id": "QRGS8L0iVqAG"
   },
   "outputs": [
    {
     "name": "stdout",
     "output_type": "stream",
     "text": [
      "Answer 24: 'Four By Two Productions' (83.0)\n"
     ]
    }
   ],
   "source": [
    "company_titles = data.explode(\"production_companies\") \\\n",
    "                    .groupby(\"production_companies\")[\"original_title\"] \\\n",
    "                    .apply(lambda titles: np.mean(titles.str.len())) \\\n",
    "                    .sort_values(ascending=False)\n",
    "\n",
    "answer_24 = company_titles.index[0]\n",
    "print(f\"Answer 24: '{answer_24}' ({company_titles.iloc[0]})\")"
   ]
  },
  {
   "cell_type": "markdown",
   "metadata": {
    "colab_type": "text",
    "id": "9G0hbvR7VqAK"
   },
   "source": [
    "# 25. Описание фильмов какой студии в среднем самые длинные по количеству слов?"
   ]
  },
  {
   "cell_type": "code",
   "execution_count": 63,
   "metadata": {
    "colab": {},
    "colab_type": "code",
    "id": "Ge2GsLNxVqAK"
   },
   "outputs": [],
   "source": [
    "answers['25'] = 'Midnight Picture Show' # +"
   ]
  },
  {
   "cell_type": "code",
   "execution_count": 64,
   "metadata": {},
   "outputs": [
    {
     "name": "stdout",
     "output_type": "stream",
     "text": [
      "Answer 25: 'Midnight Picture Show' (175.0)\n"
     ]
    }
   ],
   "source": [
    "company_overview = data.explode(\"production_companies\") \\\n",
    "                    .groupby(\"production_companies\")[\"overview\"] \\\n",
    "                    .apply(lambda titles:\\\n",
    "                               np.mean(titles.str.split(' ').apply(lambda it: len(it))) ) \\\n",
    "                    .sort_values(ascending=False)\n",
    "\n",
    "answer_25 = company_overview.index[0]\n",
    "print(f\"Answer 25: '{answer_25}' ({company_overview.iloc[0]})\")"
   ]
  },
  {
   "cell_type": "markdown",
   "metadata": {
    "colab_type": "text",
    "id": "FJ1AFt90VqAP"
   },
   "source": [
    "# 26. Какие фильмы входят в 1 процент лучших по рейтингу? \n",
    "по vote_average"
   ]
  },
  {
   "cell_type": "code",
   "execution_count": 65,
   "metadata": {},
   "outputs": [],
   "source": [
    "answers['26'] = 'Inside Out, The Dark Knight, 12 Years a Slave' # +"
   ]
  },
  {
   "cell_type": "code",
   "execution_count": 66,
   "metadata": {
    "colab": {},
    "colab_type": "code",
    "id": "8qmJVq4CVqAQ"
   },
   "outputs": [
    {
     "name": "stdout",
     "output_type": "stream",
     "text": [
      "Answer 26: 'Inside Out, The Dark Knight, 12 Years a Slave'\n"
     ]
    },
    {
     "data": {
      "text/html": [
       "<div>\n",
       "<style scoped>\n",
       "    .dataframe tbody tr th:only-of-type {\n",
       "        vertical-align: middle;\n",
       "    }\n",
       "\n",
       "    .dataframe tbody tr th {\n",
       "        vertical-align: top;\n",
       "    }\n",
       "\n",
       "    .dataframe thead th {\n",
       "        text-align: right;\n",
       "    }\n",
       "</style>\n",
       "<table border=\"1\" class=\"dataframe\">\n",
       "  <thead>\n",
       "    <tr style=\"text-align: right;\">\n",
       "      <th></th>\n",
       "      <th>imdb_id</th>\n",
       "      <th>budget</th>\n",
       "      <th>revenue</th>\n",
       "      <th>original_title</th>\n",
       "      <th>cast</th>\n",
       "      <th>director</th>\n",
       "      <th>tagline</th>\n",
       "      <th>overview</th>\n",
       "      <th>runtime</th>\n",
       "      <th>genres</th>\n",
       "      <th>production_companies</th>\n",
       "      <th>release_date</th>\n",
       "      <th>vote_average</th>\n",
       "      <th>release_year</th>\n",
       "      <th>profit</th>\n",
       "      <th>season</th>\n",
       "    </tr>\n",
       "  </thead>\n",
       "  <tbody>\n",
       "    <tr>\n",
       "      <th>599</th>\n",
       "      <td>tt0468569</td>\n",
       "      <td>185000000</td>\n",
       "      <td>1001921825</td>\n",
       "      <td>The Dark Knight</td>\n",
       "      <td>[Christian Bale, Michael Caine, Heath Ledger, ...</td>\n",
       "      <td>Christopher Nolan</td>\n",
       "      <td>Why So Serious?</td>\n",
       "      <td>Batman raises the stakes in his war on crime. ...</td>\n",
       "      <td>152</td>\n",
       "      <td>[Drama, Action, Crime, Thriller]</td>\n",
       "      <td>[DC Comics, Legendary Pictures, Warner Bros., ...</td>\n",
       "      <td>2008-07-16</td>\n",
       "      <td>8.1</td>\n",
       "      <td>2008</td>\n",
       "      <td>816921825</td>\n",
       "      <td>Summer</td>\n",
       "    </tr>\n",
       "    <tr>\n",
       "      <th>9</th>\n",
       "      <td>tt2096673</td>\n",
       "      <td>175000000</td>\n",
       "      <td>853708609</td>\n",
       "      <td>Inside Out</td>\n",
       "      <td>[Amy Poehler, Phyllis Smith, Richard Kind, Bil...</td>\n",
       "      <td>Pete Docter</td>\n",
       "      <td>Meet the little voices inside your head.</td>\n",
       "      <td>Growing up can be a bumpy road, and it's no ex...</td>\n",
       "      <td>94</td>\n",
       "      <td>[Comedy, Animation, Family]</td>\n",
       "      <td>[Walt Disney Pictures, Pixar Animation Studios...</td>\n",
       "      <td>2015-06-09</td>\n",
       "      <td>8.0</td>\n",
       "      <td>2015</td>\n",
       "      <td>678708609</td>\n",
       "      <td>Summer</td>\n",
       "    </tr>\n",
       "    <tr>\n",
       "      <th>34</th>\n",
       "      <td>tt3170832</td>\n",
       "      <td>6000000</td>\n",
       "      <td>35401758</td>\n",
       "      <td>Room</td>\n",
       "      <td>[Brie Larson, Jacob Tremblay, Joan Allen, Sean...</td>\n",
       "      <td>Lenny Abrahamson</td>\n",
       "      <td>Love knows no boundaries</td>\n",
       "      <td>Jack is a young boy of 5 years old who has liv...</td>\n",
       "      <td>117</td>\n",
       "      <td>[Drama, Thriller]</td>\n",
       "      <td>[Element Pictures, No Trace Camping, A24, Dupe...</td>\n",
       "      <td>2015-10-16</td>\n",
       "      <td>8.0</td>\n",
       "      <td>2015</td>\n",
       "      <td>29401758</td>\n",
       "      <td>Autumn</td>\n",
       "    </tr>\n",
       "    <tr>\n",
       "      <th>118</th>\n",
       "      <td>tt0816692</td>\n",
       "      <td>165000000</td>\n",
       "      <td>621752480</td>\n",
       "      <td>Interstellar</td>\n",
       "      <td>[Matthew McConaughey, Jessica Chastain, Anne H...</td>\n",
       "      <td>Christopher Nolan</td>\n",
       "      <td>Mankind was born on Earth. It was never meant ...</td>\n",
       "      <td>Interstellar chronicles the adventures of a gr...</td>\n",
       "      <td>169</td>\n",
       "      <td>[Adventure, Drama, Science Fiction]</td>\n",
       "      <td>[Paramount Pictures, Legendary Pictures, Warne...</td>\n",
       "      <td>2014-11-05</td>\n",
       "      <td>8.0</td>\n",
       "      <td>2014</td>\n",
       "      <td>456752480</td>\n",
       "      <td>Autumn</td>\n",
       "    </tr>\n",
       "    <tr>\n",
       "      <th>125</th>\n",
       "      <td>tt2084970</td>\n",
       "      <td>14000000</td>\n",
       "      <td>233555708</td>\n",
       "      <td>The Imitation Game</td>\n",
       "      <td>[Benedict Cumberbatch, Keira Knightley, Matthe...</td>\n",
       "      <td>Morten Tyldum</td>\n",
       "      <td>The true enigma was the man who cracked the code.</td>\n",
       "      <td>Based on the real life story of legendary cryp...</td>\n",
       "      <td>113</td>\n",
       "      <td>[History, Drama, Thriller, War]</td>\n",
       "      <td>[Black Bear Pictures, Bristol Automotive]</td>\n",
       "      <td>2014-11-14</td>\n",
       "      <td>8.0</td>\n",
       "      <td>2014</td>\n",
       "      <td>219555708</td>\n",
       "      <td>Autumn</td>\n",
       "    </tr>\n",
       "    <tr>\n",
       "      <th>370</th>\n",
       "      <td>tt1375666</td>\n",
       "      <td>160000000</td>\n",
       "      <td>825500000</td>\n",
       "      <td>Inception</td>\n",
       "      <td>[Leonardo DiCaprio, Joseph Gordon-Levitt, Elle...</td>\n",
       "      <td>Christopher Nolan</td>\n",
       "      <td>Your mind is the scene of the crime.</td>\n",
       "      <td>Cobb, a skilled thief who commits corporate es...</td>\n",
       "      <td>148</td>\n",
       "      <td>[Action, Thriller, Science Fiction, Mystery, A...</td>\n",
       "      <td>[Legendary Pictures, Warner Bros., Syncopy]</td>\n",
       "      <td>2010-07-14</td>\n",
       "      <td>7.9</td>\n",
       "      <td>2010</td>\n",
       "      <td>665500000</td>\n",
       "      <td>Summer</td>\n",
       "    </tr>\n",
       "    <tr>\n",
       "      <th>1191</th>\n",
       "      <td>tt2024544</td>\n",
       "      <td>20000000</td>\n",
       "      <td>187000000</td>\n",
       "      <td>12 Years a Slave</td>\n",
       "      <td>[Chiwetel Ejiofor, Michael Fassbender, Lupita ...</td>\n",
       "      <td>Steve McQueen</td>\n",
       "      <td>The extraordinary true story of Solomon Northup</td>\n",
       "      <td>In the pre-Civil War United States, Solomon No...</td>\n",
       "      <td>134</td>\n",
       "      <td>[Drama, History]</td>\n",
       "      <td>[Plan B Entertainment, Regency Enterprises, Ri...</td>\n",
       "      <td>2013-10-18</td>\n",
       "      <td>7.9</td>\n",
       "      <td>2013</td>\n",
       "      <td>167000000</td>\n",
       "      <td>Autumn</td>\n",
       "    </tr>\n",
       "    <tr>\n",
       "      <th>1183</th>\n",
       "      <td>tt0993846</td>\n",
       "      <td>100000000</td>\n",
       "      <td>392000694</td>\n",
       "      <td>The Wolf of Wall Street</td>\n",
       "      <td>[Leonardo DiCaprio, Jonah Hill, Margot Robbie,...</td>\n",
       "      <td>Martin Scorsese</td>\n",
       "      <td>EARN. SPEND. PARTY.</td>\n",
       "      <td>A New York stockbroker refuses to cooperate in...</td>\n",
       "      <td>180</td>\n",
       "      <td>[Crime, Drama, Comedy]</td>\n",
       "      <td>[Paramount Pictures, Appian Way, EMJAG Product...</td>\n",
       "      <td>2013-12-25</td>\n",
       "      <td>7.9</td>\n",
       "      <td>2013</td>\n",
       "      <td>292000694</td>\n",
       "      <td>Winter</td>\n",
       "    </tr>\n",
       "    <tr>\n",
       "      <th>1081</th>\n",
       "      <td>tt0167260</td>\n",
       "      <td>94000000</td>\n",
       "      <td>1118888979</td>\n",
       "      <td>The Lord of the Rings: The Return of the King</td>\n",
       "      <td>[Elijah Wood, Ian McKellen, Viggo Mortensen, L...</td>\n",
       "      <td>Peter Jackson</td>\n",
       "      <td>The eye of the enemy is moving.</td>\n",
       "      <td>Aragorn is revealed as the heir to the ancient...</td>\n",
       "      <td>201</td>\n",
       "      <td>[Adventure, Fantasy, Action]</td>\n",
       "      <td>[WingNut Films, New Line Cinema]</td>\n",
       "      <td>2003-12-01</td>\n",
       "      <td>7.9</td>\n",
       "      <td>2003</td>\n",
       "      <td>1024888979</td>\n",
       "      <td>Winter</td>\n",
       "    </tr>\n",
       "    <tr>\n",
       "      <th>872</th>\n",
       "      <td>tt0253474</td>\n",
       "      <td>35000000</td>\n",
       "      <td>120072577</td>\n",
       "      <td>The Pianist</td>\n",
       "      <td>[Adrien Brody, Thomas Kretschmann, Frank Finla...</td>\n",
       "      <td>Roman Polanski</td>\n",
       "      <td>Music was his passion. Survival was his master...</td>\n",
       "      <td>The Pianist is a film adapted from the biograp...</td>\n",
       "      <td>150</td>\n",
       "      <td>[Drama, War]</td>\n",
       "      <td>[Bac Films, Canal+Polska, Heritage Films, Stud...</td>\n",
       "      <td>2002-09-24</td>\n",
       "      <td>7.9</td>\n",
       "      <td>2002</td>\n",
       "      <td>85072577</td>\n",
       "      <td>Autumn</td>\n",
       "    </tr>\n",
       "    <tr>\n",
       "      <th>1800</th>\n",
       "      <td>tt0209144</td>\n",
       "      <td>9000000</td>\n",
       "      <td>39723096</td>\n",
       "      <td>Memento</td>\n",
       "      <td>[Guy Pearce, Carrie-Anne Moss, Joe Pantoliano,...</td>\n",
       "      <td>Christopher Nolan</td>\n",
       "      <td>Some memories are best forgotten.</td>\n",
       "      <td>Suffering short-term memory loss after a head ...</td>\n",
       "      <td>113</td>\n",
       "      <td>[Mystery, Thriller]</td>\n",
       "      <td>[Summit Entertainment, Newmarket Capital Group...</td>\n",
       "      <td>2000-10-11</td>\n",
       "      <td>7.9</td>\n",
       "      <td>2000</td>\n",
       "      <td>30723096</td>\n",
       "      <td>Autumn</td>\n",
       "    </tr>\n",
       "    <tr>\n",
       "      <th>119</th>\n",
       "      <td>tt2015381</td>\n",
       "      <td>170000000</td>\n",
       "      <td>773312399</td>\n",
       "      <td>Guardians of the Galaxy</td>\n",
       "      <td>[Chris Pratt, Zoe Saldana, Dave Bautista, Vin ...</td>\n",
       "      <td>James Gunn</td>\n",
       "      <td>All heroes start somewhere.</td>\n",
       "      <td>Light years from Earth, 26 years after being a...</td>\n",
       "      <td>121</td>\n",
       "      <td>[Action, Science Fiction, Adventure]</td>\n",
       "      <td>[Marvel Studios, Moving Picture Company (MPC),...</td>\n",
       "      <td>2014-07-30</td>\n",
       "      <td>7.9</td>\n",
       "      <td>2014</td>\n",
       "      <td>603312399</td>\n",
       "      <td>Summer</td>\n",
       "    </tr>\n",
       "    <tr>\n",
       "      <th>138</th>\n",
       "      <td>tt2278388</td>\n",
       "      <td>30000000</td>\n",
       "      <td>174600318</td>\n",
       "      <td>The Grand Budapest Hotel</td>\n",
       "      <td>[Ralph Fiennes, Tony Revolori, F. Murray Abrah...</td>\n",
       "      <td>Wes Anderson</td>\n",
       "      <td>A perfect holiday without leaving home.</td>\n",
       "      <td>The Grand Budapest Hotel tells of a legendary ...</td>\n",
       "      <td>99</td>\n",
       "      <td>[Comedy, Drama]</td>\n",
       "      <td>[Fox Searchlight Pictures, Scott Rudin Product...</td>\n",
       "      <td>2014-02-26</td>\n",
       "      <td>7.9</td>\n",
       "      <td>2014</td>\n",
       "      <td>144600318</td>\n",
       "      <td>Winter</td>\n",
       "    </tr>\n",
       "    <tr>\n",
       "      <th>128</th>\n",
       "      <td>tt2267998</td>\n",
       "      <td>61000000</td>\n",
       "      <td>369330363</td>\n",
       "      <td>Gone Girl</td>\n",
       "      <td>[Ben Affleck, Rosamund Pike, Carrie Coon, Neil...</td>\n",
       "      <td>David Fincher</td>\n",
       "      <td>You don't know what you've got 'til it's...</td>\n",
       "      <td>With his wife's disappearance having become th...</td>\n",
       "      <td>145</td>\n",
       "      <td>[Mystery, Thriller, Drama]</td>\n",
       "      <td>[Twentieth Century Fox Film Corporation, Regen...</td>\n",
       "      <td>2014-10-01</td>\n",
       "      <td>7.9</td>\n",
       "      <td>2014</td>\n",
       "      <td>308330363</td>\n",
       "      <td>Autumn</td>\n",
       "    </tr>\n",
       "    <tr>\n",
       "      <th>283</th>\n",
       "      <td>tt0485947</td>\n",
       "      <td>47000000</td>\n",
       "      <td>3547209</td>\n",
       "      <td>Mr. Nobody</td>\n",
       "      <td>[Jared Leto, Diane Kruger, Linh Äan Pháº¡m, Sa...</td>\n",
       "      <td>Jaco Van Dormael</td>\n",
       "      <td>Nothing is real, everything is possible.</td>\n",
       "      <td>Nemo Nobody leads an ordinary existence with h...</td>\n",
       "      <td>141</td>\n",
       "      <td>[Science Fiction, Drama, Romance, Fantasy]</td>\n",
       "      <td>[Pan EuropÃ©enne Production, Virtual Films]</td>\n",
       "      <td>2009-09-11</td>\n",
       "      <td>7.8</td>\n",
       "      <td>2009</td>\n",
       "      <td>-43452791</td>\n",
       "      <td>Autumn</td>\n",
       "    </tr>\n",
       "    <tr>\n",
       "      <th>1688</th>\n",
       "      <td>tt0469494</td>\n",
       "      <td>25000000</td>\n",
       "      <td>76181545</td>\n",
       "      <td>There Will Be Blood</td>\n",
       "      <td>[Daniel Day-Lewis, Paul Dano, Dillon Freasier,...</td>\n",
       "      <td>Paul Thomas Anderson</td>\n",
       "      <td>There Will Be Greed. There Will Be Vengeance.</td>\n",
       "      <td>When ruthless oil prospector, Daniel Plainview...</td>\n",
       "      <td>158</td>\n",
       "      <td>[Drama]</td>\n",
       "      <td>[Miramax Films, Ghoulardi Film Company, Paramo...</td>\n",
       "      <td>2007-12-28</td>\n",
       "      <td>7.8</td>\n",
       "      <td>2007</td>\n",
       "      <td>51181545</td>\n",
       "      <td>Winter</td>\n",
       "    </tr>\n",
       "    <tr>\n",
       "      <th>1563</th>\n",
       "      <td>tt0338013</td>\n",
       "      <td>20000000</td>\n",
       "      <td>72258126</td>\n",
       "      <td>Eternal Sunshine of the Spotless Mind</td>\n",
       "      <td>[Jim Carrey, Kate Winslet, Elijah Wood, Mark R...</td>\n",
       "      <td>Michel Gondry</td>\n",
       "      <td>I already forget how I used to feel about you.</td>\n",
       "      <td>Joel Barish, heartbroken that his girlfriend u...</td>\n",
       "      <td>108</td>\n",
       "      <td>[Science Fiction, Drama, Romance]</td>\n",
       "      <td>[Anonymous Content, This Is That Productions, ...</td>\n",
       "      <td>2004-03-19</td>\n",
       "      <td>7.8</td>\n",
       "      <td>2004</td>\n",
       "      <td>52258126</td>\n",
       "      <td>Spring</td>\n",
       "    </tr>\n",
       "    <tr>\n",
       "      <th>1444</th>\n",
       "      <td>tt0482571</td>\n",
       "      <td>40000000</td>\n",
       "      <td>109676311</td>\n",
       "      <td>The Prestige</td>\n",
       "      <td>[Hugh Jackman, Christian Bale, Michael Caine, ...</td>\n",
       "      <td>Christopher Nolan</td>\n",
       "      <td>Are You Watching Closely?</td>\n",
       "      <td>A mysterious story of two magicians whose inte...</td>\n",
       "      <td>130</td>\n",
       "      <td>[Drama, Mystery, Thriller]</td>\n",
       "      <td>[Touchstone Pictures, Syncopy]</td>\n",
       "      <td>2006-10-19</td>\n",
       "      <td>7.8</td>\n",
       "      <td>2006</td>\n",
       "      <td>69676311</td>\n",
       "      <td>Autumn</td>\n",
       "    </tr>\n",
       "    <tr>\n",
       "      <th>1213</th>\n",
       "      <td>tt0790636</td>\n",
       "      <td>5000000</td>\n",
       "      <td>55198285</td>\n",
       "      <td>Dallas Buyers Club</td>\n",
       "      <td>[Matthew McConaughey, Jennifer Garner, Jared L...</td>\n",
       "      <td>Jean-Marc VallÃ©e</td>\n",
       "      <td>Sometimes it takes a hustler to change the world</td>\n",
       "      <td>Loosely based on the true-life tale of Ron Woo...</td>\n",
       "      <td>117</td>\n",
       "      <td>[Drama, History]</td>\n",
       "      <td>[Universal Studios, Universal Pictures, Voltag...</td>\n",
       "      <td>2013-09-07</td>\n",
       "      <td>7.8</td>\n",
       "      <td>2013</td>\n",
       "      <td>50198285</td>\n",
       "      <td>Autumn</td>\n",
       "    </tr>\n",
       "    <tr>\n",
       "      <th>1205</th>\n",
       "      <td>tt1392214</td>\n",
       "      <td>46000000</td>\n",
       "      <td>122126687</td>\n",
       "      <td>Prisoners</td>\n",
       "      <td>[Hugh Jackman, Jake Gyllenhaal, Paul Dano, Mar...</td>\n",
       "      <td>Denis Villeneuve</td>\n",
       "      <td>Every moment matters.</td>\n",
       "      <td>When Keller Dover's daughter and her friend go...</td>\n",
       "      <td>153</td>\n",
       "      <td>[Drama, Thriller, Crime]</td>\n",
       "      <td>[Alcon Entertainment, Madhouse Entertainment, ...</td>\n",
       "      <td>2013-09-18</td>\n",
       "      <td>7.8</td>\n",
       "      <td>2013</td>\n",
       "      <td>76126687</td>\n",
       "      <td>Autumn</td>\n",
       "    </tr>\n",
       "    <tr>\n",
       "      <th>124</th>\n",
       "      <td>tt2245084</td>\n",
       "      <td>165000000</td>\n",
       "      <td>652105443</td>\n",
       "      <td>Big Hero 6</td>\n",
       "      <td>[Scott Adsit, Ryan Potter, Daniel Henney, T.J....</td>\n",
       "      <td>Don Hall|Chris Williams</td>\n",
       "      <td>From the creators of Wreck-it Ralph and Frozen</td>\n",
       "      <td>The special bond that develops between plus-si...</td>\n",
       "      <td>102</td>\n",
       "      <td>[Adventure, Family, Animation, Action, Comedy]</td>\n",
       "      <td>[Walt Disney Pictures, Walt Disney Animation S...</td>\n",
       "      <td>2014-10-24</td>\n",
       "      <td>7.8</td>\n",
       "      <td>2014</td>\n",
       "      <td>487105443</td>\n",
       "      <td>Autumn</td>\n",
       "    </tr>\n",
       "    <tr>\n",
       "      <th>1188</th>\n",
       "      <td>tt1798709</td>\n",
       "      <td>23000000</td>\n",
       "      <td>47351251</td>\n",
       "      <td>Her</td>\n",
       "      <td>[Joaquin Phoenix, Scarlett Johansson, Rooney M...</td>\n",
       "      <td>Spike Jonze</td>\n",
       "      <td>A Spike Jonze Love Story</td>\n",
       "      <td>In the not so distant future, Theodore, a lone...</td>\n",
       "      <td>126</td>\n",
       "      <td>[Romance, Science Fiction, Drama]</td>\n",
       "      <td>[Annapurna Pictures]</td>\n",
       "      <td>2013-12-18</td>\n",
       "      <td>7.8</td>\n",
       "      <td>2013</td>\n",
       "      <td>24351251</td>\n",
       "      <td>Winter</td>\n",
       "    </tr>\n",
       "    <tr>\n",
       "      <th>316</th>\n",
       "      <td>tt1187043</td>\n",
       "      <td>9000000</td>\n",
       "      <td>70000000</td>\n",
       "      <td>3 Idiots</td>\n",
       "      <td>[Aamir Khan, Kareena Kapoor, Madhavan, Sharman...</td>\n",
       "      <td>Rajkumar Hirani</td>\n",
       "      <td>Don't BE A STUPID BE AN I.D.I.O.T.</td>\n",
       "      <td>In the tradition of â€œFerris Buellerâ€™s Day ...</td>\n",
       "      <td>170</td>\n",
       "      <td>[Drama, Comedy, Romance]</td>\n",
       "      <td>[Vidhu Vinod Chopra Productions]</td>\n",
       "      <td>2009-12-23</td>\n",
       "      <td>7.8</td>\n",
       "      <td>2009</td>\n",
       "      <td>61000000</td>\n",
       "      <td>Winter</td>\n",
       "    </tr>\n",
       "    <tr>\n",
       "      <th>863</th>\n",
       "      <td>tt0167261</td>\n",
       "      <td>79000000</td>\n",
       "      <td>926287400</td>\n",
       "      <td>The Lord of the Rings: The Two Towers</td>\n",
       "      <td>[Elijah Wood, Ian McKellen, Viggo Mortensen, L...</td>\n",
       "      <td>Peter Jackson</td>\n",
       "      <td>A New Power Is Rising.</td>\n",
       "      <td>Frodo and Sam are trekking to Mordor to destro...</td>\n",
       "      <td>179</td>\n",
       "      <td>[Adventure, Fantasy, Action]</td>\n",
       "      <td>[WingNut Films, New Line Cinema, The Saul Zaen...</td>\n",
       "      <td>2002-12-18</td>\n",
       "      <td>7.8</td>\n",
       "      <td>2002</td>\n",
       "      <td>847287400</td>\n",
       "      <td>Winter</td>\n",
       "    </tr>\n",
       "    <tr>\n",
       "      <th>155</th>\n",
       "      <td>tt2980516</td>\n",
       "      <td>15000000</td>\n",
       "      <td>121201940</td>\n",
       "      <td>The Theory of Everything</td>\n",
       "      <td>[Eddie Redmayne, Felicity Jones, Harry Lloyd, ...</td>\n",
       "      <td>James Marsh</td>\n",
       "      <td>His Mind Changed Our World. Her Love Changed His.</td>\n",
       "      <td>A look at the relationship between the famous ...</td>\n",
       "      <td>123</td>\n",
       "      <td>[Drama, Romance]</td>\n",
       "      <td>[Working Title Films]</td>\n",
       "      <td>2014-11-26</td>\n",
       "      <td>7.8</td>\n",
       "      <td>2014</td>\n",
       "      <td>106201940</td>\n",
       "      <td>Autumn</td>\n",
       "    </tr>\n",
       "    <tr>\n",
       "      <th>28</th>\n",
       "      <td>tt1895587</td>\n",
       "      <td>20000000</td>\n",
       "      <td>88346473</td>\n",
       "      <td>Spotlight</td>\n",
       "      <td>[Mark Ruffalo, Michael Keaton, Rachel McAdams,...</td>\n",
       "      <td>Tom McCarthy</td>\n",
       "      <td>Break the story. Break the silence.</td>\n",
       "      <td>The true story of how The Boston Globe uncover...</td>\n",
       "      <td>128</td>\n",
       "      <td>[Drama, Thriller, History]</td>\n",
       "      <td>[Participant Media, Open Road Films, Anonymous...</td>\n",
       "      <td>2015-11-06</td>\n",
       "      <td>7.8</td>\n",
       "      <td>2015</td>\n",
       "      <td>68346473</td>\n",
       "      <td>Autumn</td>\n",
       "    </tr>\n",
       "    <tr>\n",
       "      <th>177</th>\n",
       "      <td>tt2582846</td>\n",
       "      <td>12000000</td>\n",
       "      <td>305151265</td>\n",
       "      <td>The Fault in Our Stars</td>\n",
       "      <td>[Shailene Woodley, Ansel Elgort, Nat Wolff, La...</td>\n",
       "      <td>Josh Boone</td>\n",
       "      <td>One Sick Love Story</td>\n",
       "      <td>Despite the tumor-shrinking medical miracle th...</td>\n",
       "      <td>125</td>\n",
       "      <td>[Romance, Drama]</td>\n",
       "      <td>[Fox 2000 Pictures, Temple Hill Entertainment,...</td>\n",
       "      <td>2014-05-16</td>\n",
       "      <td>7.8</td>\n",
       "      <td>2014</td>\n",
       "      <td>293151265</td>\n",
       "      <td>Spring</td>\n",
       "    </tr>\n",
       "    <tr>\n",
       "      <th>496</th>\n",
       "      <td>tt0120737</td>\n",
       "      <td>93000000</td>\n",
       "      <td>871368364</td>\n",
       "      <td>The Lord of the Rings: The Fellowship of the Ring</td>\n",
       "      <td>[Elijah Wood, Ian McKellen, Viggo Mortensen, L...</td>\n",
       "      <td>Peter Jackson</td>\n",
       "      <td>One ring to rule them all</td>\n",
       "      <td>Young hobbit Frodo Baggins, after inheriting a...</td>\n",
       "      <td>178</td>\n",
       "      <td>[Adventure, Fantasy, Action]</td>\n",
       "      <td>[WingNut Films, New Line Cinema, The Saul Zaen...</td>\n",
       "      <td>2001-12-18</td>\n",
       "      <td>7.8</td>\n",
       "      <td>2001</td>\n",
       "      <td>778368364</td>\n",
       "      <td>Winter</td>\n",
       "    </tr>\n",
       "  </tbody>\n",
       "</table>\n",
       "</div>"
      ],
      "text/plain": [
       "        imdb_id     budget     revenue  \\\n",
       "599   tt0468569  185000000  1001921825   \n",
       "9     tt2096673  175000000   853708609   \n",
       "34    tt3170832    6000000    35401758   \n",
       "118   tt0816692  165000000   621752480   \n",
       "125   tt2084970   14000000   233555708   \n",
       "370   tt1375666  160000000   825500000   \n",
       "1191  tt2024544   20000000   187000000   \n",
       "1183  tt0993846  100000000   392000694   \n",
       "1081  tt0167260   94000000  1118888979   \n",
       "872   tt0253474   35000000   120072577   \n",
       "1800  tt0209144    9000000    39723096   \n",
       "119   tt2015381  170000000   773312399   \n",
       "138   tt2278388   30000000   174600318   \n",
       "128   tt2267998   61000000   369330363   \n",
       "283   tt0485947   47000000     3547209   \n",
       "1688  tt0469494   25000000    76181545   \n",
       "1563  tt0338013   20000000    72258126   \n",
       "1444  tt0482571   40000000   109676311   \n",
       "1213  tt0790636    5000000    55198285   \n",
       "1205  tt1392214   46000000   122126687   \n",
       "124   tt2245084  165000000   652105443   \n",
       "1188  tt1798709   23000000    47351251   \n",
       "316   tt1187043    9000000    70000000   \n",
       "863   tt0167261   79000000   926287400   \n",
       "155   tt2980516   15000000   121201940   \n",
       "28    tt1895587   20000000    88346473   \n",
       "177   tt2582846   12000000   305151265   \n",
       "496   tt0120737   93000000   871368364   \n",
       "\n",
       "                                         original_title  \\\n",
       "599                                     The Dark Knight   \n",
       "9                                            Inside Out   \n",
       "34                                                 Room   \n",
       "118                                        Interstellar   \n",
       "125                                  The Imitation Game   \n",
       "370                                           Inception   \n",
       "1191                                   12 Years a Slave   \n",
       "1183                            The Wolf of Wall Street   \n",
       "1081      The Lord of the Rings: The Return of the King   \n",
       "872                                         The Pianist   \n",
       "1800                                            Memento   \n",
       "119                             Guardians of the Galaxy   \n",
       "138                            The Grand Budapest Hotel   \n",
       "128                                           Gone Girl   \n",
       "283                                          Mr. Nobody   \n",
       "1688                                There Will Be Blood   \n",
       "1563              Eternal Sunshine of the Spotless Mind   \n",
       "1444                                       The Prestige   \n",
       "1213                                 Dallas Buyers Club   \n",
       "1205                                          Prisoners   \n",
       "124                                          Big Hero 6   \n",
       "1188                                                Her   \n",
       "316                                            3 Idiots   \n",
       "863               The Lord of the Rings: The Two Towers   \n",
       "155                            The Theory of Everything   \n",
       "28                                            Spotlight   \n",
       "177                              The Fault in Our Stars   \n",
       "496   The Lord of the Rings: The Fellowship of the Ring   \n",
       "\n",
       "                                                   cast  \\\n",
       "599   [Christian Bale, Michael Caine, Heath Ledger, ...   \n",
       "9     [Amy Poehler, Phyllis Smith, Richard Kind, Bil...   \n",
       "34    [Brie Larson, Jacob Tremblay, Joan Allen, Sean...   \n",
       "118   [Matthew McConaughey, Jessica Chastain, Anne H...   \n",
       "125   [Benedict Cumberbatch, Keira Knightley, Matthe...   \n",
       "370   [Leonardo DiCaprio, Joseph Gordon-Levitt, Elle...   \n",
       "1191  [Chiwetel Ejiofor, Michael Fassbender, Lupita ...   \n",
       "1183  [Leonardo DiCaprio, Jonah Hill, Margot Robbie,...   \n",
       "1081  [Elijah Wood, Ian McKellen, Viggo Mortensen, L...   \n",
       "872   [Adrien Brody, Thomas Kretschmann, Frank Finla...   \n",
       "1800  [Guy Pearce, Carrie-Anne Moss, Joe Pantoliano,...   \n",
       "119   [Chris Pratt, Zoe Saldana, Dave Bautista, Vin ...   \n",
       "138   [Ralph Fiennes, Tony Revolori, F. Murray Abrah...   \n",
       "128   [Ben Affleck, Rosamund Pike, Carrie Coon, Neil...   \n",
       "283   [Jared Leto, Diane Kruger, Linh Äan Pháº¡m, Sa...   \n",
       "1688  [Daniel Day-Lewis, Paul Dano, Dillon Freasier,...   \n",
       "1563  [Jim Carrey, Kate Winslet, Elijah Wood, Mark R...   \n",
       "1444  [Hugh Jackman, Christian Bale, Michael Caine, ...   \n",
       "1213  [Matthew McConaughey, Jennifer Garner, Jared L...   \n",
       "1205  [Hugh Jackman, Jake Gyllenhaal, Paul Dano, Mar...   \n",
       "124   [Scott Adsit, Ryan Potter, Daniel Henney, T.J....   \n",
       "1188  [Joaquin Phoenix, Scarlett Johansson, Rooney M...   \n",
       "316   [Aamir Khan, Kareena Kapoor, Madhavan, Sharman...   \n",
       "863   [Elijah Wood, Ian McKellen, Viggo Mortensen, L...   \n",
       "155   [Eddie Redmayne, Felicity Jones, Harry Lloyd, ...   \n",
       "28    [Mark Ruffalo, Michael Keaton, Rachel McAdams,...   \n",
       "177   [Shailene Woodley, Ansel Elgort, Nat Wolff, La...   \n",
       "496   [Elijah Wood, Ian McKellen, Viggo Mortensen, L...   \n",
       "\n",
       "                     director  \\\n",
       "599         Christopher Nolan   \n",
       "9                 Pete Docter   \n",
       "34           Lenny Abrahamson   \n",
       "118         Christopher Nolan   \n",
       "125             Morten Tyldum   \n",
       "370         Christopher Nolan   \n",
       "1191            Steve McQueen   \n",
       "1183          Martin Scorsese   \n",
       "1081            Peter Jackson   \n",
       "872            Roman Polanski   \n",
       "1800        Christopher Nolan   \n",
       "119                James Gunn   \n",
       "138              Wes Anderson   \n",
       "128             David Fincher   \n",
       "283          Jaco Van Dormael   \n",
       "1688     Paul Thomas Anderson   \n",
       "1563            Michel Gondry   \n",
       "1444        Christopher Nolan   \n",
       "1213        Jean-Marc VallÃ©e   \n",
       "1205         Denis Villeneuve   \n",
       "124   Don Hall|Chris Williams   \n",
       "1188              Spike Jonze   \n",
       "316           Rajkumar Hirani   \n",
       "863             Peter Jackson   \n",
       "155               James Marsh   \n",
       "28               Tom McCarthy   \n",
       "177                Josh Boone   \n",
       "496             Peter Jackson   \n",
       "\n",
       "                                                tagline  \\\n",
       "599                                     Why So Serious?   \n",
       "9              Meet the little voices inside your head.   \n",
       "34                             Love knows no boundaries   \n",
       "118   Mankind was born on Earth. It was never meant ...   \n",
       "125   The true enigma was the man who cracked the code.   \n",
       "370                Your mind is the scene of the crime.   \n",
       "1191    The extraordinary true story of Solomon Northup   \n",
       "1183                                EARN. SPEND. PARTY.   \n",
       "1081                    The eye of the enemy is moving.   \n",
       "872   Music was his passion. Survival was his master...   \n",
       "1800                  Some memories are best forgotten.   \n",
       "119                         All heroes start somewhere.   \n",
       "138             A perfect holiday without leaving home.   \n",
       "128         You don't know what you've got 'til it's...   \n",
       "283            Nothing is real, everything is possible.   \n",
       "1688      There Will Be Greed. There Will Be Vengeance.   \n",
       "1563     I already forget how I used to feel about you.   \n",
       "1444                          Are You Watching Closely?   \n",
       "1213   Sometimes it takes a hustler to change the world   \n",
       "1205                              Every moment matters.   \n",
       "124      From the creators of Wreck-it Ralph and Frozen   \n",
       "1188                           A Spike Jonze Love Story   \n",
       "316                  Don't BE A STUPID BE AN I.D.I.O.T.   \n",
       "863                              A New Power Is Rising.   \n",
       "155   His Mind Changed Our World. Her Love Changed His.   \n",
       "28                  Break the story. Break the silence.   \n",
       "177                                 One Sick Love Story   \n",
       "496                           One ring to rule them all   \n",
       "\n",
       "                                               overview  runtime  \\\n",
       "599   Batman raises the stakes in his war on crime. ...      152   \n",
       "9     Growing up can be a bumpy road, and it's no ex...       94   \n",
       "34    Jack is a young boy of 5 years old who has liv...      117   \n",
       "118   Interstellar chronicles the adventures of a gr...      169   \n",
       "125   Based on the real life story of legendary cryp...      113   \n",
       "370   Cobb, a skilled thief who commits corporate es...      148   \n",
       "1191  In the pre-Civil War United States, Solomon No...      134   \n",
       "1183  A New York stockbroker refuses to cooperate in...      180   \n",
       "1081  Aragorn is revealed as the heir to the ancient...      201   \n",
       "872   The Pianist is a film adapted from the biograp...      150   \n",
       "1800  Suffering short-term memory loss after a head ...      113   \n",
       "119   Light years from Earth, 26 years after being a...      121   \n",
       "138   The Grand Budapest Hotel tells of a legendary ...       99   \n",
       "128   With his wife's disappearance having become th...      145   \n",
       "283   Nemo Nobody leads an ordinary existence with h...      141   \n",
       "1688  When ruthless oil prospector, Daniel Plainview...      158   \n",
       "1563  Joel Barish, heartbroken that his girlfriend u...      108   \n",
       "1444  A mysterious story of two magicians whose inte...      130   \n",
       "1213  Loosely based on the true-life tale of Ron Woo...      117   \n",
       "1205  When Keller Dover's daughter and her friend go...      153   \n",
       "124   The special bond that develops between plus-si...      102   \n",
       "1188  In the not so distant future, Theodore, a lone...      126   \n",
       "316   In the tradition of â€œFerris Buellerâ€™s Day ...      170   \n",
       "863   Frodo and Sam are trekking to Mordor to destro...      179   \n",
       "155   A look at the relationship between the famous ...      123   \n",
       "28    The true story of how The Boston Globe uncover...      128   \n",
       "177   Despite the tumor-shrinking medical miracle th...      125   \n",
       "496   Young hobbit Frodo Baggins, after inheriting a...      178   \n",
       "\n",
       "                                                 genres  \\\n",
       "599                    [Drama, Action, Crime, Thriller]   \n",
       "9                           [Comedy, Animation, Family]   \n",
       "34                                    [Drama, Thriller]   \n",
       "118                 [Adventure, Drama, Science Fiction]   \n",
       "125                     [History, Drama, Thriller, War]   \n",
       "370   [Action, Thriller, Science Fiction, Mystery, A...   \n",
       "1191                                   [Drama, History]   \n",
       "1183                             [Crime, Drama, Comedy]   \n",
       "1081                       [Adventure, Fantasy, Action]   \n",
       "872                                        [Drama, War]   \n",
       "1800                                [Mystery, Thriller]   \n",
       "119                [Action, Science Fiction, Adventure]   \n",
       "138                                     [Comedy, Drama]   \n",
       "128                          [Mystery, Thriller, Drama]   \n",
       "283          [Science Fiction, Drama, Romance, Fantasy]   \n",
       "1688                                            [Drama]   \n",
       "1563                  [Science Fiction, Drama, Romance]   \n",
       "1444                         [Drama, Mystery, Thriller]   \n",
       "1213                                   [Drama, History]   \n",
       "1205                           [Drama, Thriller, Crime]   \n",
       "124      [Adventure, Family, Animation, Action, Comedy]   \n",
       "1188                  [Romance, Science Fiction, Drama]   \n",
       "316                            [Drama, Comedy, Romance]   \n",
       "863                        [Adventure, Fantasy, Action]   \n",
       "155                                    [Drama, Romance]   \n",
       "28                           [Drama, Thriller, History]   \n",
       "177                                    [Romance, Drama]   \n",
       "496                        [Adventure, Fantasy, Action]   \n",
       "\n",
       "                                   production_companies release_date  \\\n",
       "599   [DC Comics, Legendary Pictures, Warner Bros., ...   2008-07-16   \n",
       "9     [Walt Disney Pictures, Pixar Animation Studios...   2015-06-09   \n",
       "34    [Element Pictures, No Trace Camping, A24, Dupe...   2015-10-16   \n",
       "118   [Paramount Pictures, Legendary Pictures, Warne...   2014-11-05   \n",
       "125           [Black Bear Pictures, Bristol Automotive]   2014-11-14   \n",
       "370         [Legendary Pictures, Warner Bros., Syncopy]   2010-07-14   \n",
       "1191  [Plan B Entertainment, Regency Enterprises, Ri...   2013-10-18   \n",
       "1183  [Paramount Pictures, Appian Way, EMJAG Product...   2013-12-25   \n",
       "1081                   [WingNut Films, New Line Cinema]   2003-12-01   \n",
       "872   [Bac Films, Canal+Polska, Heritage Films, Stud...   2002-09-24   \n",
       "1800  [Summit Entertainment, Newmarket Capital Group...   2000-10-11   \n",
       "119   [Marvel Studios, Moving Picture Company (MPC),...   2014-07-30   \n",
       "138   [Fox Searchlight Pictures, Scott Rudin Product...   2014-02-26   \n",
       "128   [Twentieth Century Fox Film Corporation, Regen...   2014-10-01   \n",
       "283         [Pan EuropÃ©enne Production, Virtual Films]   2009-09-11   \n",
       "1688  [Miramax Films, Ghoulardi Film Company, Paramo...   2007-12-28   \n",
       "1563  [Anonymous Content, This Is That Productions, ...   2004-03-19   \n",
       "1444                     [Touchstone Pictures, Syncopy]   2006-10-19   \n",
       "1213  [Universal Studios, Universal Pictures, Voltag...   2013-09-07   \n",
       "1205  [Alcon Entertainment, Madhouse Entertainment, ...   2013-09-18   \n",
       "124   [Walt Disney Pictures, Walt Disney Animation S...   2014-10-24   \n",
       "1188                               [Annapurna Pictures]   2013-12-18   \n",
       "316                    [Vidhu Vinod Chopra Productions]   2009-12-23   \n",
       "863   [WingNut Films, New Line Cinema, The Saul Zaen...   2002-12-18   \n",
       "155                               [Working Title Films]   2014-11-26   \n",
       "28    [Participant Media, Open Road Films, Anonymous...   2015-11-06   \n",
       "177   [Fox 2000 Pictures, Temple Hill Entertainment,...   2014-05-16   \n",
       "496   [WingNut Films, New Line Cinema, The Saul Zaen...   2001-12-18   \n",
       "\n",
       "      vote_average  release_year      profit  season  \n",
       "599            8.1          2008   816921825  Summer  \n",
       "9              8.0          2015   678708609  Summer  \n",
       "34             8.0          2015    29401758  Autumn  \n",
       "118            8.0          2014   456752480  Autumn  \n",
       "125            8.0          2014   219555708  Autumn  \n",
       "370            7.9          2010   665500000  Summer  \n",
       "1191           7.9          2013   167000000  Autumn  \n",
       "1183           7.9          2013   292000694  Winter  \n",
       "1081           7.9          2003  1024888979  Winter  \n",
       "872            7.9          2002    85072577  Autumn  \n",
       "1800           7.9          2000    30723096  Autumn  \n",
       "119            7.9          2014   603312399  Summer  \n",
       "138            7.9          2014   144600318  Winter  \n",
       "128            7.9          2014   308330363  Autumn  \n",
       "283            7.8          2009   -43452791  Autumn  \n",
       "1688           7.8          2007    51181545  Winter  \n",
       "1563           7.8          2004    52258126  Spring  \n",
       "1444           7.8          2006    69676311  Autumn  \n",
       "1213           7.8          2013    50198285  Autumn  \n",
       "1205           7.8          2013    76126687  Autumn  \n",
       "124            7.8          2014   487105443  Autumn  \n",
       "1188           7.8          2013    24351251  Winter  \n",
       "316            7.8          2009    61000000  Winter  \n",
       "863            7.8          2002   847287400  Winter  \n",
       "155            7.8          2014   106201940  Autumn  \n",
       "28             7.8          2015    68346473  Autumn  \n",
       "177            7.8          2014   293151265  Spring  \n",
       "496            7.8          2001   778368364  Winter  "
      ]
     },
     "execution_count": 66,
     "metadata": {},
     "output_type": "execute_result"
    }
   ],
   "source": [
    "# Последний процентиль из 100 (0.99 или 99ᵗʰ)\n",
    "best_rating = data[data[\"vote_average\"] >= data[\"vote_average\"].quantile(0.99)] \\\n",
    "                .sort_values(by=\"vote_average\", ascending=False)\n",
    "\n",
    "# ===========\n",
    "# Можно уменьшить число строк в итоговой выборке так, чтобы\n",
    "# число лучших фильмом по отношению к их полному числу\n",
    "# именно в _этом конкретном_ входном наборе данных\n",
    "# составляло действительно число, близкое к 1% (_проценту_).\n",
    "# Если раскомментировать код ниже, то получается число фильмов ~= 0.95% от общего.\n",
    "# При этом ответ вычисляется такой же.\n",
    "\n",
    "# percent = 1.0\n",
    "# total_film_number = len(data)\n",
    "# film_percentage = lambda: ( len(best_rating) / total_film_number) * 100\n",
    "\n",
    "# films_found = film_percentage()\n",
    "# if film_percentage() > percent:\n",
    "#     print(f\"Percent of best films if greater than {percent}%: {round(film_percentage(), 2)}%; droping rows...\")\n",
    "#     while film_percentage() > percent:\n",
    "#         best_rating.drop(best_rating.tail(1).index, inplace=True)\n",
    "#     print(f\"Percent of best films is now {round(film_percentage(), 2)}%.\")\n",
    "\n",
    "# ===========\n",
    "\n",
    "# ===========\n",
    "# Поскольку один процент оставшихся лучших фильмов (по процентилю 0.99) всё равно представляет\n",
    "# собой достаточно большое число в абсолютном выражении, а других\n",
    "# более точных критериев поиска нет, то я всё же решил проверить итоговую таблицу\n",
    "# по _всем_ вариантам ответа из теста, чтобы не искать вручную.\n",
    "check_films_in = lambda films: \\\n",
    "                    len(best_rating[best_rating.original_title.isin(films)]) == len(films)\n",
    "\n",
    "answer_options = [\n",
    "    [\"Inside Out\", \"The Dark Knight\", \"12 Years a Slave\"],\n",
    "    [\"BloodRayne\", \"The Adventures of Rocky & Bullwinkle\"],\n",
    "    [\"Batman Begins\", \"The Lord of the Rings: The Return of the King\", \"Upside Down\"],\n",
    "    [\"300\", \"Lucky Number Slevin\", \"Kill Bill: Vol. 1\"],\n",
    "    [\"Upside Down\", \"Inside Out\", \"Iron Man\"]\n",
    "]\n",
    "# ===========\n",
    "\n",
    "# ===========\n",
    "# Получение ответа\n",
    "answer_26 = next(answer_option for answer_option in answer_options if check_films_in(answer_option))\n",
    "answer_26 = \", \".join(answer_26)\n",
    "print(f\"Answer 26: '{answer_26}'\")\n",
    "# ===========\n",
    "\n",
    "# ===========\n",
    "# Распечатка выборки лучших фильмов\n",
    "best_rating"
   ]
  },
  {
   "cell_type": "markdown",
   "metadata": {
    "colab_type": "text",
    "id": "MdXsUXbCVqAV"
   },
   "source": [
    "# 27. Какие актеры чаще всего снимаются в одном фильме вместе?\n"
   ]
  },
  {
   "cell_type": "code",
   "execution_count": 67,
   "metadata": {},
   "outputs": [],
   "source": [
    "answers['27'] = 'Daniel Radcliffe & Rupert Grint' # +"
   ]
  },
  {
   "cell_type": "code",
   "execution_count": 68,
   "metadata": {},
   "outputs": [
    {
     "name": "stdout",
     "output_type": "stream",
     "text": [
      "Row initial count: 1889\n",
      "Removed single actor films: 1888\n",
      "Answer 27:\n",
      "\t✔ Daniel Radcliffe & Emma Watson -> 8\n",
      "\t✔ Daniel Radcliffe & Rupert Grint -> 8\n",
      "\t✔ Emma Watson & Rupert Grint -> 8\n",
      "\t✔ Ben Stiller & Owen Wilson -> 6\n",
      "\t✔ Helena Bonham Carter & Johnny Depp -> 6\n",
      "\t✔ Adam Sandler & Kevin James -> 5\n",
      "\t✔ Hugh Jackman & Ian McKellen -> 5\n",
      "\t✔ Kristen Stewart & Robert Pattinson -> 5\n",
      "\t✔ Kristen Stewart & Taylor Lautner -> 5\n",
      "\t✔ Paul Walker & Vin Diesel -> 5\n",
      "\t✔ Robert Pattinson & Taylor Lautner -> 5\n",
      "\t✔ Betsy Russell & Costas Mandylor -> 4\n",
      "\t✔ Betsy Russell & Tobin Bell -> 4\n",
      "\t✔ Brad Pitt & George Clooney -> 4\n",
      "\t✔ Brad Pitt & Julia Roberts -> 4\n"
     ]
    }
   ],
   "source": [
    "participations = pd.pivot_table(data.explode(\"cast\"),\n",
    "                                index=[\"imdb_id\"], columns=[\"cast\"], values=[\"original_title\"],\n",
    "                                aggfunc=lambda x: len(x) != 0, fill_value=False)\n",
    "\n",
    "participations = participations[\"original_title\"]\n",
    "print(f\"Row initial count: {len(participations)}\")\n",
    "\n",
    "participations = participations[participations.sum(axis=1) > 1]\n",
    "print(f\"Removed single actor films: {len(participations)}\")\n",
    "\n",
    "actors = participations.columns.tolist()\n",
    "actor_colleage_counter = Counter()\n",
    "actor_eq_colleague = False\n",
    "for actor in actors:\n",
    "    actor_films = participations[participations[actor] == True]\n",
    "\n",
    "    # Выбираем колонки актёров, включая текущего actor,\n",
    "    # у которых количество значений True (= 1) в из колонках в сумме больше одного.\n",
    "    actor_films = actor_films.loc[:, actor_films.sum(axis=0) > 1]\n",
    "    if len(actor_films.columns) == 0 or len(actor_films.columns) == 1:\n",
    "        # Актёр мог играть во многих фильмах (его колонка заполнена одними True),\n",
    "        # но лишь по одному разу с каждым из актёров в этих фильмах\n",
    "        continue\n",
    "\n",
    "    # Добавляем строку с итоговыми суммами всех True (= 1) в колонке каждого актёра,\n",
    "    # с которыми actor играл совместно; там будут числа >= 2\n",
    "    actor_films = actor_films.append(actor_films.sum(), ignore_index=True)\n",
    "\n",
    "    # 1. Берём список колонок в подтаблице actor_films для актёра actor,\n",
    "    # игравшего с другими актёрами\n",
    "    actor_films_columns = actor_films.columns.tolist()\n",
    "    # 2. Выясняем индекс колонки актёра actor, чтобы исключить из подсчёта\n",
    "    # все колонки актёров до колонки actor (мы уже по ним прошлись на предыдущих итерациях,\n",
    "    # составив уже пары актёров, включая текущего actor, как одного из коллег) и\n",
    "    # саму колонку actor (чтобы не считать разы, когда актёр играл сам с собой).\n",
    "    actor_index = actor_films_columns.index(actor)\n",
    "    # 3. Берём все колонки актёров после колонки actor.\n",
    "    sub_columns = actor_films_columns[actor_index + 1:] if actor_index < len(actor_films_columns) - 1 \\\n",
    "                                                        else []\n",
    "\n",
    "    # Последняя строка таблицы, с итоговыми суммами по совместным фильмам,\n",
    "    # преобразуется в объект Series, где индексом являются имена коллег актёра actor,\n",
    "    # сам actor сюда не входит, поскольку подсчитываются его совместные работы с другими.\n",
    "    actor_colleague_counts = actor_films.loc[len(actor_films)-1, sub_columns]\n",
    "    for colleague, count in actor_colleague_counts.iteritems():\n",
    "        # Обновляем счётчик actor_colleage_counter с ключом в виде\n",
    "        # кортежа (актёр, его_коллега) и числом совместных работ (фильмов).\n",
    "        actor_colleage_counter.update({(actor, colleague): count})\n",
    "\n",
    "# Печатаем первые 15 пар актёров, которые чаще всего\n",
    "# играли вместе в тех или иных фильмах.\n",
    "answer_27 = list(map(lambda pair_count: (f\"{pair_count[0][0]} & {pair_count[0][1]}\", int(pair_count[1])),\n",
    "                     actor_colleage_counter.most_common(15)))\n",
    "answer_2_string = \"\\n\".join([f\"\\t\\u2714 {it[0]} -> {it[1]}\" for it in answer_27])\n",
    "print(f\"Answer 27:\\n{answer_2_string}\")"
   ]
  },
  {
   "cell_type": "markdown",
   "metadata": {
    "colab_type": "text",
    "id": "U0nONFnGVqAX"
   },
   "source": [
    "# Submission"
   ]
  },
  {
   "cell_type": "code",
   "execution_count": 69,
   "metadata": {
    "colab": {},
    "colab_type": "code",
    "id": "IfcaRO9-VqAX",
    "outputId": "0f132912-32bb-4196-c98c-abfbc4ad5a5f"
   },
   "outputs": [
    {
     "data": {
      "text/plain": [
       "{'1': '723. Pirates of the Caribbean: On Stranger Tides (tt1298650)',\n",
       " '2': '1157. Gods and Generals (tt0279111)',\n",
       " '3': '768. Winnie the Pooh (tt1449283)',\n",
       " '4': '110',\n",
       " '5': '107',\n",
       " '6': '239. Avatar (tt0499549)',\n",
       " '7': '1245. The Lone Ranger (tt1210819)',\n",
       " '8': '1478',\n",
       " '9': '599. The Dark Knight (tt0468569)',\n",
       " '10': '1245. The Lone Ranger (tt1210819)',\n",
       " '11': 'Drama',\n",
       " '12': 'Drama',\n",
       " '13': 'Peter Jackson',\n",
       " '14': 'Robert Rodriguez',\n",
       " '15': 'Chris Hemsworth',\n",
       " '16': 'Matt Damon',\n",
       " '17': 'Action',\n",
       " '18': 'K-19: The Widowmaker (tt0267626)',\n",
       " '19': '2015',\n",
       " '20': '2014',\n",
       " '21': 'Сентябрь',\n",
       " '22': '450',\n",
       " '23': 'Peter Jackson',\n",
       " '24': 'Four By Two Productions',\n",
       " '25': 'Midnight Picture Show',\n",
       " '26': 'Inside Out, The Dark Knight, 12 Years a Slave',\n",
       " '27': 'Daniel Radcliffe & Rupert Grint'}"
      ]
     },
     "execution_count": 69,
     "metadata": {},
     "output_type": "execute_result"
    }
   ],
   "source": [
    "# в конце можно посмотреть свои ответы к каждому вопросу\n",
    "answers"
   ]
  },
  {
   "cell_type": "code",
   "execution_count": 70,
   "metadata": {
    "colab": {},
    "colab_type": "code",
    "id": "SiRmHPl8VqAd"
   },
   "outputs": [
    {
     "data": {
      "text/plain": [
       "27"
      ]
     },
     "execution_count": 70,
     "metadata": {},
     "output_type": "execute_result"
    }
   ],
   "source": [
    "# и убедиться что ни чего не пропустил)\n",
    "len(answers)"
   ]
  }
 ],
 "metadata": {
  "colab": {
   "name": "Copy of [SF-DST] Movies IMBD v4.1 TEMPLATE.ipynb",
   "provenance": []
  },
  "kernelspec": {
   "display_name": "Python 3",
   "language": "python",
   "name": "python3"
  },
  "language_info": {
   "codemirror_mode": {
    "name": "ipython",
    "version": 3
   },
   "file_extension": ".py",
   "mimetype": "text/x-python",
   "name": "python",
   "nbconvert_exporter": "python",
   "pygments_lexer": "ipython3",
   "version": "3.7.6"
  }
 },
 "nbformat": 4,
 "nbformat_minor": 1
}
