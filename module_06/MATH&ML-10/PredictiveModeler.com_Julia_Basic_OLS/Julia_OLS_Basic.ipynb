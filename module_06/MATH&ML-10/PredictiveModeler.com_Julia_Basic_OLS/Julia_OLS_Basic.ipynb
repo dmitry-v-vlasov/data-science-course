{
 "cells": [
  {
   "cell_type": "markdown",
   "metadata": {},
   "source": [
    "# Julia Ordinary Least Squares (OLS) Regression\n",
    "# _A Basic Example_\n",
    "###### Copyright 2019 PredictiveModeler.com"
   ]
  },
  {
   "cell_type": "markdown",
   "metadata": {},
   "source": [
    "## Table of Contents\n",
    "\n",
    "- [Linear Regression in Julia](#Linear-Regression-in-Julia)  \n",
    "  - [Overview](#Overview)  \n",
    "  - [Data Exploration](#Data-Exploration)\n",
    "  - [Basic Linear Regression](#Basic-Linear-Regression)  \n",
    "  - [Additional Resources for learning more about OLS](#Additional-Resources-for-learning-more-about-OLS)"
   ]
  },
  {
   "cell_type": "markdown",
   "metadata": {},
   "source": [
    "### Overview\n",
    "\n",
    "Linear regression is one of _the_ most commonly used statistical modeling technique. While not as sexy as machine learning algorithms such as neural networks, it is one of the staple methods used throughout industry. Any card-carrying predictive modeler needs to know this one.\n",
    "\n",
    "Julia is one of the more exciting new programming languages. You can get more info here(https://julialang.org/). I am particularly interested in the claims about high speed & performance. It is rare that a language with a high-level syntax is compiled to efficient native code. The language is new and has less support currently than more established predictive analytics scripting languages such as R and Python - but I think given the performance advantages it might go through a rapid growth spurt. Good for predictive modelers to begin learning this one, and the fact that both Python and Julia can be run through Anaconda/Jupyter - makes learning it easier!\n",
    "\n",
    "In case you haven't already, I recommend going over the following prerequisite posts:\n",
    "\n",
    " - Installing Anaconda: https://predictivemodeler.com/2019/01/11/installing-anaconda/\n",
    " - Installing Julia: https://predictivemodeler.com/2019/01/11/installing-julia-language/\n",
    "\n",
    "I won't go over the theory of linear regression. Instead, I will reference a few resources that do a good job of describing it. Please see the resource section. \n",
    "\n",
    "We will learn a few important things in this simple example, including:\n",
    "\n",
    " - How to load a tab-delimited text file into a data object\n",
    " - How to explore and plot the data we just loaded\n",
    " - How to fit a linear trend line to the data using OLS"
   ]
  },
  {
   "cell_type": "markdown",
   "metadata": {},
   "source": [
    "### Data Exploration\n",
    "\n",
    "First we import a couple of packages that will help us load the data. The data as well as this script is available for download at the bottom of this post. You can store the data pmds001.txt and change the link (i.e. 'D:\\...') below to where you put it. We choose to call our data \"sample_data\". Remember in order to execute a 'cell' like the one below, you can 1) click on it and run it using the _run_ button above or 2) click in the cell and hit shift+enter.\n",
    "\n",
    "First we install some packages that may not have been installed the first time you use Julia. To do that, you can uncomment (by removing '#') the lines below and run (by clicking into the cell and hitting shift+enter).\n",
    "\n",
    "__Note:__ It will take a while to execute cells the first time you install/load/use packages. Subsequent executions will be faster."
   ]
  },
  {
   "cell_type": "code",
   "execution_count": 12,
   "metadata": {},
   "outputs": [],
   "source": [
    "#using Pkg\n",
    "#Pkg.add(\"Plots\")\n",
    "#Pkg.add(\"CSV\")\n",
    "#Pkg.add(\"GLM\")"
   ]
  },
  {
   "cell_type": "code",
   "execution_count": 22,
   "metadata": {},
   "outputs": [
    {
     "data": {
      "text/html": [
       "<table class=\"data-frame\"><thead><tr><th></th><th>X</th><th>Y</th></tr><tr><th></th><th>Int64⍰</th><th>Float64⍰</th></tr></thead><tbody><p>5 rows × 2 columns</p><tr><th>1</th><td>1</td><td>3.00417</td></tr><tr><th>2</th><td>2</td><td>3.32012</td></tr><tr><th>3</th><td>3</td><td>3.6693</td></tr><tr><th>4</th><td>4</td><td>4.0552</td></tr><tr><th>5</th><td>5</td><td>4.48169</td></tr></tbody></table>"
      ],
      "text/latex": [
       "\\begin{tabular}{r|cc}\n",
       "\t& X & Y\\\\\n",
       "\t\\hline\n",
       "\t1 & 1 & 3.00417 \\\\\n",
       "\t2 & 2 & 3.32012 \\\\\n",
       "\t3 & 3 & 3.6693 \\\\\n",
       "\t4 & 4 & 4.0552 \\\\\n",
       "\t5 & 5 & 4.48169 \\\\\n",
       "\\end{tabular}\n"
      ],
      "text/plain": [
       "5×2 DataFrames.DataFrame\n",
       "│ Row │ X      │ Y        │\n",
       "│     │ \u001b[90mInt64⍰\u001b[39m │ \u001b[90mFloat64⍰\u001b[39m │\n",
       "├─────┼────────┼──────────┤\n",
       "│ 1   │ 1      │ 3.00417  │\n",
       "│ 2   │ 2      │ 3.32012  │\n",
       "│ 3   │ 3      │ 3.6693   │\n",
       "│ 4   │ 4      │ 4.0552   │\n",
       "│ 5   │ 5      │ 4.48169  │"
      ]
     },
     "execution_count": 22,
     "metadata": {},
     "output_type": "execute_result"
    }
   ],
   "source": [
    "using CSV\n",
    "sample_data = CSV.read(\"D:/Data/PredictiveModeler/The Book/Benchmarked Data/pmds001.txt\", delim='\\t'); #Note the use of '/' instead of '\\'\n",
    "first(sample_data,5) #load 5 rows & inspect"
   ]
  },
  {
   "cell_type": "markdown",
   "metadata": {},
   "source": [
    "In the cell below we plot the data in order to visually inspect it quickly. You will note that it __clearly__ is some sort of exponential function. But, we are going to fit a linear trendline anyway - because that's what this tutorial is about! In a future post we will go over the improved model fit we get when we try some non-linear modeling techniques. \n",
    "\n",
    "You will note that we first import a new library, _Plots_ that allows us to create a nice plot of our data."
   ]
  },
  {
   "cell_type": "code",
   "execution_count": 23,
   "metadata": {},
   "outputs": [
    {
     "data": {
      "image/svg+xml": "<?xml version=\"1.0\" encoding=\"utf-8\"?>\n<svg xmlns=\"http://www.w3.org/2000/svg\" xmlns:xlink=\"http://www.w3.org/1999/xlink\" width=\"600\" height=\"400\" viewBox=\"0 0 2400 1600\">\n<defs>\n  <clipPath id=\"clip7000\">\n    <rect x=\"0\" y=\"0\" width=\"2000\" height=\"2000\"/>\n  </clipPath>\n</defs>\n<defs>\n  <clipPath id=\"clip7001\">\n    <rect x=\"0\" y=\"0\" width=\"2400\" height=\"1600\"/>\n  </clipPath>\n</defs>\n<polygon clip-path=\"url(#clip7001)\" points=\"\n0,1600 2400,1600 2400,0 0,0 \n  \" fill=\"#ffffff\" fill-rule=\"evenodd\" fill-opacity=\"1\"/>\n<defs>\n  <clipPath id=\"clip7002\">\n    <rect x=\"480\" y=\"0\" width=\"1681\" height=\"1600\"/>\n  </clipPath>\n</defs>\n<polygon clip-path=\"url(#clip7001)\" points=\"\n211.005,1440.48 2321.26,1440.48 2321.26,125.984 211.005,125.984 \n  \" fill=\"#ffffff\" fill-rule=\"evenodd\" fill-opacity=\"1\"/>\n<defs>\n  <clipPath id=\"clip7003\">\n    <rect x=\"211\" y=\"125\" width=\"2111\" height=\"1315\"/>\n  </clipPath>\n</defs>\n<polyline clip-path=\"url(#clip7003)\" style=\"stroke:#000000; stroke-width:2; stroke-opacity:0.1; fill:none\" points=\"\n  602.53,1440.48 602.53,125.984 \n  \"/>\n<polyline clip-path=\"url(#clip7003)\" style=\"stroke:#000000; stroke-width:2; stroke-opacity:0.1; fill:none\" points=\"\n  1017.28,1440.48 1017.28,125.984 \n  \"/>\n<polyline clip-path=\"url(#clip7003)\" style=\"stroke:#000000; stroke-width:2; stroke-opacity:0.1; fill:none\" points=\"\n  1432.03,1440.48 1432.03,125.984 \n  \"/>\n<polyline clip-path=\"url(#clip7003)\" style=\"stroke:#000000; stroke-width:2; stroke-opacity:0.1; fill:none\" points=\"\n  1846.78,1440.48 1846.78,125.984 \n  \"/>\n<polyline clip-path=\"url(#clip7003)\" style=\"stroke:#000000; stroke-width:2; stroke-opacity:0.1; fill:none\" points=\"\n  2261.54,1440.48 2261.54,125.984 \n  \"/>\n<polyline clip-path=\"url(#clip7003)\" style=\"stroke:#000000; stroke-width:2; stroke-opacity:0.1; fill:none\" points=\"\n  211.005,1321.08 2321.26,1321.08 \n  \"/>\n<polyline clip-path=\"url(#clip7003)\" style=\"stroke:#000000; stroke-width:2; stroke-opacity:0.1; fill:none\" points=\"\n  211.005,1115.17 2321.26,1115.17 \n  \"/>\n<polyline clip-path=\"url(#clip7003)\" style=\"stroke:#000000; stroke-width:2; stroke-opacity:0.1; fill:none\" points=\"\n  211.005,909.248 2321.26,909.248 \n  \"/>\n<polyline clip-path=\"url(#clip7003)\" style=\"stroke:#000000; stroke-width:2; stroke-opacity:0.1; fill:none\" points=\"\n  211.005,703.329 2321.26,703.329 \n  \"/>\n<polyline clip-path=\"url(#clip7003)\" style=\"stroke:#000000; stroke-width:2; stroke-opacity:0.1; fill:none\" points=\"\n  211.005,497.411 2321.26,497.411 \n  \"/>\n<polyline clip-path=\"url(#clip7003)\" style=\"stroke:#000000; stroke-width:2; stroke-opacity:0.1; fill:none\" points=\"\n  211.005,291.493 2321.26,291.493 \n  \"/>\n<polyline clip-path=\"url(#clip7001)\" style=\"stroke:#000000; stroke-width:4; stroke-opacity:1; fill:none\" points=\"\n  211.005,1440.48 2321.26,1440.48 \n  \"/>\n<polyline clip-path=\"url(#clip7001)\" style=\"stroke:#000000; stroke-width:4; stroke-opacity:1; fill:none\" points=\"\n  211.005,1440.48 211.005,125.984 \n  \"/>\n<polyline clip-path=\"url(#clip7001)\" style=\"stroke:#000000; stroke-width:4; stroke-opacity:1; fill:none\" points=\"\n  602.53,1440.48 602.53,1420.77 \n  \"/>\n<polyline clip-path=\"url(#clip7001)\" style=\"stroke:#000000; stroke-width:4; stroke-opacity:1; fill:none\" points=\"\n  1017.28,1440.48 1017.28,1420.77 \n  \"/>\n<polyline clip-path=\"url(#clip7001)\" style=\"stroke:#000000; stroke-width:4; stroke-opacity:1; fill:none\" points=\"\n  1432.03,1440.48 1432.03,1420.77 \n  \"/>\n<polyline clip-path=\"url(#clip7001)\" style=\"stroke:#000000; stroke-width:4; stroke-opacity:1; fill:none\" points=\"\n  1846.78,1440.48 1846.78,1420.77 \n  \"/>\n<polyline clip-path=\"url(#clip7001)\" style=\"stroke:#000000; stroke-width:4; stroke-opacity:1; fill:none\" points=\"\n  2261.54,1440.48 2261.54,1420.77 \n  \"/>\n<polyline clip-path=\"url(#clip7001)\" style=\"stroke:#000000; stroke-width:4; stroke-opacity:1; fill:none\" points=\"\n  211.005,1321.08 242.659,1321.08 \n  \"/>\n<polyline clip-path=\"url(#clip7001)\" style=\"stroke:#000000; stroke-width:4; stroke-opacity:1; fill:none\" points=\"\n  211.005,1115.17 242.659,1115.17 \n  \"/>\n<polyline clip-path=\"url(#clip7001)\" style=\"stroke:#000000; stroke-width:4; stroke-opacity:1; fill:none\" points=\"\n  211.005,909.248 242.659,909.248 \n  \"/>\n<polyline clip-path=\"url(#clip7001)\" style=\"stroke:#000000; stroke-width:4; stroke-opacity:1; fill:none\" points=\"\n  211.005,703.329 242.659,703.329 \n  \"/>\n<polyline clip-path=\"url(#clip7001)\" style=\"stroke:#000000; stroke-width:4; stroke-opacity:1; fill:none\" points=\"\n  211.005,497.411 242.659,497.411 \n  \"/>\n<polyline clip-path=\"url(#clip7001)\" style=\"stroke:#000000; stroke-width:4; stroke-opacity:1; fill:none\" points=\"\n  211.005,291.493 242.659,291.493 \n  \"/>\n<g clip-path=\"url(#clip7001)\">\n<text style=\"fill:#000000; fill-opacity:1; font-family:Arial,Helvetica Neue,Helvetica,sans-serif; font-size:48px; text-anchor:middle;\" transform=\"rotate(0, 602.53, 1494.48)\" x=\"602.53\" y=\"1494.48\">5</text>\n</g>\n<g clip-path=\"url(#clip7001)\">\n<text style=\"fill:#000000; fill-opacity:1; font-family:Arial,Helvetica Neue,Helvetica,sans-serif; font-size:48px; text-anchor:middle;\" transform=\"rotate(0, 1017.28, 1494.48)\" x=\"1017.28\" y=\"1494.48\">10</text>\n</g>\n<g clip-path=\"url(#clip7001)\">\n<text style=\"fill:#000000; fill-opacity:1; font-family:Arial,Helvetica Neue,Helvetica,sans-serif; font-size:48px; text-anchor:middle;\" transform=\"rotate(0, 1432.03, 1494.48)\" x=\"1432.03\" y=\"1494.48\">15</text>\n</g>\n<g clip-path=\"url(#clip7001)\">\n<text style=\"fill:#000000; fill-opacity:1; font-family:Arial,Helvetica Neue,Helvetica,sans-serif; font-size:48px; text-anchor:middle;\" transform=\"rotate(0, 1846.78, 1494.48)\" x=\"1846.78\" y=\"1494.48\">20</text>\n</g>\n<g clip-path=\"url(#clip7001)\">\n<text style=\"fill:#000000; fill-opacity:1; font-family:Arial,Helvetica Neue,Helvetica,sans-serif; font-size:48px; text-anchor:middle;\" transform=\"rotate(0, 2261.54, 1494.48)\" x=\"2261.54\" y=\"1494.48\">25</text>\n</g>\n<g clip-path=\"url(#clip7001)\">\n<text style=\"fill:#000000; fill-opacity:1; font-family:Arial,Helvetica Neue,Helvetica,sans-serif; font-size:48px; text-anchor:end;\" transform=\"rotate(0, 187.005, 1338.58)\" x=\"187.005\" y=\"1338.58\">5</text>\n</g>\n<g clip-path=\"url(#clip7001)\">\n<text style=\"fill:#000000; fill-opacity:1; font-family:Arial,Helvetica Neue,Helvetica,sans-serif; font-size:48px; text-anchor:end;\" transform=\"rotate(0, 187.005, 1132.67)\" x=\"187.005\" y=\"1132.67\">10</text>\n</g>\n<g clip-path=\"url(#clip7001)\">\n<text style=\"fill:#000000; fill-opacity:1; font-family:Arial,Helvetica Neue,Helvetica,sans-serif; font-size:48px; text-anchor:end;\" transform=\"rotate(0, 187.005, 926.748)\" x=\"187.005\" y=\"926.748\">15</text>\n</g>\n<g clip-path=\"url(#clip7001)\">\n<text style=\"fill:#000000; fill-opacity:1; font-family:Arial,Helvetica Neue,Helvetica,sans-serif; font-size:48px; text-anchor:end;\" transform=\"rotate(0, 187.005, 720.829)\" x=\"187.005\" y=\"720.829\">20</text>\n</g>\n<g clip-path=\"url(#clip7001)\">\n<text style=\"fill:#000000; fill-opacity:1; font-family:Arial,Helvetica Neue,Helvetica,sans-serif; font-size:48px; text-anchor:end;\" transform=\"rotate(0, 187.005, 514.911)\" x=\"187.005\" y=\"514.911\">25</text>\n</g>\n<g clip-path=\"url(#clip7001)\">\n<text style=\"fill:#000000; fill-opacity:1; font-family:Arial,Helvetica Neue,Helvetica,sans-serif; font-size:48px; text-anchor:end;\" transform=\"rotate(0, 187.005, 308.993)\" x=\"187.005\" y=\"308.993\">30</text>\n</g>\n<g clip-path=\"url(#clip7001)\">\n<text style=\"fill:#000000; fill-opacity:1; font-family:Arial,Helvetica Neue,Helvetica,sans-serif; font-size:84px; text-anchor:middle;\" transform=\"rotate(0, 1266.13, 73.2)\" x=\"1266.13\" y=\"73.2\">X vs Y</text>\n</g>\n<g clip-path=\"url(#clip7001)\">\n<text style=\"fill:#000000; fill-opacity:1; font-family:Arial,Helvetica Neue,Helvetica,sans-serif; font-size:66px; text-anchor:middle;\" transform=\"rotate(0, 1266.13, 1590.4)\" x=\"1266.13\" y=\"1590.4\">X</text>\n</g>\n<g clip-path=\"url(#clip7001)\">\n<text style=\"fill:#000000; fill-opacity:1; font-family:Arial,Helvetica Neue,Helvetica,sans-serif; font-size:66px; text-anchor:middle;\" transform=\"rotate(-90, 57.6, 783.233)\" x=\"57.6\" y=\"783.233\">Y</text>\n</g>\n<polyline clip-path=\"url(#clip7003)\" style=\"stroke:#009af9; stroke-width:8; stroke-opacity:1; fill:none\" points=\"\n  270.729,1403.28 353.679,1390.27 436.63,1375.89 519.58,1359.99 602.53,1342.43 685.481,1323.02 768.431,1301.57 851.381,1277.86 934.331,1251.65 1017.28,1222.69 \n  1100.23,1190.69 1183.18,1155.32 1266.13,1116.23 1349.08,1073.03 1432.03,1025.28 1514.98,972.516 1597.93,914.201 1680.88,849.752 1763.83,778.525 1846.78,699.807 \n  1929.73,612.81 2012.68,516.663 2095.64,410.405 2178.59,292.971 2261.54,163.187 \n  \"/>\n<polygon clip-path=\"url(#clip7001)\" points=\"\n1977.15,330.464 2249.26,330.464 2249.26,209.504 1977.15,209.504 \n  \" fill=\"#ffffff\" fill-rule=\"evenodd\" fill-opacity=\"1\"/>\n<polyline clip-path=\"url(#clip7001)\" style=\"stroke:#000000; stroke-width:4; stroke-opacity:1; fill:none\" points=\"\n  1977.15,330.464 2249.26,330.464 2249.26,209.504 1977.15,209.504 1977.15,330.464 \n  \"/>\n<polyline clip-path=\"url(#clip7001)\" style=\"stroke:#009af9; stroke-width:8; stroke-opacity:1; fill:none\" points=\"\n  2001.15,269.984 2145.15,269.984 \n  \"/>\n<g clip-path=\"url(#clip7001)\">\n<text style=\"fill:#000000; fill-opacity:1; font-family:Arial,Helvetica Neue,Helvetica,sans-serif; font-size:48px; text-anchor:start;\" transform=\"rotate(0, 2169.15, 287.484)\" x=\"2169.15\" y=\"287.484\">Y</text>\n</g>\n</svg>\n"
     },
     "execution_count": 23,
     "metadata": {},
     "output_type": "execute_result"
    }
   ],
   "source": [
    "using Plots\n",
    "X = sample_data[1]; Y = sample_data[2]\n",
    "plot(X, Y, linewidth=2, title=\"X vs Y\", label=[\"Y\"], xlabel=\"X\", ylabel=\"Y\")"
   ]
  },
  {
   "cell_type": "markdown",
   "metadata": {},
   "source": [
    "### Basic Linear Regression\n",
    "\n",
    "In linear regression we _assume_ that the relationship between the independent variables (X) and the dependent variable (Y) is _linear_ and then go about finding one that minimizes the _squared error_ between the predicted Y and the actual Y.\n",
    "\n",
    "$$\n",
    "{y}_i = \\beta_0 + \\beta_1 {x}_i + \\epsilon_i\n",
    "$$\n",
    "\n",
    "We now import the _lm_ method from the _GLM_ library. Note that the process of creating the model involves the very simple command. This runs the model and we find the intercept-term, $\\beta_0$, and the coefficient $\\beta_1$ that minimizes the squared errors."
   ]
  },
  {
   "cell_type": "code",
   "execution_count": 24,
   "metadata": {},
   "outputs": [
    {
     "data": {
      "text/plain": [
       "StatsModels.DataFrameRegressionModel{LinearModel{LmResp{Array{Float64,1}},DensePredChol{Float64,LinearAlgebra.Cholesky{Float64,Array{Float64,2}}}},Array{Float64,2}}\n",
       "\n",
       "Formula: Y ~ 1 + X\n",
       "\n",
       "Coefficients:\n",
       "             Estimate Std.Error  t value Pr(>|t|)\n",
       "(Intercept)  -2.32318   1.13333 -2.04988   0.0519\n",
       "X             1.16155 0.0762358  15.2363   <1e-12\n"
      ]
     },
     "execution_count": 24,
     "metadata": {},
     "output_type": "execute_result"
    }
   ],
   "source": [
    "using GLM\n",
    "ols = lm(@formula(Y~X), sample_data)"
   ]
  },
  {
   "cell_type": "markdown",
   "metadata": {},
   "source": [
    "We can inspect/load a few key values such as the coefficients executing the cell below. Other methods are available here: http://juliastats.github.io/GLM.jl/latest/manual/#Methods-applied-to-fitted-models-1"
   ]
  },
  {
   "cell_type": "code",
   "execution_count": 25,
   "metadata": {},
   "outputs": [
    {
     "data": {
      "text/plain": [
       "2-element Array{Float64,1}:\n",
       " -2.3231844406599964\n",
       "  1.161548199773846 "
      ]
     },
     "execution_count": 25,
     "metadata": {},
     "output_type": "execute_result"
    }
   ],
   "source": [
    "coef(ols) #load coefficients"
   ]
  },
  {
   "cell_type": "markdown",
   "metadata": {},
   "source": [
    "Finally, we can overlay the predicted trend-line with the actual data. Of course the fit is not great, but is the best we can do with a linear model while minimizing the squared-error. "
   ]
  },
  {
   "cell_type": "code",
   "execution_count": 26,
   "metadata": {},
   "outputs": [
    {
     "data": {
      "image/svg+xml": "<?xml version=\"1.0\" encoding=\"utf-8\"?>\n<svg xmlns=\"http://www.w3.org/2000/svg\" xmlns:xlink=\"http://www.w3.org/1999/xlink\" width=\"600\" height=\"400\" viewBox=\"0 0 2400 1600\">\n<defs>\n  <clipPath id=\"clip7200\">\n    <rect x=\"0\" y=\"0\" width=\"2000\" height=\"2000\"/>\n  </clipPath>\n</defs>\n<defs>\n  <clipPath id=\"clip7201\">\n    <rect x=\"0\" y=\"0\" width=\"2400\" height=\"1600\"/>\n  </clipPath>\n</defs>\n<polygon clip-path=\"url(#clip7201)\" points=\"\n0,1600 2400,1600 2400,0 0,0 \n  \" fill=\"#ffffff\" fill-rule=\"evenodd\" fill-opacity=\"1\"/>\n<defs>\n  <clipPath id=\"clip7202\">\n    <rect x=\"480\" y=\"0\" width=\"1681\" height=\"1600\"/>\n  </clipPath>\n</defs>\n<polygon clip-path=\"url(#clip7201)\" points=\"\n211.005,1440.48 2321.26,1440.48 2321.26,125.984 211.005,125.984 \n  \" fill=\"#ffffff\" fill-rule=\"evenodd\" fill-opacity=\"1\"/>\n<defs>\n  <clipPath id=\"clip7203\">\n    <rect x=\"211\" y=\"125\" width=\"2111\" height=\"1315\"/>\n  </clipPath>\n</defs>\n<polyline clip-path=\"url(#clip7203)\" style=\"stroke:#000000; stroke-width:2; stroke-opacity:0.1; fill:none\" points=\"\n  602.53,1440.48 602.53,125.984 \n  \"/>\n<polyline clip-path=\"url(#clip7203)\" style=\"stroke:#000000; stroke-width:2; stroke-opacity:0.1; fill:none\" points=\"\n  1017.28,1440.48 1017.28,125.984 \n  \"/>\n<polyline clip-path=\"url(#clip7203)\" style=\"stroke:#000000; stroke-width:2; stroke-opacity:0.1; fill:none\" points=\"\n  1432.03,1440.48 1432.03,125.984 \n  \"/>\n<polyline clip-path=\"url(#clip7203)\" style=\"stroke:#000000; stroke-width:2; stroke-opacity:0.1; fill:none\" points=\"\n  1846.78,1440.48 1846.78,125.984 \n  \"/>\n<polyline clip-path=\"url(#clip7203)\" style=\"stroke:#000000; stroke-width:2; stroke-opacity:0.1; fill:none\" points=\"\n  2261.54,1440.48 2261.54,125.984 \n  \"/>\n<polyline clip-path=\"url(#clip7203)\" style=\"stroke:#000000; stroke-width:2; stroke-opacity:0.1; fill:none\" points=\"\n  211.005,1361.25 2321.26,1361.25 \n  \"/>\n<polyline clip-path=\"url(#clip7203)\" style=\"stroke:#000000; stroke-width:2; stroke-opacity:0.1; fill:none\" points=\"\n  211.005,999.469 2321.26,999.469 \n  \"/>\n<polyline clip-path=\"url(#clip7203)\" style=\"stroke:#000000; stroke-width:2; stroke-opacity:0.1; fill:none\" points=\"\n  211.005,637.684 2321.26,637.684 \n  \"/>\n<polyline clip-path=\"url(#clip7203)\" style=\"stroke:#000000; stroke-width:2; stroke-opacity:0.1; fill:none\" points=\"\n  211.005,275.899 2321.26,275.899 \n  \"/>\n<polyline clip-path=\"url(#clip7201)\" style=\"stroke:#000000; stroke-width:4; stroke-opacity:1; fill:none\" points=\"\n  211.005,1440.48 2321.26,1440.48 \n  \"/>\n<polyline clip-path=\"url(#clip7201)\" style=\"stroke:#000000; stroke-width:4; stroke-opacity:1; fill:none\" points=\"\n  211.005,1440.48 211.005,125.984 \n  \"/>\n<polyline clip-path=\"url(#clip7201)\" style=\"stroke:#000000; stroke-width:4; stroke-opacity:1; fill:none\" points=\"\n  602.53,1440.48 602.53,1420.77 \n  \"/>\n<polyline clip-path=\"url(#clip7201)\" style=\"stroke:#000000; stroke-width:4; stroke-opacity:1; fill:none\" points=\"\n  1017.28,1440.48 1017.28,1420.77 \n  \"/>\n<polyline clip-path=\"url(#clip7201)\" style=\"stroke:#000000; stroke-width:4; stroke-opacity:1; fill:none\" points=\"\n  1432.03,1440.48 1432.03,1420.77 \n  \"/>\n<polyline clip-path=\"url(#clip7201)\" style=\"stroke:#000000; stroke-width:4; stroke-opacity:1; fill:none\" points=\"\n  1846.78,1440.48 1846.78,1420.77 \n  \"/>\n<polyline clip-path=\"url(#clip7201)\" style=\"stroke:#000000; stroke-width:4; stroke-opacity:1; fill:none\" points=\"\n  2261.54,1440.48 2261.54,1420.77 \n  \"/>\n<polyline clip-path=\"url(#clip7201)\" style=\"stroke:#000000; stroke-width:4; stroke-opacity:1; fill:none\" points=\"\n  211.005,1361.25 242.659,1361.25 \n  \"/>\n<polyline clip-path=\"url(#clip7201)\" style=\"stroke:#000000; stroke-width:4; stroke-opacity:1; fill:none\" points=\"\n  211.005,999.469 242.659,999.469 \n  \"/>\n<polyline clip-path=\"url(#clip7201)\" style=\"stroke:#000000; stroke-width:4; stroke-opacity:1; fill:none\" points=\"\n  211.005,637.684 242.659,637.684 \n  \"/>\n<polyline clip-path=\"url(#clip7201)\" style=\"stroke:#000000; stroke-width:4; stroke-opacity:1; fill:none\" points=\"\n  211.005,275.899 242.659,275.899 \n  \"/>\n<g clip-path=\"url(#clip7201)\">\n<text style=\"fill:#000000; fill-opacity:1; font-family:Arial,Helvetica Neue,Helvetica,sans-serif; font-size:48px; text-anchor:middle;\" transform=\"rotate(0, 602.53, 1494.48)\" x=\"602.53\" y=\"1494.48\">5</text>\n</g>\n<g clip-path=\"url(#clip7201)\">\n<text style=\"fill:#000000; fill-opacity:1; font-family:Arial,Helvetica Neue,Helvetica,sans-serif; font-size:48px; text-anchor:middle;\" transform=\"rotate(0, 1017.28, 1494.48)\" x=\"1017.28\" y=\"1494.48\">10</text>\n</g>\n<g clip-path=\"url(#clip7201)\">\n<text style=\"fill:#000000; fill-opacity:1; font-family:Arial,Helvetica Neue,Helvetica,sans-serif; font-size:48px; text-anchor:middle;\" transform=\"rotate(0, 1432.03, 1494.48)\" x=\"1432.03\" y=\"1494.48\">15</text>\n</g>\n<g clip-path=\"url(#clip7201)\">\n<text style=\"fill:#000000; fill-opacity:1; font-family:Arial,Helvetica Neue,Helvetica,sans-serif; font-size:48px; text-anchor:middle;\" transform=\"rotate(0, 1846.78, 1494.48)\" x=\"1846.78\" y=\"1494.48\">20</text>\n</g>\n<g clip-path=\"url(#clip7201)\">\n<text style=\"fill:#000000; fill-opacity:1; font-family:Arial,Helvetica Neue,Helvetica,sans-serif; font-size:48px; text-anchor:middle;\" transform=\"rotate(0, 2261.54, 1494.48)\" x=\"2261.54\" y=\"1494.48\">25</text>\n</g>\n<g clip-path=\"url(#clip7201)\">\n<text style=\"fill:#000000; fill-opacity:1; font-family:Arial,Helvetica Neue,Helvetica,sans-serif; font-size:48px; text-anchor:end;\" transform=\"rotate(0, 187.005, 1378.75)\" x=\"187.005\" y=\"1378.75\">0</text>\n</g>\n<g clip-path=\"url(#clip7201)\">\n<text style=\"fill:#000000; fill-opacity:1; font-family:Arial,Helvetica Neue,Helvetica,sans-serif; font-size:48px; text-anchor:end;\" transform=\"rotate(0, 187.005, 1016.97)\" x=\"187.005\" y=\"1016.97\">10</text>\n</g>\n<g clip-path=\"url(#clip7201)\">\n<text style=\"fill:#000000; fill-opacity:1; font-family:Arial,Helvetica Neue,Helvetica,sans-serif; font-size:48px; text-anchor:end;\" transform=\"rotate(0, 187.005, 655.184)\" x=\"187.005\" y=\"655.184\">20</text>\n</g>\n<g clip-path=\"url(#clip7201)\">\n<text style=\"fill:#000000; fill-opacity:1; font-family:Arial,Helvetica Neue,Helvetica,sans-serif; font-size:48px; text-anchor:end;\" transform=\"rotate(0, 187.005, 293.399)\" x=\"187.005\" y=\"293.399\">30</text>\n</g>\n<g clip-path=\"url(#clip7201)\">\n<text style=\"fill:#000000; fill-opacity:1; font-family:Arial,Helvetica Neue,Helvetica,sans-serif; font-size:84px; text-anchor:middle;\" transform=\"rotate(0, 1266.13, 73.2)\" x=\"1266.13\" y=\"73.2\">X vs Y</text>\n</g>\n<g clip-path=\"url(#clip7201)\">\n<text style=\"fill:#000000; fill-opacity:1; font-family:Arial,Helvetica Neue,Helvetica,sans-serif; font-size:66px; text-anchor:middle;\" transform=\"rotate(0, 1266.13, 1590.4)\" x=\"1266.13\" y=\"1590.4\">X</text>\n</g>\n<g clip-path=\"url(#clip7201)\">\n<text style=\"fill:#000000; fill-opacity:1; font-family:Arial,Helvetica Neue,Helvetica,sans-serif; font-size:66px; text-anchor:middle;\" transform=\"rotate(-90, 57.6, 783.233)\" x=\"57.6\" y=\"783.233\">Y</text>\n</g>\n<polyline clip-path=\"url(#clip7203)\" style=\"stroke:#009af9; stroke-width:8; stroke-opacity:1; fill:none\" points=\"\n  270.729,1252.57 353.679,1241.14 436.63,1228.5 519.58,1214.54 602.53,1199.11 685.481,1182.06 768.431,1163.21 851.381,1142.39 934.331,1119.37 1017.28,1093.93 \n  1100.23,1065.81 1183.18,1034.74 1266.13,1000.4 1349.08,962.452 1432.03,920.51 1514.98,874.156 1597.93,822.928 1680.88,766.311 1763.83,703.741 1846.78,634.589 \n  1929.73,558.166 2012.68,473.704 2095.64,380.36 2178.59,277.198 2261.54,163.187 \n  \"/>\n<polyline clip-path=\"url(#clip7203)\" style=\"stroke:#e26f46; stroke-width:8; stroke-opacity:1; fill:none\" points=\"\n  270.729,1403.28 353.679,1361.26 436.63,1319.23 519.58,1277.21 602.53,1235.19 685.481,1193.16 768.431,1151.14 851.381,1109.12 934.331,1067.1 1017.28,1025.07 \n  1100.23,983.049 1183.18,941.026 1266.13,899.003 1349.08,856.98 1432.03,814.957 1514.98,772.934 1597.93,730.911 1680.88,688.888 1763.83,646.865 1846.78,604.842 \n  1929.73,562.819 2012.68,520.796 2095.64,478.773 2178.59,436.75 2261.54,394.727 \n  \"/>\n<polygon clip-path=\"url(#clip7201)\" points=\"\n1950.39,390.944 2249.26,390.944 2249.26,209.504 1950.39,209.504 \n  \" fill=\"#ffffff\" fill-rule=\"evenodd\" fill-opacity=\"1\"/>\n<polyline clip-path=\"url(#clip7201)\" style=\"stroke:#000000; stroke-width:4; stroke-opacity:1; fill:none\" points=\"\n  1950.39,390.944 2249.26,390.944 2249.26,209.504 1950.39,209.504 1950.39,390.944 \n  \"/>\n<polyline clip-path=\"url(#clip7201)\" style=\"stroke:#009af9; stroke-width:8; stroke-opacity:1; fill:none\" points=\"\n  1974.39,269.984 2118.39,269.984 \n  \"/>\n<g clip-path=\"url(#clip7201)\">\n<text style=\"fill:#000000; fill-opacity:1; font-family:Arial,Helvetica Neue,Helvetica,sans-serif; font-size:48px; text-anchor:start;\" transform=\"rotate(0, 2142.39, 287.484)\" x=\"2142.39\" y=\"287.484\">Y</text>\n</g>\n<polyline clip-path=\"url(#clip7201)\" style=\"stroke:#e26f46; stroke-width:8; stroke-opacity:1; fill:none\" points=\"\n  1974.39,330.464 2118.39,330.464 \n  \"/>\n<g clip-path=\"url(#clip7201)\">\n<text style=\"fill:#000000; fill-opacity:1; font-family:Arial,Helvetica Neue,Helvetica,sans-serif; font-size:48px; text-anchor:start;\" transform=\"rotate(0, 2142.39, 347.964)\" x=\"2142.39\" y=\"347.964\">Yp</text>\n</g>\n</svg>\n"
     },
     "execution_count": 26,
     "metadata": {},
     "output_type": "execute_result"
    }
   ],
   "source": [
    "Yp = predict(ols); #load predictions into Yp\n",
    "Y2 = Base.hcat(Y,Yp) #concatenating Y and Yp arrays into a new one called 'Y2' so that we can plot both, below\n",
    "plot(X, Y2, linewidth=2, title=\"X vs Y\", label=[\"Y\", \"Yp\"], xlabel=\"X\", ylabel=\"Y\")"
   ]
  },
  {
   "cell_type": "markdown",
   "metadata": {},
   "source": [
    "What if we want to find out the Mean Squared Error in our predictions? We can use the following:"
   ]
  },
  {
   "cell_type": "code",
   "execution_count": 21,
   "metadata": {},
   "outputs": [],
   "source": [
    "#using Pkg\n",
    "#Pkg.add(\"Distances\")"
   ]
  },
  {
   "cell_type": "code",
   "execution_count": 27,
   "metadata": {},
   "outputs": [
    {
     "data": {
      "text/plain": [
       "2.6364808504271435"
      ]
     },
     "execution_count": 27,
     "metadata": {},
     "output_type": "execute_result"
    }
   ],
   "source": [
    "using Distances\n",
    "rmsd(Y,Yp) #Root Mean Squared Error (RMSE)"
   ]
  },
  {
   "cell_type": "markdown",
   "metadata": {},
   "source": [
    "Clearly, a linear model is not a great option for this. Can you spot a different _transformation_ of the Y variable that would be? Given that the Y seemingly increases exponentially relative to X, what happens if we plot __log(Y)__ vs X?"
   ]
  },
  {
   "cell_type": "code",
   "execution_count": 28,
   "metadata": {},
   "outputs": [
    {
     "data": {
      "image/svg+xml": "<?xml version=\"1.0\" encoding=\"utf-8\"?>\n<svg xmlns=\"http://www.w3.org/2000/svg\" xmlns:xlink=\"http://www.w3.org/1999/xlink\" width=\"600\" height=\"400\" viewBox=\"0 0 2400 1600\">\n<defs>\n  <clipPath id=\"clip7400\">\n    <rect x=\"0\" y=\"0\" width=\"2000\" height=\"2000\"/>\n  </clipPath>\n</defs>\n<defs>\n  <clipPath id=\"clip7401\">\n    <rect x=\"0\" y=\"0\" width=\"2400\" height=\"1600\"/>\n  </clipPath>\n</defs>\n<polygon clip-path=\"url(#clip7401)\" points=\"\n0,1600 2400,1600 2400,0 0,0 \n  \" fill=\"#ffffff\" fill-rule=\"evenodd\" fill-opacity=\"1\"/>\n<defs>\n  <clipPath id=\"clip7402\">\n    <rect x=\"480\" y=\"0\" width=\"1681\" height=\"1600\"/>\n  </clipPath>\n</defs>\n<polygon clip-path=\"url(#clip7401)\" points=\"\n224.386,1440.48 2321.26,1440.48 2321.26,125.984 224.386,125.984 \n  \" fill=\"#ffffff\" fill-rule=\"evenodd\" fill-opacity=\"1\"/>\n<defs>\n  <clipPath id=\"clip7403\">\n    <rect x=\"224\" y=\"125\" width=\"2098\" height=\"1315\"/>\n  </clipPath>\n</defs>\n<polyline clip-path=\"url(#clip7403)\" style=\"stroke:#000000; stroke-width:2; stroke-opacity:0.1; fill:none\" points=\"\n  613.429,1440.48 613.429,125.984 \n  \"/>\n<polyline clip-path=\"url(#clip7403)\" style=\"stroke:#000000; stroke-width:2; stroke-opacity:0.1; fill:none\" points=\"\n  1025.55,1440.48 1025.55,125.984 \n  \"/>\n<polyline clip-path=\"url(#clip7403)\" style=\"stroke:#000000; stroke-width:2; stroke-opacity:0.1; fill:none\" points=\"\n  1437.67,1440.48 1437.67,125.984 \n  \"/>\n<polyline clip-path=\"url(#clip7403)\" style=\"stroke:#000000; stroke-width:2; stroke-opacity:0.1; fill:none\" points=\"\n  1849.79,1440.48 1849.79,125.984 \n  \"/>\n<polyline clip-path=\"url(#clip7403)\" style=\"stroke:#000000; stroke-width:2; stroke-opacity:0.1; fill:none\" points=\"\n  2261.91,1440.48 2261.91,125.984 \n  \"/>\n<polyline clip-path=\"url(#clip7403)\" style=\"stroke:#000000; stroke-width:2; stroke-opacity:0.1; fill:none\" points=\"\n  224.386,1196.6 2321.26,1196.6 \n  \"/>\n<polyline clip-path=\"url(#clip7403)\" style=\"stroke:#000000; stroke-width:2; stroke-opacity:0.1; fill:none\" points=\"\n  224.386,938.245 2321.26,938.245 \n  \"/>\n<polyline clip-path=\"url(#clip7403)\" style=\"stroke:#000000; stroke-width:2; stroke-opacity:0.1; fill:none\" points=\"\n  224.386,679.892 2321.26,679.892 \n  \"/>\n<polyline clip-path=\"url(#clip7403)\" style=\"stroke:#000000; stroke-width:2; stroke-opacity:0.1; fill:none\" points=\"\n  224.386,421.54 2321.26,421.54 \n  \"/>\n<polyline clip-path=\"url(#clip7403)\" style=\"stroke:#000000; stroke-width:2; stroke-opacity:0.1; fill:none\" points=\"\n  224.386,163.187 2321.26,163.187 \n  \"/>\n<polyline clip-path=\"url(#clip7401)\" style=\"stroke:#000000; stroke-width:4; stroke-opacity:1; fill:none\" points=\"\n  224.386,1440.48 2321.26,1440.48 \n  \"/>\n<polyline clip-path=\"url(#clip7401)\" style=\"stroke:#000000; stroke-width:4; stroke-opacity:1; fill:none\" points=\"\n  224.386,1440.48 224.386,125.984 \n  \"/>\n<polyline clip-path=\"url(#clip7401)\" style=\"stroke:#000000; stroke-width:4; stroke-opacity:1; fill:none\" points=\"\n  613.429,1440.48 613.429,1420.77 \n  \"/>\n<polyline clip-path=\"url(#clip7401)\" style=\"stroke:#000000; stroke-width:4; stroke-opacity:1; fill:none\" points=\"\n  1025.55,1440.48 1025.55,1420.77 \n  \"/>\n<polyline clip-path=\"url(#clip7401)\" style=\"stroke:#000000; stroke-width:4; stroke-opacity:1; fill:none\" points=\"\n  1437.67,1440.48 1437.67,1420.77 \n  \"/>\n<polyline clip-path=\"url(#clip7401)\" style=\"stroke:#000000; stroke-width:4; stroke-opacity:1; fill:none\" points=\"\n  1849.79,1440.48 1849.79,1420.77 \n  \"/>\n<polyline clip-path=\"url(#clip7401)\" style=\"stroke:#000000; stroke-width:4; stroke-opacity:1; fill:none\" points=\"\n  2261.91,1440.48 2261.91,1420.77 \n  \"/>\n<polyline clip-path=\"url(#clip7401)\" style=\"stroke:#000000; stroke-width:4; stroke-opacity:1; fill:none\" points=\"\n  224.386,1196.6 255.839,1196.6 \n  \"/>\n<polyline clip-path=\"url(#clip7401)\" style=\"stroke:#000000; stroke-width:4; stroke-opacity:1; fill:none\" points=\"\n  224.386,938.245 255.839,938.245 \n  \"/>\n<polyline clip-path=\"url(#clip7401)\" style=\"stroke:#000000; stroke-width:4; stroke-opacity:1; fill:none\" points=\"\n  224.386,679.892 255.839,679.892 \n  \"/>\n<polyline clip-path=\"url(#clip7401)\" style=\"stroke:#000000; stroke-width:4; stroke-opacity:1; fill:none\" points=\"\n  224.386,421.54 255.839,421.54 \n  \"/>\n<polyline clip-path=\"url(#clip7401)\" style=\"stroke:#000000; stroke-width:4; stroke-opacity:1; fill:none\" points=\"\n  224.386,163.187 255.839,163.187 \n  \"/>\n<g clip-path=\"url(#clip7401)\">\n<text style=\"fill:#000000; fill-opacity:1; font-family:Arial,Helvetica Neue,Helvetica,sans-serif; font-size:48px; text-anchor:middle;\" transform=\"rotate(0, 613.429, 1494.48)\" x=\"613.429\" y=\"1494.48\">5</text>\n</g>\n<g clip-path=\"url(#clip7401)\">\n<text style=\"fill:#000000; fill-opacity:1; font-family:Arial,Helvetica Neue,Helvetica,sans-serif; font-size:48px; text-anchor:middle;\" transform=\"rotate(0, 1025.55, 1494.48)\" x=\"1025.55\" y=\"1494.48\">10</text>\n</g>\n<g clip-path=\"url(#clip7401)\">\n<text style=\"fill:#000000; fill-opacity:1; font-family:Arial,Helvetica Neue,Helvetica,sans-serif; font-size:48px; text-anchor:middle;\" transform=\"rotate(0, 1437.67, 1494.48)\" x=\"1437.67\" y=\"1494.48\">15</text>\n</g>\n<g clip-path=\"url(#clip7401)\">\n<text style=\"fill:#000000; fill-opacity:1; font-family:Arial,Helvetica Neue,Helvetica,sans-serif; font-size:48px; text-anchor:middle;\" transform=\"rotate(0, 1849.79, 1494.48)\" x=\"1849.79\" y=\"1494.48\">20</text>\n</g>\n<g clip-path=\"url(#clip7401)\">\n<text style=\"fill:#000000; fill-opacity:1; font-family:Arial,Helvetica Neue,Helvetica,sans-serif; font-size:48px; text-anchor:middle;\" transform=\"rotate(0, 2261.91, 1494.48)\" x=\"2261.91\" y=\"1494.48\">25</text>\n</g>\n<g clip-path=\"url(#clip7401)\">\n<text style=\"fill:#000000; fill-opacity:1; font-family:Arial,Helvetica Neue,Helvetica,sans-serif; font-size:48px; text-anchor:end;\" transform=\"rotate(0, 200.386, 1214.1)\" x=\"200.386\" y=\"1214.1\">1.5</text>\n</g>\n<g clip-path=\"url(#clip7401)\">\n<text style=\"fill:#000000; fill-opacity:1; font-family:Arial,Helvetica Neue,Helvetica,sans-serif; font-size:48px; text-anchor:end;\" transform=\"rotate(0, 200.386, 955.745)\" x=\"200.386\" y=\"955.745\">2.0</text>\n</g>\n<g clip-path=\"url(#clip7401)\">\n<text style=\"fill:#000000; fill-opacity:1; font-family:Arial,Helvetica Neue,Helvetica,sans-serif; font-size:48px; text-anchor:end;\" transform=\"rotate(0, 200.386, 697.392)\" x=\"200.386\" y=\"697.392\">2.5</text>\n</g>\n<g clip-path=\"url(#clip7401)\">\n<text style=\"fill:#000000; fill-opacity:1; font-family:Arial,Helvetica Neue,Helvetica,sans-serif; font-size:48px; text-anchor:end;\" transform=\"rotate(0, 200.386, 439.04)\" x=\"200.386\" y=\"439.04\">3.0</text>\n</g>\n<g clip-path=\"url(#clip7401)\">\n<text style=\"fill:#000000; fill-opacity:1; font-family:Arial,Helvetica Neue,Helvetica,sans-serif; font-size:48px; text-anchor:end;\" transform=\"rotate(0, 200.386, 180.687)\" x=\"200.386\" y=\"180.687\">3.5</text>\n</g>\n<g clip-path=\"url(#clip7401)\">\n<text style=\"fill:#000000; fill-opacity:1; font-family:Arial,Helvetica Neue,Helvetica,sans-serif; font-size:84px; text-anchor:middle;\" transform=\"rotate(0, 1272.82, 73.2)\" x=\"1272.82\" y=\"73.2\">X vs Y</text>\n</g>\n<g clip-path=\"url(#clip7401)\">\n<text style=\"fill:#000000; fill-opacity:1; font-family:Arial,Helvetica Neue,Helvetica,sans-serif; font-size:66px; text-anchor:middle;\" transform=\"rotate(0, 1272.82, 1590.4)\" x=\"1272.82\" y=\"1590.4\">X</text>\n</g>\n<g clip-path=\"url(#clip7401)\">\n<text style=\"fill:#000000; fill-opacity:1; font-family:Arial,Helvetica Neue,Helvetica,sans-serif; font-size:66px; text-anchor:middle;\" transform=\"rotate(-90, 57.6, 783.233)\" x=\"57.6\" y=\"783.233\">Y</text>\n</g>\n<polyline clip-path=\"url(#clip7403)\" style=\"stroke:#009af9; stroke-width:8; stroke-opacity:1; fill:none\" points=\"\n  283.732,1403.28 366.156,1351.61 448.58,1299.94 531.004,1248.27 613.429,1196.6 695.853,1144.93 778.277,1093.26 860.702,1041.59 943.126,989.916 1025.55,938.245 \n  1107.97,886.574 1190.4,834.904 1272.82,783.233 1355.25,731.563 1437.67,679.892 1520.1,628.222 1602.52,576.551 1684.94,524.881 1767.37,473.21 1849.79,421.54 \n  1932.22,369.869 2014.64,318.199 2097.07,266.528 2179.49,214.858 2261.91,163.187 \n  \"/>\n<polygon clip-path=\"url(#clip7401)\" points=\"\n1912.94,330.464 2249.26,330.464 2249.26,209.504 1912.94,209.504 \n  \" fill=\"#ffffff\" fill-rule=\"evenodd\" fill-opacity=\"1\"/>\n<polyline clip-path=\"url(#clip7401)\" style=\"stroke:#000000; stroke-width:4; stroke-opacity:1; fill:none\" points=\"\n  1912.94,330.464 2249.26,330.464 2249.26,209.504 1912.94,209.504 1912.94,330.464 \n  \"/>\n<polyline clip-path=\"url(#clip7401)\" style=\"stroke:#009af9; stroke-width:8; stroke-opacity:1; fill:none\" points=\"\n  1936.94,269.984 2080.94,269.984 \n  \"/>\n<g clip-path=\"url(#clip7401)\">\n<text style=\"fill:#000000; fill-opacity:1; font-family:Arial,Helvetica Neue,Helvetica,sans-serif; font-size:48px; text-anchor:start;\" transform=\"rotate(0, 2104.94, 287.484)\" x=\"2104.94\" y=\"287.484\">logY</text>\n</g>\n</svg>\n"
     },
     "execution_count": 28,
     "metadata": {},
     "output_type": "execute_result"
    }
   ],
   "source": [
    "logY = log.(Y); # take elementwise log of Y\n",
    "plot(X, logY, linewidth=2, title=\"X vs Y\", label=[\"logY\"], xlabel=\"X\", ylabel=\"Y\")"
   ]
  },
  {
   "cell_type": "markdown",
   "metadata": {},
   "source": [
    "Looks linear now! Transformations & normalizations are useful in predictive modeling. We will explore them in future case studies. If you like, you can try fitting a linear model to logY as an exercise."
   ]
  },
  {
   "cell_type": "markdown",
   "metadata": {},
   "source": [
    "### Additional Resources for learning more about OLS\n",
    "\n",
    " - Wikipedia, of course! https://en.wikipedia.org/wiki/Linear_regression\n",
    " - https://newonlinecourses.science.psu.edu/stat501/node/251/\n",
    " - http://www.stat.yale.edu/Courses/1997-98/101/linreg.htm"
   ]
  },
  {
   "cell_type": "code",
   "execution_count": null,
   "metadata": {},
   "outputs": [],
   "source": []
  }
 ],
 "metadata": {
  "kernelspec": {
   "display_name": "Julia 1.7.2",
   "language": "julia",
   "name": "julia-1.7"
  },
  "language_info": {
   "file_extension": ".jl",
   "mimetype": "application/julia",
   "name": "julia",
   "version": "1.0.3"
  }
 },
 "nbformat": 4,
 "nbformat_minor": 2
}
