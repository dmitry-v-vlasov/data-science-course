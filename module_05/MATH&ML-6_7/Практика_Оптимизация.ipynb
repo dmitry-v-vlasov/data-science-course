{
  "cells": [
    {
      "cell_type": "markdown",
      "metadata": {
        "id": "NyHIGVhfa_Wf"
      },
      "source": [
        "# Стохастический градиентный и координатный спуски"
      ]
    },
    {
      "cell_type": "markdown",
      "metadata": {
        "id": "gn6lluIADUKa"
      },
      "source": [
        "Для каждого задания указано количество баллов (если они оцениваются отдельно) + 1 балл за аккуратное и полное выполнение всего задания"
      ]
    },
    {
      "cell_type": "markdown",
      "metadata": {
        "id": "txCccYvha_Wv"
      },
      "source": [
        "## Загрузка и подготовка данных"
      ]
    },
    {
      "cell_type": "markdown",
      "metadata": {
        "id": "NbyOzeZ6a_Wx"
      },
      "source": [
        "**Загрузите уже знакомый вам файл *Advertising.csv* как объект DataFrame.** "
      ]
    },
    {
      "cell_type": "code",
      "execution_count": 1,
      "metadata": {
        "id": "E1L4_xeDa_Wz"
      },
      "outputs": [
        {
          "data": {
            "text/html": [
              "<div>\n",
              "<style scoped>\n",
              "    .dataframe tbody tr th:only-of-type {\n",
              "        vertical-align: middle;\n",
              "    }\n",
              "\n",
              "    .dataframe tbody tr th {\n",
              "        vertical-align: top;\n",
              "    }\n",
              "\n",
              "    .dataframe thead th {\n",
              "        text-align: right;\n",
              "    }\n",
              "</style>\n",
              "<table border=\"1\" class=\"dataframe\">\n",
              "  <thead>\n",
              "    <tr style=\"text-align: right;\">\n",
              "      <th></th>\n",
              "      <th>Unnamed: 0</th>\n",
              "      <th>TV</th>\n",
              "      <th>radio</th>\n",
              "      <th>newspaper</th>\n",
              "      <th>sales</th>\n",
              "    </tr>\n",
              "  </thead>\n",
              "  <tbody>\n",
              "    <tr>\n",
              "      <th>0</th>\n",
              "      <td>1</td>\n",
              "      <td>230.1</td>\n",
              "      <td>37.8</td>\n",
              "      <td>69.2</td>\n",
              "      <td>22.1</td>\n",
              "    </tr>\n",
              "    <tr>\n",
              "      <th>1</th>\n",
              "      <td>2</td>\n",
              "      <td>44.5</td>\n",
              "      <td>39.3</td>\n",
              "      <td>45.1</td>\n",
              "      <td>10.4</td>\n",
              "    </tr>\n",
              "    <tr>\n",
              "      <th>2</th>\n",
              "      <td>3</td>\n",
              "      <td>17.2</td>\n",
              "      <td>45.9</td>\n",
              "      <td>69.3</td>\n",
              "      <td>9.3</td>\n",
              "    </tr>\n",
              "    <tr>\n",
              "      <th>3</th>\n",
              "      <td>4</td>\n",
              "      <td>151.5</td>\n",
              "      <td>41.3</td>\n",
              "      <td>58.5</td>\n",
              "      <td>18.5</td>\n",
              "    </tr>\n",
              "    <tr>\n",
              "      <th>4</th>\n",
              "      <td>5</td>\n",
              "      <td>180.8</td>\n",
              "      <td>10.8</td>\n",
              "      <td>58.4</td>\n",
              "      <td>12.9</td>\n",
              "    </tr>\n",
              "  </tbody>\n",
              "</table>\n",
              "</div>"
            ],
            "text/plain": [
              "   Unnamed: 0     TV  radio  newspaper  sales\n",
              "0           1  230.1   37.8       69.2   22.1\n",
              "1           2   44.5   39.3       45.1   10.4\n",
              "2           3   17.2   45.9       69.3    9.3\n",
              "3           4  151.5   41.3       58.5   18.5\n",
              "4           5  180.8   10.8       58.4   12.9"
            ]
          },
          "metadata": {},
          "output_type": "display_data"
        },
        {
          "data": {
            "text/html": [
              "<u>Shape:</u> (200, 5)"
            ],
            "text/plain": [
              "<IPython.core.display.HTML object>"
            ]
          },
          "metadata": {},
          "output_type": "display_data"
        }
      ],
      "source": [
        "import pandas as pd\n",
        "from IPython.display import display, HTML\n",
        "\n",
        "data = pd.read_csv('Advertising.csv')\n",
        "display(data.head())\n",
        "display(HTML(f\"<u>Shape:</u> {data.shape}\"))\n"
      ]
    },
    {
      "cell_type": "markdown",
      "metadata": {
        "id": "bf4aVFndDUKf"
      },
      "source": [
        "**Проверьте, есть ли в данных пропуски и, если они есть - удалите их**"
      ]
    },
    {
      "cell_type": "code",
      "execution_count": 2,
      "metadata": {
        "id": "tiVeFnR5DUKg"
      },
      "outputs": [
        {
          "data": {
            "text/plain": [
              "Unnamed: 0    0\n",
              "TV            0\n",
              "radio         0\n",
              "newspaper     0\n",
              "sales         0\n",
              "dtype: int64"
            ]
          },
          "execution_count": 2,
          "metadata": {},
          "output_type": "execute_result"
        }
      ],
      "source": [
        "data.isna().sum()\n"
      ]
    },
    {
      "cell_type": "markdown",
      "metadata": {
        "id": "rTkiqPr_DUKh"
      },
      "source": [
        "**Преобразуйте ваши признаки в массивы NumPy и разделите их на переменные X (предикторы) и y(целевая переменная)** "
      ]
    },
    {
      "cell_type": "code",
      "execution_count": 3,
      "metadata": {
        "id": "R9OHIRB3a_Xa"
      },
      "outputs": [
        {
          "name": "stdout",
          "output_type": "stream",
          "text": [
            "X: type=<class 'numpy.ndarray'>, shape=(200, 3)\n",
            "y: type=<class 'numpy.ndarray'>, shape=(200,)\n"
          ]
        }
      ],
      "source": [
        "data.drop(['Unnamed: 0'], inplace=True, axis=1)\n",
        "\n",
        "target_column = 'sales'\n",
        "data_features = data.drop([target_column], axis=1)\n",
        "data_target = data[target_column]\n",
        "\n",
        "X = data_features.to_numpy(copy=True)\n",
        "y = data_target.to_numpy(copy=True)\n",
        "print(f\"X: type={type(X)}, shape={X.shape}\")\n",
        "print(f\"y: type={type(y)}, shape={y.shape}\")\n"
      ]
    },
    {
      "cell_type": "markdown",
      "metadata": {
        "id": "KCvjSoHEDUKo"
      },
      "source": [
        "## Координатный спуск (3 балла)"
      ]
    },
    {
      "cell_type": "markdown",
      "metadata": {
        "id": "yjNm8dATDUKq"
      },
      "source": [
        "**Добавим единичный столбец для того, чтобы у нас был свободный коэффициент в уравнении регрессии:**"
      ]
    },
    {
      "cell_type": "code",
      "execution_count": 4,
      "metadata": {
        "id": "LMgq0fmKDUKr"
      },
      "outputs": [
        {
          "name": "stdout",
          "output_type": "stream",
          "text": [
            "X: type=<class 'numpy.ndarray'>, shape=(200, 4)\n"
          ]
        },
        {
          "data": {
            "text/plain": [
              "array([[  1. , 230.1,  37.8,  69.2],\n",
              "       [  1. ,  44.5,  39.3,  45.1],\n",
              "       [  1. ,  17.2,  45.9,  69.3],\n",
              "       [  1. , 151.5,  41.3,  58.5]])"
            ]
          },
          "execution_count": 4,
          "metadata": {},
          "output_type": "execute_result"
        }
      ],
      "source": [
        "import numpy as np\n",
        "\n",
        "X = np.hstack([np.ones(X.shape[0]).reshape(-1, 1), X])\n",
        "print(f\"X: type={type(X)}, shape={X.shape}\")\n",
        "X[0:4, :]\n"
      ]
    },
    {
      "cell_type": "markdown",
      "metadata": {
        "id": "R008OQwcDUKt"
      },
      "source": [
        "**Нормализуем данные: обычно это необходимо для корректной работы алгоритма**"
      ]
    },
    {
      "cell_type": "code",
      "execution_count": 5,
      "metadata": {
        "id": "2Sk7Wx-SDUKt"
      },
      "outputs": [
        {
          "data": {
            "text/plain": [
              "array([[0.07071068, 0.09561706, 0.09692057, 0.13052034],\n",
              "       [0.07071068, 0.01849178, 0.10076663, 0.08506456],\n",
              "       [0.07071068, 0.00714739, 0.11768927, 0.13070895],\n",
              "       [0.07071068, 0.06295517, 0.1058947 , 0.11033873]])"
            ]
          },
          "execution_count": 5,
          "metadata": {},
          "output_type": "execute_result"
        }
      ],
      "source": [
        "X = X / np.sqrt(np.sum(np.square(X), axis=0))\n",
        "X[0:4, :]\n"
      ]
    },
    {
      "cell_type": "markdown",
      "metadata": {
        "id": "F_pHHbAdDUKu"
      },
      "source": [
        "**Реализуйте алгоритм координатного спуска:** (3 балла)\n",
        "\n",
        "Ниже приведен алгоритм:"
      ]
    },
    {
      "cell_type": "markdown",
      "metadata": {
        "id": "jBQ8vT5UDUKu"
      },
      "source": [
        "<a href=\"https://ibb.co/Th3BQFn\"><img src=\"https://i.ibb.co/DK2DBS6/zascas.jpg\" alt=\"zascas\" border=\"0\"></a>"
      ]
    },
    {
      "cell_type": "markdown",
      "metadata": {
        "id": "5ce_yM20DUKv"
      },
      "source": [
        "Примечание: 1000 итераций здесь указаны для этого задания, на самом деле их может быть намного больше, нет детерменированного значения."
      ]
    },
    {
      "cell_type": "markdown",
      "metadata": {
        "id": "y3IdiHm9DUKv"
      },
      "source": [
        "Вам необходимо реализовать координатный спуск, и вывести веса в модели линейной регрессии."
      ]
    },
    {
      "cell_type": "code",
      "execution_count": 6,
      "metadata": {
        "id": "Vsi3d9OfDUKw"
      },
      "outputs": [
        {
          "data": {
            "text/html": [
              "<u>Results of the <b><i>generic</i></b> coordinate descent method:</u>"
            ],
            "text/plain": [
              "<IPython.core.display.HTML object>"
            ]
          },
          "metadata": {},
          "output_type": "display_data"
        },
        {
          "data": {
            "text/html": [
              "<ul>\n",
              "    <li>Linear regression coefficients <b>w = {41.55119820717775, 110.12980736209727, 73.53409950393593, -0.5402867694709074}</b></li>\n",
              "    <li>RSS function minimum: <b>556.825</b></li>\n",
              "    <li>Reached tolerance: <b>7.551099e-09</b></li>\n",
              "    <li>Coordinate descent iterations: <b>1000</b></li>\n",
              "    <li>Total 1D iterations: <b>136118</b></li>\n",
              "</ul>"
            ],
            "text/plain": [
              "<IPython.core.display.HTML object>"
            ]
          },
          "metadata": {},
          "output_type": "display_data"
        },
        {
          "data": {
            "text/html": [
              "<u>Results of the <b><i>LLS</i></b>-optimized coordinate descent method:</u>"
            ],
            "text/plain": [
              "<IPython.core.display.HTML object>"
            ]
          },
          "metadata": {},
          "output_type": "display_data"
        },
        {
          "data": {
            "text/html": [
              "<ul>\n",
              "    <li>Linear regression coefficients <b>w = {41.562172046036125, 110.13144155326066, 73.52860637603473, -0.5500638414306833}</b></li>\n",
              "    <li>RSS function minimum: <b>556.825</b></li>\n",
              "    <li>Reached tolerance: <b>6.661338e-16</b></li>\n",
              "    <li>Coordinate descent iterations: <b>1000</b></li>\n",
              "</ul>"
            ],
            "text/plain": [
              "<IPython.core.display.HTML object>"
            ]
          },
          "metadata": {},
          "output_type": "display_data"
        }
      ],
      "source": [
        "import numpy as np\n",
        "from typing import Callable\n",
        "from IPython.display import display, HTML\n",
        "\n",
        "RATIO_GOLDEN = (1 + 5 ** 0.5) / 2\n",
        "INV_RATIO_GOLDEN = 1 / RATIO_GOLDEN\n",
        "INV_RATIO_GOLDEN_SQUARED = 1 - 1 / RATIO_GOLDEN  # == 1 / RATIO_GOLDEN**2\n",
        "LOG_INV_RATIO_GOLDEN = np.log(INV_RATIO_GOLDEN)\n",
        "\n",
        "\n",
        "def array_put(x: np.ndarray, i: int, xi: float):\n",
        "    x[i] = xi\n",
        "    return x\n",
        "\n",
        "\n",
        "def optimize_golden_section(f: Callable, a: float, b: float, tol: float = 1e-5):\n",
        "    assert a < b\n",
        "    assert tol > 0\n",
        "    assert tol < 1\n",
        "\n",
        "    h = b - a\n",
        "    x_left = a + INV_RATIO_GOLDEN_SQUARED * h\n",
        "    x_right = a + INV_RATIO_GOLDEN * h\n",
        "    f_left = f(x_left)\n",
        "    f_right = f(x_right)\n",
        "    number_of_iterations = int(\n",
        "        np.ceil((np.log(tol) - np.log(h)) / LOG_INV_RATIO_GOLDEN))\n",
        "\n",
        "    for i in range(number_of_iterations - 1):\n",
        "        h = INV_RATIO_GOLDEN * h\n",
        "        if f_left >= f_right:\n",
        "            a = x_left  # ; b = b\n",
        "            x_left = x_right\n",
        "            f_left = f_right\n",
        "            x_right = a + INV_RATIO_GOLDEN * h\n",
        "            f_right = f(x_right)\n",
        "        else:\n",
        "            b = x_right  # ; a = a\n",
        "            x_right = x_left\n",
        "            f_right = f_left\n",
        "            x_left = a + INV_RATIO_GOLDEN_SQUARED * h\n",
        "            f_left = f(x_left)\n",
        "\n",
        "    if f_left >= f_right:\n",
        "        return {\n",
        "            'point': (x_left + b) / 2,\n",
        "            'uncertainty': (x_left, b),\n",
        "            'tol': b - x_left,\n",
        "            'iterations': number_of_iterations\n",
        "        }\n",
        "    else:\n",
        "        return {\n",
        "            'point': (a + x_right) / 2,\n",
        "            'uncertainty': (a, x_right),\n",
        "            'tol': x_right - a,\n",
        "            'iterations': number_of_iterations\n",
        "        }\n",
        "\n",
        "\n",
        "def interval_1d(f: Callable, x0, dx):\n",
        "    assert dx > 0\n",
        "    x = x0\n",
        "    a = x\n",
        "    f_a = f(a)\n",
        "\n",
        "    f_x_dx = f(x - dx)\n",
        "    if f_x_dx < f_a:\n",
        "        dx = -dx\n",
        "\n",
        "    b = x + dx\n",
        "    f_b = f(b)\n",
        "\n",
        "    temp_a = a\n",
        "    while f_b < f_a:\n",
        "        temp_a = a\n",
        "        a = b\n",
        "        f_a = f_b\n",
        "        b = b + dx\n",
        "        f_b = f(b)\n",
        "\n",
        "    a = temp_a\n",
        "\n",
        "    if dx < 0:\n",
        "        temp_b = b\n",
        "        b = a\n",
        "        a = temp_b\n",
        "\n",
        "    return (a, b)\n",
        "\n",
        "\n",
        "def optimize_coordinate_descent(f: Callable, x0: np.ndarray,\n",
        "                                tol: float = 1e-5,\n",
        "                                iterations=1000, iterations_over_tolerance: bool = False,\n",
        "                                sliding_window_1d: float = 0.01,\n",
        "                                norm_order: int = 2):\n",
        "    assert isinstance(x0, np.ndarray)\n",
        "    assert len(np.shape(x0)) == 1\n",
        "    assert tol > 0\n",
        "    assert tol < 1\n",
        "\n",
        "    p = np.size(x0)\n",
        "    x_last = np.copy(x0, order='C')\n",
        "    x = np.copy(x0, order='C')\n",
        "    counter_iterations = 1\n",
        "    counter_1d_iterations = 0\n",
        "    while True:\n",
        "        x = np.copy(x_last, order='C')\n",
        "\n",
        "        for i in range(p):\n",
        "            def f_xi(xi): return f(array_put(x, i, xi))\n",
        "            a_i, b_i = interval_1d(f_xi, x[i], dx=sliding_window_1d)\n",
        "            result_i = optimize_golden_section(f_xi, a_i, b_i, tol=tol/10)\n",
        "            xi_new = result_i['point']\n",
        "            counter_1d_iterations += result_i['iterations']\n",
        "            x[i] = xi_new\n",
        "\n",
        "        if iterations_over_tolerance:\n",
        "            if counter_iterations >= iterations:\n",
        "                break\n",
        "        else:\n",
        "            if np.linalg.norm(x - x_last, ord=norm_order) < tol or counter_iterations >= iterations:\n",
        "                break\n",
        "\n",
        "        x_last = x\n",
        "        counter_iterations += 1\n",
        "\n",
        "    return {\n",
        "        'point': x,\n",
        "        'f': f(x),\n",
        "        'tol': np.linalg.norm(x - x_last, ord=norm_order),\n",
        "        'iterations': counter_iterations,\n",
        "        '1D-iterations': counter_1d_iterations\n",
        "    }\n",
        "\n",
        "\n",
        "def optimize_lls_coordinate_descent(X: np.ndarray, y: np.ndarray, w0: np.ndarray,\n",
        "                                    tol: float = 1e-5,\n",
        "                                    iterations=1000, iterations_over_tolerance: bool = False,\n",
        "                                    norm_order: int = 2):\n",
        "    assert isinstance(w0, np.ndarray)\n",
        "    assert len(np.shape(w0)) == 1\n",
        "    assert tol > 0\n",
        "    assert tol < 1\n",
        "\n",
        "    p = np.size(w0)\n",
        "    w_last = np.copy(w0, order='C')\n",
        "    w = np.copy(w0, order='C')\n",
        "    counter_iterations = 1\n",
        "    r = np.zeros(np.size(y))\n",
        "    while True:\n",
        "        r = y - X @ w\n",
        "\n",
        "        for j in range(p):\n",
        "            r_j = r + w[j] * X[:, j]\n",
        "            w[j] = r_j @ X[:, j]\n",
        "            r = r_j - w[j] * X[:, j]\n",
        "\n",
        "        if iterations_over_tolerance:\n",
        "            if counter_iterations >= iterations:\n",
        "                break\n",
        "        else:\n",
        "            if np.linalg.norm(w - w_last, ord=norm_order) < tol or counter_iterations >= iterations:\n",
        "                break\n",
        "\n",
        "        w_last = np.copy(w, order='C')\n",
        "        counter_iterations += 1\n",
        "\n",
        "    return {\n",
        "        'weights': w,\n",
        "        'residue': np.dot(r, r),\n",
        "        'tol': np.linalg.norm(w - w_last, ord=norm_order),\n",
        "        'iterations': counter_iterations\n",
        "    }\n",
        "\n",
        "\n",
        "# /----- Целевая функция -----\\\n",
        "def rss_function(X, y, w):\n",
        "    delta_y = y - X @ w\n",
        "    return np.dot(delta_y, delta_y)\n",
        "# \\----- Целевая функция -----/\n",
        "\n",
        "\n",
        "# /----- Тестовые функции -----\\\n",
        "# X0 = np.array([5.0, 5.0])\n",
        "def func(X):\n",
        "    return (X[0] - 1)**2 + (X[1] + 2)**2 + 3\n",
        "\n",
        "\n",
        "# Для функции Исома метод покоординатного спуска работает плохо.\n",
        "# X0 = np.array([2.0, 2.0]) # подобранная начальная точка\n",
        "def easom_function(X):\n",
        "    return - np.cos(X[0]) * np.cos(X[1]) * np.exp(- (X[0] - np.pi)**2 - (X[1] - np.pi)**2)\n",
        "\n",
        "# a, b = interval_1d(lambda xi: func(array_put(X0, 0, xi)), X0[0], 0.01)\n",
        "# print(a, b)\n",
        "# optimize_golden_section(lambda xi: func(array_put(X0, 0, xi)), a, b, tol=1e-4)\n",
        "# \\----- Тестовые функции -----/\n",
        "\n",
        "# ==========\n",
        "w0 = np.zeros(np.size(X, axis=1))\n",
        "generic_method_results = optimize_coordinate_descent(\n",
        "    lambda w: rss_function(X, y, w), w0,\n",
        "    tol=1e-8,\n",
        "    iterations=1000, iterations_over_tolerance=True,\n",
        "    sliding_window_1d=0.01, norm_order=2\n",
        ")\n",
        "display(HTML(f\"<u>Results of the <b><i>generic</i></b> coordinate descent method:</u>\"))\n",
        "display(HTML(f\"\"\"<ul>\n",
        "    <li>Linear regression coefficients <b>w = {{{', '.join(map(str, generic_method_results['point']))}}}</b></li>\n",
        "    <li>RSS function minimum: <b>{generic_method_results['f']:.3f}</b></li>\n",
        "    <li>Reached tolerance: <b>{generic_method_results['tol']:e}</b></li>\n",
        "    <li>Coordinate descent iterations: <b>{generic_method_results['iterations']}</b></li>\n",
        "    <li>Total 1D iterations: <b>{generic_method_results['1D-iterations']}</b></li>\n",
        "</ul>\"\"\"))\n",
        "# ==========\n",
        "\n",
        "# ==========\n",
        "w0 = np.zeros(np.size(X, axis=1))\n",
        "lls_method_results = optimize_lls_coordinate_descent(\n",
        "    X, y, w0, tol=1e-8,\n",
        "    iterations=1000, iterations_over_tolerance=True,\n",
        "    norm_order=2\n",
        ")\n",
        "display(HTML(f\"<u>Results of the <b><i>LLS</i></b>-optimized coordinate descent method:</u>\"))\n",
        "display(HTML(f\"\"\"<ul>\n",
        "    <li>Linear regression coefficients <b>w = {{{', '.join(map(str, lls_method_results['weights']))}}}</b></li>\n",
        "    <li>RSS function minimum: <b>{lls_method_results['residue']:.3f}</b></li>\n",
        "    <li>Reached tolerance: <b>{lls_method_results['tol']:e}</b></li>\n",
        "    <li>Coordinate descent iterations: <b>{lls_method_results['iterations']}</b></li>\n",
        "</ul>\"\"\"))\n",
        "# =========="
      ]
    },
    {
      "cell_type": "markdown",
      "metadata": {
        "id": "a3jG-7UADUKx"
      },
      "source": [
        "Сравните результаты с реализацией линейной регрессии из библиотеки sklearn:"
      ]
    },
    {
      "cell_type": "code",
      "execution_count": 7,
      "metadata": {
        "id": "SBl-1Yb5DUKy"
      },
      "outputs": [
        {
          "name": "stdout",
          "output_type": "stream",
          "text": [
            "[ 41.56217205 110.13144155  73.52860638  -0.55006384]\n"
          ]
        },
        {
          "data": {
            "text/html": [
              "<u>Results of the <b><i>scikit-learn LinearRegression</i></b> model:</u>"
            ],
            "text/plain": [
              "<IPython.core.display.HTML object>"
            ]
          },
          "metadata": {},
          "output_type": "display_data"
        },
        {
          "data": {
            "text/html": [
              "<ul>\n",
              "    <li>Linear regression coefficients <b>w = {41.56217204603611, 110.13144155326069, 73.52860637603477, -0.550063841430628}</b></li>\n",
              "</ul>"
            ],
            "text/plain": [
              "<IPython.core.display.HTML object>"
            ]
          },
          "metadata": {},
          "output_type": "display_data"
        }
      ],
      "source": [
        "from sklearn.linear_model import LinearRegression\n",
        "\n",
        "model = LinearRegression(fit_intercept=False)\n",
        "model.fit(X, y)\n",
        "\n",
        "print(model.coef_)\n",
        "\n",
        "display(HTML(f\"<u>Results of the <b><i>scikit-learn LinearRegression</i></b> model:</u>\"))\n",
        "display(HTML(f\"\"\"<ul>\n",
        "    <li>Linear regression coefficients <b>w = {{{', '.join(map(str, model.coef_))}}}</b></li>\n",
        "</ul>\"\"\"))"
      ]
    },
    {
      "cell_type": "markdown",
      "metadata": {
        "id": "hIl0AGLyDUKy"
      },
      "source": [
        "Если вы все сделали верно, они должны практически совпасть!"
      ]
    },
    {
      "cell_type": "markdown",
      "metadata": {
        "id": "VCGwFnPdDUKz"
      },
      "source": [
        "## Стохастический градиентный спуск (6 баллов)"
      ]
    },
    {
      "cell_type": "markdown",
      "metadata": {
        "id": "5u7Q2YJla_Xk"
      },
      "source": [
        "**Отмасштабируйте столбцы исходной матрицы *X* (которую мы не нормализовали еще!). Для того, чтобы это сделать, надо вычесть из каждого значения среднее и разделить на стандартное отклонение** (0.5 баллов)"
      ]
    },
    {
      "cell_type": "code",
      "execution_count": 8,
      "metadata": {
        "id": "9cEpV_5La_Xo"
      },
      "outputs": [
        {
          "name": "stdout",
          "output_type": "stream",
          "text": [
            "X[shape=(200, 3)] =\n",
            "[[ 0.96985227  0.98152247  1.77894547]\n",
            " [-1.19737623  1.08280781  0.66957876]\n",
            " [-1.51615499  1.52846331  1.78354865]\n",
            " [ 0.05204968  1.21785493  1.28640506]\n",
            " [ 0.3941822  -0.84161366  1.28180188]]\n",
            "...\n",
            "[[ 0.34981006 -0.942899   -1.11185242]\n",
            " [ 1.59456522  1.26512143  1.64085003]]\n",
            "\n",
            "y[shape=(200,)] =\n",
            "[22.1 10.4  9.3 18.5 12.9]... [12.8 25.5]\n"
          ]
        }
      ],
      "source": [
        "X = data_features.to_numpy(copy=True)\n",
        "y = data_target.to_numpy(copy=True)\n",
        "\n",
        "X = ( (X.T - np.mean(X, axis=0)[:, None]) / np.std(X[:, None], axis=0).T ).T\n",
        "\n",
        "\n",
        "print(f\"X[shape={X.shape}] =\\n{X[0:5, :]}\\n...\\n{X[-3:-1, :]}\")\n",
        "print('')\n",
        "print(f\"y[shape={y.shape}] =\\n{y[0:5]}... {y[-3:-1]}\")\n"
      ]
    },
    {
      "cell_type": "markdown",
      "metadata": {
        "id": "8WkNYILHDUK1"
      },
      "source": [
        "**Добавим единичный столбец**"
      ]
    },
    {
      "cell_type": "code",
      "execution_count": 9,
      "metadata": {
        "id": "EVl5tEGtDUK1"
      },
      "outputs": [
        {
          "name": "stdout",
          "output_type": "stream",
          "text": [
            "X[shape=(200, 4)] =\n",
            "[[ 1.          0.96985227  0.98152247  1.77894547]\n",
            " [ 1.         -1.19737623  1.08280781  0.66957876]\n",
            " [ 1.         -1.51615499  1.52846331  1.78354865]\n",
            " [ 1.          0.05204968  1.21785493  1.28640506]\n",
            " [ 1.          0.3941822  -0.84161366  1.28180188]]\n",
            "...\n",
            "[[ 1.          0.34981006 -0.942899   -1.11185242]\n",
            " [ 1.          1.59456522  1.26512143  1.64085003]]\n"
          ]
        }
      ],
      "source": [
        "X = np.hstack([np.ones(X.shape[0]).reshape(-1, 1), X])\n",
        "\n",
        "print(f\"X[shape={X.shape}] =\\n{X[0:5, :]}\\n...\\n{X[-3:-1, :]}\")"
      ]
    },
    {
      "cell_type": "markdown",
      "metadata": {
        "id": "m53tZA5fDUK1"
      },
      "source": [
        "**Создайте функцию mse_error для вычисления среднеквадратичной ошибки, принимающую два аргумента: реальные значения и предсказывающие, и возвращающую значение mse** (0.5 балла)"
      ]
    },
    {
      "cell_type": "code",
      "execution_count": 10,
      "metadata": {
        "id": "0cvtC08Aa_YK"
      },
      "outputs": [],
      "source": [
        "def mse_error(y_test: np.ndarray, y_pred: np.ndarray) -> float:\n",
        "    assert np.size(y_test) == np.size(y_pred)\n",
        "    return (1 / np.size(y_test)) * np.sum( (y_test - y_pred)**2 )"
      ]
    },
    {
      "cell_type": "markdown",
      "metadata": {
        "id": "lpOLhdvBDUK2"
      },
      "source": [
        "**Сделайте наивный прогноз: предскажите продажи средним значением. После этого рассчитайте среднеквадратичную ошибку для этого прогноза** (0.5 балла)"
      ]
    },
    {
      "cell_type": "code",
      "execution_count": 11,
      "metadata": {
        "id": "kLV_XljVa_YZ"
      },
      "outputs": [
        {
          "data": {
            "text/html": [
              "<span style='color: red'><b>MSE</b> of mean value: <b>27.086</b></span>"
            ],
            "text/plain": [
              "<IPython.core.display.HTML object>"
            ]
          },
          "metadata": {},
          "output_type": "display_data"
        }
      ],
      "source": [
        "y_mean = np.mean(y)\n",
        "y_means = np.full(np.size(y), y_mean)\n",
        "\n",
        "display(HTML(f\"<span style='color: red'><b>MSE</b> of mean value: <b>{mse_error(y_means, y):.3f}</b></span>\"))"
      ]
    },
    {
      "cell_type": "markdown",
      "metadata": {
        "id": "BbybL2ola_ZM"
      },
      "source": [
        "**Создайте функцию *lin_pred*, которая может по матрице предикторов *X* и вектору весов линейной модели *w* получить вектор прогнозов** (0.5 балла)"
      ]
    },
    {
      "cell_type": "code",
      "execution_count": 12,
      "metadata": {
        "id": "1Cyz-Luaa_ZO"
      },
      "outputs": [
        {
          "name": "stdout",
          "output_type": "stream",
          "text": [
            "[[ 1.          0.96985227  0.98152247  1.77894547]\n",
            " [ 1.         -1.19737623  1.08280781  0.66957876]\n",
            " [ 1.         -1.51615499  1.52846331  1.78354865]\n",
            " [ 1.          0.05204968  1.21785493  1.28640506]\n",
            " [ 1.          0.3941822  -0.84161366  1.28180188]]\n"
          ]
        },
        {
          "data": {
            "text/html": [
              "<u>Results of the <b><i>generic</i></b> coordinate descent method:</u>"
            ],
            "text/plain": [
              "<IPython.core.display.HTML object>"
            ]
          },
          "metadata": {},
          "output_type": "display_data"
        },
        {
          "data": {
            "text/html": [
              "<ul>\n",
              "    <li>Linear regression coefficients <b>w = {14.023, 3.92, 2.793, -0.023}</b></li>\n",
              "    <li>RSS function minimum: <b>556.826</b></li>\n",
              "    <li>Reached tolerance: <b>1.109010e-09</b></li>\n",
              "    <li>Coordinate descent iterations: <b>1000</b></li>\n",
              "    <li>Total 1D iterations: <b>136006</b></li>\n",
              "    <li><span style='color: red'><b>MSE</b> of LLS coordinate descent: <b>2.784</b></span></li>\n",
              "</ul>"
            ],
            "text/plain": [
              "<IPython.core.display.HTML object>"
            ]
          },
          "metadata": {},
          "output_type": "display_data"
        }
      ],
      "source": [
        "# ваш код\n",
        "def lin_pred(X: np.ndarray, w: np.ndarray) -> np.ndarray:\n",
        "    assert X.ndim == 2\n",
        "    assert w.ndim == 1\n",
        "    assert np.size(X, axis=1) == np.size(w, axis=0)\n",
        "    print(X[0:5, :])\n",
        "    return X @ w\n",
        "\n",
        "# ==========\n",
        "# Сделаем градиентный спуск generic методом для функции RSS\n",
        "# для самопроверки, что величина MSE будет меньше\n",
        "# по сравнению с MSE, подсчитаной по среднему значению продаж.\n",
        "# ==========\n",
        "w0 = np.zeros(np.size(X, axis=1))\n",
        "generic_method_results = optimize_coordinate_descent(\n",
        "    lambda w: rss_function(X, y, w), w0,\n",
        "    tol=1e-8,\n",
        "    iterations=1000, iterations_over_tolerance=True,\n",
        "    sliding_window_1d=0.01, norm_order=2\n",
        ")\n",
        "y_pred = lin_pred(X, generic_method_results['point'])\n",
        "display(HTML(f\"<u>Results of the <b><i>generic</i></b> coordinate descent method:</u>\"))\n",
        "display(HTML(f\"\"\"<ul>\n",
        "    <li>Linear regression coefficients <b>w = {{{', '.join(map(str, np.round(generic_method_results['point'], 3)))}}}</b></li>\n",
        "    <li>RSS function minimum: <b>{generic_method_results['f']:.3f}</b></li>\n",
        "    <li>Reached tolerance: <b>{generic_method_results['tol']:e}</b></li>\n",
        "    <li>Coordinate descent iterations: <b>{generic_method_results['iterations']}</b></li>\n",
        "    <li>Total 1D iterations: <b>{generic_method_results['1D-iterations']}</b></li>\n",
        "    <li><span style='color: red'><b>MSE</b> of LLS coordinate descent: <b>{mse_error(y_pred, y):.3f}</b></span></li>\n",
        "</ul>\"\"\"))\n",
        "# =========="
      ]
    },
    {
      "cell_type": "markdown",
      "metadata": {
        "id": "BU4adBrya_Zm"
      },
      "source": [
        "**Создайте функцию *stoch_grad_step* для реализации шага стохастического градиентного спуска. (1.5 балла) \n",
        "Функция должна принимать на вход следующие аргументы:**\n",
        "* матрицу *X*\n",
        "* вектора *y* и *w*\n",
        "* число *train_ind* - индекс объекта обучающей выборки (строки матрицы *X*), по которому считается изменение весов\n",
        "* число *$\\eta$* (eta) - шаг градиентного спуска\n",
        "\n",
        "Результатом будет вектор обновленных весов"
      ]
    },
    {
      "cell_type": "markdown",
      "metadata": {
        "id": "dyLY-P02DUK5"
      },
      "source": [
        "Шаг для стохастического градиентного спуска выглядит следующим образом:"
      ]
    },
    {
      "cell_type": "markdown",
      "metadata": {
        "id": "ORsAyIKNDUK5"
      },
      "source": [
        "$$\\Large w_j \\leftarrow w_j - \\frac{2\\eta}{\\ell} \\sum_{i=1}^\\ell{{x_{ij}((w_0 + w_1x_{i1} + w_2x_{i2} +  w_3x_{i3}) - y_i)}}$$"
      ]
    },
    {
      "cell_type": "markdown",
      "metadata": {
        "id": "CQl2FrpuDUK6"
      },
      "source": [
        "Для того, чтобы написать функцию, нужно сделать следующее:\n",
        "    \n",
        "*  посчитать направление изменения: умножить объект обучающей выборки на 2 и на разницу между предсказанным значением и реальным, а потом поделить на количество элементов в выборке.\n",
        "* вернуть разницу между вектором весов и направлением изменения, умноженным на шаг градиентного спуска"
      ]
    },
    {
      "cell_type": "code",
      "execution_count": 13,
      "metadata": {
        "id": "YUhVQGsja_Zn"
      },
      "outputs": [],
      "source": [
        "def stoch_grad_step(X: np.ndarray, y: np.ndarray, w: np.ndarray, train_ind: int, eta: float) -> np.ndarray:\n",
        "    return w - (2 * eta) * X[train_ind, :] * (X[train_ind, :] @ w - y[train_ind])"
      ]
    },
    {
      "cell_type": "markdown",
      "metadata": {
        "id": "pXwIFd0Ma_Zx"
      },
      "source": [
        "**Создайте функцию *stochastic_gradient_descent*, для реализации стохастического градиентного спуска (2.5 балла)**\n",
        "\n",
        "**Функция принимает на вход следующие аргументы:**\n",
        "- Матрицу признаков X\n",
        "- Целевую переменнную\n",
        "- Изначальную точку (веса модели)\n",
        "- Параметр, определяющий темп обучения\n",
        "- Максимальное число итераций\n",
        "- Евклидово расстояние между векторами весов на соседних итерациях градиентного спуска,при котором алгоритм прекращает работу \n",
        "\n",
        "**На каждой итерации в вектор (список) должно записываться текущее значение среднеквадратичной ошибки. Функция должна возвращать вектор весов $w$, а также вектор (список) ошибок.**"
      ]
    },
    {
      "cell_type": "markdown",
      "metadata": {
        "id": "ZVeoNF1JDUK7"
      },
      "source": [
        "Алгоритм следующий:\n",
        "    \n",
        "* Инициализируйте расстояние между векторами весов на соседних итерациях большим числом (можно бесконечностью)\n",
        "* Создайте пустой список для фиксации ошибок\n",
        "* Создайте счетчик итераций\n",
        "* Реализуйте оновной цикл обучения пока расстояние между векторами весов больше того, при котором надо прекратить работу (когда расстояния станут слишком маленькими - значит, мы застряли в одном месте) и количество итераций меньше максимально разрешенного: сгенерируйте случайный индекс, запишите текущую ошибку в вектор ошибок, запишите в переменную текущий шаг стохастического спуска с использованием функции, написанной ранее. Далее рассчитайте текущее расстояние между векторами весов и прибавьте к счетчику итераций 1.\n",
        "* Верните вектор весов и вектор ошибок"
      ]
    },
    {
      "cell_type": "code",
      "execution_count": 14,
      "metadata": {
        "id": "CD_xcFNfa_Zy"
      },
      "outputs": [],
      "source": [
        "def stochastic_gradient_descent(\n",
        "    X: np.ndarray, y: np.ndarray, w0: np.ndarray,\n",
        "    eta_rate: float = 0.05,\n",
        "    iterations: int = 1000, iterations_over_tolerance: bool = False,\n",
        "    tol: float = 1e-5) -> np.ndarray:\n",
        "    assert X.ndim == 2\n",
        "    assert y.ndim == 1\n",
        "    assert w0.ndim == 1\n",
        "    assert np.size(X, axis=0) == np.size(y, axis=0)\n",
        "    assert np.size(X, axis=1) == np.size(w0, axis=0)\n",
        "    assert eta_rate > 0\n",
        "    assert iterations > 0\n",
        "    assert tol > 0\n",
        "\n",
        "    # =====\n",
        "    w = np.copy(w0)\n",
        "    w_last = np.copy(w0 + 1000)\n",
        "    N = np.size(X, axis=0)\n",
        "    counter_iterations = 1\n",
        "    # -----\n",
        "    error_list = list()\n",
        "    # -----\n",
        "    while True:\n",
        "        train_ind = np.random.randint(low=0, high=N)\n",
        "        w = stoch_grad_step(X, y, w, train_ind=train_ind, eta=eta_rate)\n",
        "\n",
        "        error = mse_error(y_test=y, y_pred=X @ w)\n",
        "        error_list.append(error)\n",
        "\n",
        "        if iterations_over_tolerance:\n",
        "            if counter_iterations >= iterations:\n",
        "                break\n",
        "        else:\n",
        "            if np.linalg.norm(w - w_last, ord=2) < tol or counter_iterations >= iterations:\n",
        "                break\n",
        "\n",
        "        w_last = np.copy(w)\n",
        "        counter_iterations += 1\n",
        "    # =====\n",
        "    \n",
        "    return {\n",
        "        'weights': w,\n",
        "        'errors': np.array(error_list),\n",
        "        'last_error': error_list[-1],\n",
        "        'tol': np.linalg.norm(w - w_last, ord=2),\n",
        "        'iterations': counter_iterations\n",
        "    }\n"
      ]
    },
    {
      "cell_type": "markdown",
      "metadata": {
        "id": "0OqHO1Rta_Z7"
      },
      "source": [
        " **Запустите $10^5$ итераций стохастического градиентного спуска. Укажите вектор начальных весов, состоящий из нулей. Можете поэкспериментировать с параметром, отвечающим за темп обучения.**"
      ]
    },
    {
      "cell_type": "markdown",
      "metadata": {
        "id": "N6fHHT6vDUK8"
      },
      "source": [
        "**Постройте график зависимости ошибки от номера итерации**"
      ]
    },
    {
      "cell_type": "code",
      "execution_count": 15,
      "metadata": {
        "id": "zsSfHDzLDUK9"
      },
      "outputs": [
        {
          "data": {
            "image/png": "[encoded data removed]",
            "text/plain": [
              "<Figure size 432x288 with 1 Axes>"
            ]
          },
          "metadata": {},
          "output_type": "display_data"
        }
      ],
      "source": [
        "import seaborn as sns\n",
        "import matplotlib\n",
        "import matplotlib.pyplot as plt\n",
        "\n",
        "%matplotlib inline\n",
        "sns.set_theme(style='whitegrid')\n",
        "\n",
        "\n",
        "w0 = np.zeros(np.size(X, axis=1))\n",
        "sgd_results = stochastic_gradient_descent(X, y, w0,\n",
        "    eta_rate=0.0001,\n",
        "    iterations=int(1e5), iterations_over_tolerance=True,\n",
        "    tol=1e-5\n",
        ")\n",
        "\n",
        "mse_errors = sgd_results['errors']\n",
        "mse_errors_plot = sns.lineplot(x=np.arange(1, np.size(mse_errors) + 1), y=mse_errors)\n",
        "mse_errors_plot.set(xscale='log')\n",
        "mse_errors_plot.set_xlabel(\"Number of iterations\", fontsize = 10)\n",
        "mse_errors_plot.set_ylabel(\"Mean Squared Error (MSE)\", fontsize = 10)\n",
        "mse_errors_plot.set_title(\"SGD MSE\", fontsize = 12)\n",
        "plt.show(mse_errors_plot)"
      ]
    },
    {
      "cell_type": "markdown",
      "metadata": {
        "id": "O-MVOcJ6a_aY"
      },
      "source": [
        "**Выведите вектор весов, к которому сошелся метод.**"
      ]
    },
    {
      "cell_type": "code",
      "execution_count": 16,
      "metadata": {
        "id": "MPjVkXe4DUK9"
      },
      "outputs": [
        {
          "data": {
            "text/html": [
              "<u>Results of the <b><i>Stochatic Gradient Descent</i></b> method:</u>"
            ],
            "text/plain": [
              "<IPython.core.display.HTML object>"
            ]
          },
          "metadata": {},
          "output_type": "display_data"
        },
        {
          "data": {
            "text/html": [
              "<ul>\n",
              "    <li><span style='color: blue'>Linear regression coefficients <b>w = {14.032, 3.932, 2.786, 0.006}</b></span></li>\n",
              "    <li>MSE errors: <b>[223.53069, 223.51519, 223.37002, 223.32484, 223.22726... 2.78518, 2.78518, 2.78518]</b></li>\n",
              "    <li>Reached tolerance: <b>8.354070e-04</b></li>\n",
              "    <li>SGD iterations: <b>100000</b></li>\n",
              "    <li><span style='color: red'><b>MSE</b> of Stochatic Gradient Descent: <b>2.785</b></span></li>\n",
              "</ul>"
            ],
            "text/plain": [
              "<IPython.core.display.HTML object>"
            ]
          },
          "metadata": {},
          "output_type": "display_data"
        }
      ],
      "source": [
        "display(HTML(f\"<u>Results of the <b><i>Stochatic Gradient Descent</i></b> method:</u>\"))\n",
        "display(HTML(f\"\"\"<ul>\n",
        "    <li><span style='color: blue'>Linear regression coefficients <b>w = {{{', '.join(map(str, np.round(sgd_results['weights'], 3)))}}}</b></span></li>\n",
        "    <li>MSE errors: <b>[{', '.join(map(str, np.round(sgd_results['errors'][0:5], 5)))}... {', '.join(map(str, np.round(sgd_results['errors'][-4:-1], 5)))}]</b></li>\n",
        "    <li>Reached tolerance: <b>{sgd_results['tol']:e}</b></li>\n",
        "    <li>SGD iterations: <b>{sgd_results['iterations']}</b></li>\n",
        "    <li><span style='color: red'><b>MSE</b> of Stochatic Gradient Descent: <b>{sgd_results['last_error']:.3f}</b></span></li>\n",
        "</ul>\"\"\"))\n"
      ]
    },
    {
      "cell_type": "markdown",
      "metadata": {
        "id": "qabzMc3Qa_a5"
      },
      "source": [
        "**Выведите среднеквадратичную ошибку на последней итерации.**"
      ]
    },
    {
      "cell_type": "code",
      "execution_count": 17,
      "metadata": {
        "id": "7tPWleMIa_a7"
      },
      "outputs": [
        {
          "data": {
            "text/html": [
              "<span style='color: darkred'>Last <b>MSE</b> of Stochatic Gradient Descent: <b>2.785</b></span>"
            ],
            "text/plain": [
              "<IPython.core.display.HTML object>"
            ]
          },
          "metadata": {},
          "output_type": "display_data"
        }
      ],
      "source": [
        "display(HTML(f\"<span style='color: darkred'>Last <b>MSE</b> of Stochatic Gradient Descent: <b>{sgd_results['last_error']:.3f}</b></span>\"))\n"
      ]
    },
    {
      "cell_type": "code",
      "execution_count": null,
      "metadata": {},
      "outputs": [],
      "source": []
    }
  ],
  "metadata": {
    "colab": {
      "collapsed_sections": [],
      "name": "Практика_Оптимизация.ipynb",
      "provenance": [],
      "toc_visible": true
    },
    "interpreter": {
      "hash": "510017f941ecd040108aa6155b7d7920a30c358be25c6738528295864459697b"
    },
    "kernelspec": {
      "display_name": "Python 3.10.4 ('data-science')",
      "language": "python",
      "name": "python3"
    },
    "language_info": {
      "codemirror_mode": {
        "name": "ipython",
        "version": 3
      },
      "file_extension": ".py",
      "mimetype": "text/x-python",
      "name": "python",
      "nbconvert_exporter": "python",
      "pygments_lexer": "ipython3",
      "version": "3.10.4"
    }
  },
  "nbformat": 4,
  "nbformat_minor": 0
}
