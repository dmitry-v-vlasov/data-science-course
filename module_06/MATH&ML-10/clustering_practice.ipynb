{
 "cells": [
  {
   "cell_type": "code",
   "execution_count": 1,
   "metadata": {},
   "outputs": [],
   "source": [
    "import pandas as pd\n",
    "import matplotlib.pyplot as plt\n",
    "import seaborn as sns\n",
    "import numpy as np\n",
    "from sklearn import preprocessing\n",
    "from sklearn import model_selection\n",
    "from sklearn import linear_model\n",
    "from sklearn import tree\n",
    "from sklearn import neighbors\n",
    "from sklearn import naive_bayes\n",
    "from sklearn import ensemble\n",
    "from sklearn import cluster\n",
    "from sklearn import mixture\n",
    "from sklearn import metrics\n",
    "\n",
    "import matplotlib.pyplot as plt"
   ]
  },
  {
   "cell_type": "code",
   "execution_count": 2,
   "metadata": {},
   "outputs": [],
   "source": [
    "pd.set_option('display.max_columns', None)"
   ]
  },
  {
   "cell_type": "code",
   "execution_count": 9,
   "metadata": {},
   "outputs": [
    {
     "data": {
      "text/html": [
       "<div>\n",
       "<style scoped>\n",
       "    .dataframe tbody tr th:only-of-type {\n",
       "        vertical-align: middle;\n",
       "    }\n",
       "\n",
       "    .dataframe tbody tr th {\n",
       "        vertical-align: top;\n",
       "    }\n",
       "\n",
       "    .dataframe thead th {\n",
       "        text-align: right;\n",
       "    }\n",
       "</style>\n",
       "<table border=\"1\" class=\"dataframe\">\n",
       "  <thead>\n",
       "    <tr style=\"text-align: right;\">\n",
       "      <th></th>\n",
       "      <th>CUST_ID</th>\n",
       "      <th>BALANCE</th>\n",
       "      <th>BALANCE_FREQUENCY</th>\n",
       "      <th>PURCHASES</th>\n",
       "      <th>ONEOFF_PURCHASES</th>\n",
       "      <th>INSTALLMENTS_PURCHASES</th>\n",
       "      <th>CASH_ADVANCE</th>\n",
       "      <th>PURCHASES_FREQUENCY</th>\n",
       "      <th>ONEOFF_PURCHASES_FREQUENCY</th>\n",
       "      <th>PURCHASES_INSTALLMENTS_FREQUENCY</th>\n",
       "      <th>CASH_ADVANCE_FREQUENCY</th>\n",
       "      <th>CASH_ADVANCE_TRX</th>\n",
       "      <th>PURCHASES_TRX</th>\n",
       "      <th>CREDIT_LIMIT</th>\n",
       "      <th>PAYMENTS</th>\n",
       "      <th>MINIMUM_PAYMENTS</th>\n",
       "      <th>PRC_FULL_PAYMENT</th>\n",
       "      <th>TENURE</th>\n",
       "    </tr>\n",
       "  </thead>\n",
       "  <tbody>\n",
       "    <tr>\n",
       "      <th>0</th>\n",
       "      <td>C10001</td>\n",
       "      <td>40.900749</td>\n",
       "      <td>0.818182</td>\n",
       "      <td>95.40</td>\n",
       "      <td>0.00</td>\n",
       "      <td>95.4</td>\n",
       "      <td>0.000000</td>\n",
       "      <td>0.166667</td>\n",
       "      <td>0.000000</td>\n",
       "      <td>0.083333</td>\n",
       "      <td>0.000000</td>\n",
       "      <td>0</td>\n",
       "      <td>2</td>\n",
       "      <td>1000.0</td>\n",
       "      <td>201.802084</td>\n",
       "      <td>139.509787</td>\n",
       "      <td>0.000000</td>\n",
       "      <td>12</td>\n",
       "    </tr>\n",
       "    <tr>\n",
       "      <th>1</th>\n",
       "      <td>C10002</td>\n",
       "      <td>3202.467416</td>\n",
       "      <td>0.909091</td>\n",
       "      <td>0.00</td>\n",
       "      <td>0.00</td>\n",
       "      <td>0.0</td>\n",
       "      <td>6442.945483</td>\n",
       "      <td>0.000000</td>\n",
       "      <td>0.000000</td>\n",
       "      <td>0.000000</td>\n",
       "      <td>0.250000</td>\n",
       "      <td>4</td>\n",
       "      <td>0</td>\n",
       "      <td>7000.0</td>\n",
       "      <td>4103.032597</td>\n",
       "      <td>1072.340217</td>\n",
       "      <td>0.222222</td>\n",
       "      <td>12</td>\n",
       "    </tr>\n",
       "    <tr>\n",
       "      <th>2</th>\n",
       "      <td>C10003</td>\n",
       "      <td>2495.148862</td>\n",
       "      <td>1.000000</td>\n",
       "      <td>773.17</td>\n",
       "      <td>773.17</td>\n",
       "      <td>0.0</td>\n",
       "      <td>0.000000</td>\n",
       "      <td>1.000000</td>\n",
       "      <td>1.000000</td>\n",
       "      <td>0.000000</td>\n",
       "      <td>0.000000</td>\n",
       "      <td>0</td>\n",
       "      <td>12</td>\n",
       "      <td>7500.0</td>\n",
       "      <td>622.066742</td>\n",
       "      <td>627.284787</td>\n",
       "      <td>0.000000</td>\n",
       "      <td>12</td>\n",
       "    </tr>\n",
       "    <tr>\n",
       "      <th>3</th>\n",
       "      <td>C10004</td>\n",
       "      <td>1666.670542</td>\n",
       "      <td>0.636364</td>\n",
       "      <td>1499.00</td>\n",
       "      <td>1499.00</td>\n",
       "      <td>0.0</td>\n",
       "      <td>205.788017</td>\n",
       "      <td>0.083333</td>\n",
       "      <td>0.083333</td>\n",
       "      <td>0.000000</td>\n",
       "      <td>0.083333</td>\n",
       "      <td>1</td>\n",
       "      <td>1</td>\n",
       "      <td>7500.0</td>\n",
       "      <td>0.000000</td>\n",
       "      <td>NaN</td>\n",
       "      <td>0.000000</td>\n",
       "      <td>12</td>\n",
       "    </tr>\n",
       "    <tr>\n",
       "      <th>4</th>\n",
       "      <td>C10005</td>\n",
       "      <td>817.714335</td>\n",
       "      <td>1.000000</td>\n",
       "      <td>16.00</td>\n",
       "      <td>16.00</td>\n",
       "      <td>0.0</td>\n",
       "      <td>0.000000</td>\n",
       "      <td>0.083333</td>\n",
       "      <td>0.083333</td>\n",
       "      <td>0.000000</td>\n",
       "      <td>0.000000</td>\n",
       "      <td>0</td>\n",
       "      <td>1</td>\n",
       "      <td>1200.0</td>\n",
       "      <td>678.334763</td>\n",
       "      <td>244.791237</td>\n",
       "      <td>0.000000</td>\n",
       "      <td>12</td>\n",
       "    </tr>\n",
       "  </tbody>\n",
       "</table>\n",
       "</div>"
      ],
      "text/plain": [
       "  CUST_ID      BALANCE  BALANCE_FREQUENCY  PURCHASES  ONEOFF_PURCHASES  \\\n",
       "0  C10001    40.900749           0.818182      95.40              0.00   \n",
       "1  C10002  3202.467416           0.909091       0.00              0.00   \n",
       "2  C10003  2495.148862           1.000000     773.17            773.17   \n",
       "3  C10004  1666.670542           0.636364    1499.00           1499.00   \n",
       "4  C10005   817.714335           1.000000      16.00             16.00   \n",
       "\n",
       "   INSTALLMENTS_PURCHASES  CASH_ADVANCE  PURCHASES_FREQUENCY  \\\n",
       "0                    95.4      0.000000             0.166667   \n",
       "1                     0.0   6442.945483             0.000000   \n",
       "2                     0.0      0.000000             1.000000   \n",
       "3                     0.0    205.788017             0.083333   \n",
       "4                     0.0      0.000000             0.083333   \n",
       "\n",
       "   ONEOFF_PURCHASES_FREQUENCY  PURCHASES_INSTALLMENTS_FREQUENCY  \\\n",
       "0                    0.000000                          0.083333   \n",
       "1                    0.000000                          0.000000   \n",
       "2                    1.000000                          0.000000   \n",
       "3                    0.083333                          0.000000   \n",
       "4                    0.083333                          0.000000   \n",
       "\n",
       "   CASH_ADVANCE_FREQUENCY  CASH_ADVANCE_TRX  PURCHASES_TRX  CREDIT_LIMIT  \\\n",
       "0                0.000000                 0              2        1000.0   \n",
       "1                0.250000                 4              0        7000.0   \n",
       "2                0.000000                 0             12        7500.0   \n",
       "3                0.083333                 1              1        7500.0   \n",
       "4                0.000000                 0              1        1200.0   \n",
       "\n",
       "      PAYMENTS  MINIMUM_PAYMENTS  PRC_FULL_PAYMENT  TENURE  \n",
       "0   201.802084        139.509787          0.000000      12  \n",
       "1  4103.032597       1072.340217          0.222222      12  \n",
       "2   622.066742        627.284787          0.000000      12  \n",
       "3     0.000000               NaN          0.000000      12  \n",
       "4   678.334763        244.791237          0.000000      12  "
      ]
     },
     "execution_count": 9,
     "metadata": {},
     "output_type": "execute_result"
    }
   ],
   "source": [
    "data_raw = pd.read_csv('data/CC GENERAL.csv')\n",
    "data_raw.head()"
   ]
  },
  {
   "cell_type": "code",
   "execution_count": 10,
   "metadata": {},
   "outputs": [
    {
     "data": {
      "text/plain": [
       "314"
      ]
     },
     "execution_count": 10,
     "metadata": {},
     "output_type": "execute_result"
    }
   ],
   "source": [
    "data_raw.isna().sum().sum()"
   ]
  },
  {
   "cell_type": "code",
   "execution_count": 11,
   "metadata": {},
   "outputs": [
    {
     "data": {
      "text/plain": [
       "CUST_ID                               0\n",
       "BALANCE                               0\n",
       "BALANCE_FREQUENCY                     0\n",
       "PURCHASES                             0\n",
       "ONEOFF_PURCHASES                      0\n",
       "INSTALLMENTS_PURCHASES                0\n",
       "CASH_ADVANCE                          0\n",
       "PURCHASES_FREQUENCY                   0\n",
       "ONEOFF_PURCHASES_FREQUENCY            0\n",
       "PURCHASES_INSTALLMENTS_FREQUENCY      0\n",
       "CASH_ADVANCE_FREQUENCY                0\n",
       "CASH_ADVANCE_TRX                      0\n",
       "PURCHASES_TRX                         0\n",
       "CREDIT_LIMIT                          1\n",
       "PAYMENTS                              0\n",
       "MINIMUM_PAYMENTS                    313\n",
       "PRC_FULL_PAYMENT                      0\n",
       "TENURE                                0\n",
       "dtype: int64"
      ]
     },
     "execution_count": 11,
     "metadata": {},
     "output_type": "execute_result"
    }
   ],
   "source": [
    "data_raw.isna().sum()"
   ]
  },
  {
   "cell_type": "code",
   "execution_count": 12,
   "metadata": {},
   "outputs": [],
   "source": [
    "data_raw['CREDIT_LIMIT'].fillna(data_raw['CREDIT_LIMIT'].mean(), inplace=True)\n",
    "data_raw['MINIMUM_PAYMENTS'].fillna(data_raw['MINIMUM_PAYMENTS'].mean(), inplace=True)\n"
   ]
  },
  {
   "cell_type": "code",
   "execution_count": 13,
   "metadata": {},
   "outputs": [
    {
     "data": {
      "text/plain": [
       "864.2065423050761"
      ]
     },
     "execution_count": 13,
     "metadata": {},
     "output_type": "execute_result"
    }
   ],
   "source": [
    "data_raw['MINIMUM_PAYMENTS'].mean()"
   ]
  },
  {
   "cell_type": "code",
   "execution_count": 15,
   "metadata": {},
   "outputs": [],
   "source": [
    "data_raw.drop(['CUST_ID'], axis=1, inplace=True)"
   ]
  },
  {
   "cell_type": "code",
   "execution_count": 16,
   "metadata": {},
   "outputs": [
    {
     "data": {
      "text/plain": [
       "-0.7319893664465486"
      ]
     },
     "execution_count": 16,
     "metadata": {},
     "output_type": "execute_result"
    }
   ],
   "source": [
    "scaler = preprocessing.StandardScaler()\n",
    "\n",
    "X_norm = scaler.fit_transform(data_raw)\n",
    "X_norm[0][0]"
   ]
  },
  {
   "cell_type": "code",
   "execution_count": 18,
   "metadata": {},
   "outputs": [
    {
     "data": {
      "text/plain": [
       "<function matplotlib.pyplot.show(close=None, block=None)>"
      ]
     },
     "execution_count": 18,
     "metadata": {},
     "output_type": "execute_result"
    },
    {
     "data": {
      "image/png": "[encoded data removed]",
      "text/plain": [
       "<Figure size 432x288 with 1 Axes>"
      ]
     },
     "metadata": {
      "needs_background": "light"
     },
     "output_type": "display_data"
    }
   ],
   "source": [
    "cluster_list = list()\n",
    "score_list = list()\n",
    "for K in range(2, 9+1):\n",
    "    model = cluster.KMeans(n_clusters=K, random_state=42)\n",
    "    model.fit(X_norm)\n",
    "    score = metrics.silhouette_score(X_norm, model.labels_)\n",
    "    cluster_list.append(K)\n",
    "    score_list.append(score)\n",
    "\n",
    "plt.plot(cluster_list, score_list)\n",
    "plt.show()"
   ]
  },
  {
   "cell_type": "code",
   "execution_count": 19,
   "metadata": {},
   "outputs": [
    {
     "data": {
      "text/plain": [
       "array([6118, 1597, 1235])"
      ]
     },
     "execution_count": 19,
     "metadata": {},
     "output_type": "execute_result"
    }
   ],
   "source": [
    "model = cluster.KMeans(n_clusters=3, random_state=42)\n",
    "model.fit(X_norm)\n",
    "np.bincount(model.labels_)"
   ]
  },
  {
   "cell_type": "code",
   "execution_count": 24,
   "metadata": {},
   "outputs": [
    {
     "data": {
      "text/plain": [
       "38"
      ]
     },
     "execution_count": 24,
     "metadata": {},
     "output_type": "execute_result"
    }
   ],
   "source": [
    "model = cluster.DBSCAN()\n",
    "model.fit(X_norm)\n",
    "# Number of clusters in labels, ignoring noise if present.\n",
    "n_clusters_ = len(set(model.labels_)) - (1 if -1 in model.labels_ else 0)\n",
    "n_clusters_"
   ]
  },
  {
   "cell_type": "code",
   "execution_count": 25,
   "metadata": {},
   "outputs": [
    {
     "data": {
      "text/plain": [
       "[[0.1, 1, 0.016088101678116005],\n",
       " [0.1, 5, -0.37480763495802677],\n",
       " [0.1, 9, -0.25356488418531886],\n",
       " [0.1, 13, -0.2436145630317598],\n",
       " [0.1, 17, -0.2501812991771469],\n",
       " [0.30000000000000004, 1, 0.022678660017728346],\n",
       " [0.30000000000000004, 5, -0.42447460395317227],\n",
       " [0.30000000000000004, 9, -0.4042093963692077],\n",
       " [0.30000000000000004, 13, -0.3519837191686831],\n",
       " [0.30000000000000004, 17, -0.35259593550295876],\n",
       " [0.5000000000000001, 1, -0.14501241385518446],\n",
       " [0.5000000000000001, 5, -0.4437013266683457],\n",
       " [0.5000000000000001, 9, -0.31765746320613075],\n",
       " [0.5000000000000001, 13, -0.13380219141974145],\n",
       " [0.5000000000000001, 17, -0.18647706862226324],\n",
       " [0.7000000000000001, 1, -0.2612758090201566],\n",
       " [0.7000000000000001, 5, -0.43883698908601104],\n",
       " [0.7000000000000001, 9, -0.3260020902287138],\n",
       " [0.7000000000000001, 13, -0.270490209893498],\n",
       " [0.7000000000000001, 17, -0.2664710582213962],\n",
       " [0.9000000000000001, 1, -0.36335889649837005],\n",
       " [0.9000000000000001, 5, -0.35917534461115475],\n",
       " [0.9000000000000001, 9, -0.08109625986258492],\n",
       " [0.9000000000000001, 13, 0.06343609339685843],\n",
       " [0.9000000000000001, 17, -0.0409176997396811],\n",
       " [1.1000000000000003, 1, -0.39662819413636086],\n",
       " [1.1000000000000003, 5, -0.17994185293679058],\n",
       " [1.1000000000000003, 9, -0.1213488079054028],\n",
       " [1.1000000000000003, 13, 0.11481198989436553],\n",
       " [1.1000000000000003, 17, -0.033859087207559146],\n",
       " [1.3000000000000003, 1, -0.3993047504322948],\n",
       " [1.3000000000000003, 5, -0.01993699528256738],\n",
       " [1.3000000000000003, 9, 0.17202105190019748],\n",
       " [1.3000000000000003, 13, 0.1328000862195638],\n",
       " [1.3000000000000003, 17, 0.25284257299749274],\n",
       " [1.5000000000000004, 1, -0.36011831503354125],\n",
       " [1.5000000000000004, 5, 0.0006108002564730589],\n",
       " [1.5000000000000004, 9, 0.34017784034858156],\n",
       " [1.5000000000000004, 13, 0.32502824526451146],\n",
       " [1.5000000000000004, 17, 0.31460365998121037],\n",
       " [1.7000000000000004, 1, -0.30349257348188285],\n",
       " [1.7000000000000004, 5, 0.3989012470191399],\n",
       " [1.7000000000000004, 9, 0.33832266083207063],\n",
       " [1.7000000000000004, 13, 0.3836772723783637],\n",
       " [1.7000000000000004, 17, 0.37205220691963853],\n",
       " [1.9000000000000004, 1, -0.24930714283326794],\n",
       " [1.9000000000000004, 5, 0.4615929634856809],\n",
       " [1.9000000000000004, 9, 0.4429586946642464],\n",
       " [1.9000000000000004, 13, 0.42994274943032856],\n",
       " [1.9000000000000004, 17, 0.4210121916619263],\n",
       " [2.1000000000000005, 1, -0.16545159976732626],\n",
       " [2.1000000000000005, 5, 0.3984617548562999],\n",
       " [2.1000000000000005, 9, 0.4868837359042326],\n",
       " [2.1000000000000005, 13, 0.4745456826687933],\n",
       " [2.1000000000000005, 17, 0.4674387961495498],\n",
       " [2.3000000000000007, 1, -0.11767111430757225],\n",
       " [2.3000000000000007, 5, 0.5383407820202382],\n",
       " [2.3000000000000007, 9, 0.5247523156388073],\n",
       " [2.3000000000000007, 13, 0.5167980357211629],\n",
       " [2.3000000000000007, 17, 0.5050056031200334],\n",
       " [2.5000000000000004, 1, -0.032320237843266104],\n",
       " [2.5000000000000004, 5, 0.5677103324342029],\n",
       " [2.5000000000000004, 9, 0.5549578396278291],\n",
       " [2.5000000000000004, 13, 0.5480161731057316],\n",
       " [2.5000000000000004, 17, 0.5440274991275202],\n",
       " [2.7000000000000006, 1, 0.04667075229912745],\n",
       " [2.7000000000000006, 5, 0.5921820322333877],\n",
       " [2.7000000000000006, 9, 0.5797916921786391],\n",
       " [2.7000000000000006, 13, 0.5731613052711626],\n",
       " [2.7000000000000006, 17, 0.5703824045750898],\n",
       " [2.900000000000001, 1, 0.1064980390575189],\n",
       " [2.900000000000001, 5, 0.6173453608696496],\n",
       " [2.900000000000001, 9, 0.603811143781068],\n",
       " [2.900000000000001, 13, 0.5953985556350827],\n",
       " [2.900000000000001, 17, 0.5919235588636445]]"
      ]
     },
     "execution_count": 25,
     "metadata": {},
     "output_type": "execute_result"
    }
   ],
   "source": [
    "score_list = list()\n",
    "for eps in np.arange(0.1,3,0.2):\n",
    "    for min_samples in range(1,20,4):\n",
    "        model = cluster.DBSCAN(eps=eps, min_samples=min_samples)\n",
    "        model.fit(X_norm)\n",
    "        score = metrics.silhouette_score(X_norm, model.labels_)\n",
    "        score_list.append([eps, min_samples, score])\n",
    "\n",
    "sorted(score_list, key=lambda x: x[2], reverse=True)[0:3]"
   ]
  },
  {
   "cell_type": "code",
   "execution_count": 26,
   "metadata": {},
   "outputs": [
    {
     "data": {
      "text/plain": [
       "[[2.900000000000001, 5, 0.6173453608696496],\n",
       " [2.900000000000001, 9, 0.603811143781068],\n",
       " [2.900000000000001, 13, 0.5953985556350827]]"
      ]
     },
     "execution_count": 26,
     "metadata": {},
     "output_type": "execute_result"
    }
   ],
   "source": [
    "sorted(score_list, key=lambda x: x[2], reverse=True)[0:3]"
   ]
  },
  {
   "cell_type": "code",
   "execution_count": 28,
   "metadata": {},
   "outputs": [
    {
     "data": {
      "image/png": "[encoded data removed]",
      "text/plain": [
       "<Figure size 432x288 with 1 Axes>"
      ]
     },
     "metadata": {
      "needs_background": "light"
     },
     "output_type": "display_data"
    }
   ],
   "source": [
    "cluster_list = list()\n",
    "score_list = list()\n",
    "for K in range(3, 9+1):\n",
    "    model = cluster.AgglomerativeClustering(n_clusters=K)\n",
    "    model.fit(X_norm)\n",
    "    score = metrics.silhouette_score(X_norm, model.labels_)\n",
    "    cluster_list.append(K)\n",
    "    score_list.append(score)\n",
    "\n",
    "plt.plot(cluster_list, score_list)\n",
    "plt.show()"
   ]
  },
  {
   "cell_type": "code",
   "execution_count": 29,
   "metadata": {},
   "outputs": [
    {
     "data": {
      "text/plain": [
       "[0.1731098007232828,\n",
       " 0.1547093352037027,\n",
       " 0.15806867978666445,\n",
       " 0.17335577924064002,\n",
       " 0.156415467090623,\n",
       " 0.15203451293262077,\n",
       " 0.15371895842035113]"
      ]
     },
     "execution_count": 29,
     "metadata": {},
     "output_type": "execute_result"
    }
   ],
   "source": [
    "score_list"
   ]
  },
  {
   "cell_type": "code",
   "execution_count": 34,
   "metadata": {},
   "outputs": [
    {
     "data": {
      "text/plain": [
       "array([3946, 2931,  864,  464,   23,  722])"
      ]
     },
     "metadata": {},
     "output_type": "display_data"
    },
    {
     "data": {
      "text/plain": [
       "array([0, 1, 2, 3, 4, 5])"
      ]
     },
     "execution_count": 34,
     "metadata": {},
     "output_type": "execute_result"
    }
   ],
   "source": [
    "model = cluster.AgglomerativeClustering(n_clusters=6)\n",
    "model.fit(X_norm)\n",
    "display(np.bincount(model.labels_))\n",
    "np.unique(model.labels_)"
   ]
  },
  {
   "cell_type": "code",
   "execution_count": 35,
   "metadata": {},
   "outputs": [
    {
     "data": {
      "image/png": "[encoded data removed]",
      "text/plain": [
       "<Figure size 720x432 with 1 Axes>"
      ]
     },
     "metadata": {
      "needs_background": "light"
     },
     "output_type": "display_data"
    }
   ],
   "source": [
    "kmeans = cluster.KMeans(n_clusters=3, random_state=42)\n",
    "kmeans.fit(X_norm)\n",
    "data_raw['cluster'] = kmeans.labels_\n",
    "plt.figure(figsize=(10,6))\n",
    "sns.scatterplot(data=data_raw, x='CREDIT_LIMIT', y='PURCHASES', hue='cluster')\n",
    "plt.show()"
   ]
  },
  {
   "cell_type": "code",
   "execution_count": null,
   "metadata": {},
   "outputs": [],
   "source": []
  }
 ],
 "metadata": {
  "kernelspec": {
   "display_name": "Python 3.10.4 ('data-science')",
   "language": "python",
   "name": "python3"
  },
  "language_info": {
   "codemirror_mode": {
    "name": "ipython",
    "version": 3
   },
   "file_extension": ".py",
   "mimetype": "text/x-python",
   "name": "python",
   "nbconvert_exporter": "python",
   "pygments_lexer": "ipython3",
   "version": "3.10.4"
  },
  "orig_nbformat": 4,
  "vscode": {
   "interpreter": {
    "hash": "510017f941ecd040108aa6155b7d7920a30c358be25c6738528295864459697b"
   }
  }
 },
 "nbformat": 4,
 "nbformat_minor": 2
}
