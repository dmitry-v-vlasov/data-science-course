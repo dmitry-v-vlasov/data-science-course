{
 "cells": [
  {
   "cell_type": "code",
   "execution_count": 12,
   "metadata": {},
   "outputs": [],
   "source": [
    "class WebscraperError(Exception):\n",
    "    def __init__(self, message=\"\"):\n",
    "        self.message = message\n",
    "        super().__init__(self.message)\n",
    "\n",
    "\n",
    "class WrongWebscraperError(WebscraperError):\n",
    "    def __init__(self, message=\"\"):\n",
    "        super().__init__(message)"
   ]
  },
  {
   "cell_type": "code",
   "execution_count": 14,
   "metadata": {},
   "outputs": [
    {
     "data": {
      "text/plain": [
       "'Test message'"
      ]
     },
     "execution_count": 14,
     "metadata": {},
     "output_type": "execute_result"
    }
   ],
   "source": [
    "exception = WrongWebscraperError(\"Test message\")\n",
    "exception.message"
   ]
  },
  {
   "cell_type": "code",
   "execution_count": 16,
   "metadata": {},
   "outputs": [
    {
     "data": {
      "text/plain": [
       "('Test2',)"
      ]
     },
     "execution_count": 16,
     "metadata": {},
     "output_type": "execute_result"
    }
   ],
   "source": [
    "exception2 = Exception(\"Test2\")\n",
    "exception2.args"
   ]
  },
  {
   "cell_type": "code",
   "execution_count": 61,
   "metadata": {},
   "outputs": [],
   "source": [
    "from abc import ABC, abstractmethod\n",
    "\n",
    "\n",
    "class AbstractInputDataStrategy(ABC):\n",
    "\n",
    "    input_data = None\n",
    "\n",
    "    def load_data(self, data_object):\n",
    "        self.input_data = \"test23\"\n",
    "        self._check_data_object(data_object)\n",
    "        self.input_data = self._load_data_impl(data_object)\n",
    "    @abstractmethod\n",
    "    def _check_data_object(self, data_object) -> None:\n",
    "        pass\n",
    "\n",
    "    @abstractmethod\n",
    "    def _load_data_impl(self, data_object):\n",
    "        pass\n",
    "\n",
    "\n",
    "class DataFrameAbstractInputDataStrategy(AbstractInputDataStrategy):\n",
    "\n",
    "    def _check_data_object(self, data_object) -> None:\n",
    "        print(\"1. Check\")\n",
    "\n",
    "    def _load_data_impl(self, data_object: pd.DataFrame) -> pd.DataFrame:\n",
    "        print(\"2. Load\")\n",
    "        print(self.input_data)\n",
    "        return \"text\""
   ]
  },
  {
   "cell_type": "code",
   "execution_count": 62,
   "metadata": {},
   "outputs": [
    {
     "name": "stdout",
     "output_type": "stream",
     "text": [
      "1. Check\n",
      "2. Load\n",
      "test23\n"
     ]
    }
   ],
   "source": [
    "dis = DataFrameAbstractInputDataStrategy()\n",
    "dis.load_data(None)"
   ]
  },
  {
   "cell_type": "code",
   "execution_count": 58,
   "metadata": {},
   "outputs": [
    {
     "data": {
      "text/plain": [
       "'text'"
      ]
     },
     "execution_count": 58,
     "metadata": {},
     "output_type": "execute_result"
    }
   ],
   "source": [
    "dis.input_data"
   ]
  },
  {
   "cell_type": "code",
   "execution_count": 35,
   "metadata": {},
   "outputs": [
    {
     "data": {
      "text/plain": [
       "('Test',)"
      ]
     },
     "execution_count": 35,
     "metadata": {},
     "output_type": "execute_result"
    }
   ],
   "source": [
    "te = TypeError(\"Test\")\n",
    "te.args"
   ]
  },
  {
   "cell_type": "code",
   "execution_count": 37,
   "metadata": {},
   "outputs": [],
   "source": [
    "import inspect"
   ]
  },
  {
   "cell_type": "code",
   "execution_count": 43,
   "metadata": {},
   "outputs": [
    {
     "data": {
      "text/plain": [
       "<module 'xml.etree.ElementTree' from '/home/sorcerer/.pyenv/versions/3.8.11/lib/python3.8/xml/etree/ElementTree.py'>"
      ]
     },
     "execution_count": 43,
     "metadata": {},
     "output_type": "execute_result"
    }
   ],
   "source": [
    "import xml.etree.ElementTree\n",
    "et = xml.etree.ElementTree.ElementTree()\n",
    "object_module = inspect.getmodule(et)\n",
    "object_module.name"
   ]
  },
  {
   "cell_type": "code",
   "execution_count": 44,
   "metadata": {},
   "outputs": [
    {
     "data": {
      "text/plain": [
       "\"<class 'xml.etree.ElementTree.ElementTree'>\""
      ]
     },
     "execution_count": 44,
     "metadata": {},
     "output_type": "execute_result"
    }
   ],
   "source": [
    "str(type(et))"
   ]
  },
  {
   "cell_type": "code",
   "execution_count": 45,
   "metadata": {},
   "outputs": [
    {
     "data": {
      "text/plain": [
       "\"<class 'pandas.core.frame.DataFrame'>\""
      ]
     },
     "execution_count": 45,
     "metadata": {},
     "output_type": "execute_result"
    }
   ],
   "source": [
    "str(pd.DataFrame)"
   ]
  },
  {
   "cell_type": "code",
   "execution_count": 63,
   "metadata": {},
   "outputs": [],
   "source": [
    "import collections as cols"
   ]
  },
  {
   "cell_type": "code",
   "execution_count": 65,
   "metadata": {},
   "outputs": [
    {
     "data": {
      "text/plain": [
       "OrderedDict()"
      ]
     },
     "execution_count": 65,
     "metadata": {},
     "output_type": "execute_result"
    }
   ],
   "source": [
    "cols.OrderedDict()"
   ]
  },
  {
   "cell_type": "code",
   "execution_count": 67,
   "metadata": {},
   "outputs": [
    {
     "data": {
      "text/html": [
       "<div>\n",
       "<style scoped>\n",
       "    .dataframe tbody tr th:only-of-type {\n",
       "        vertical-align: middle;\n",
       "    }\n",
       "\n",
       "    .dataframe tbody tr th {\n",
       "        vertical-align: top;\n",
       "    }\n",
       "\n",
       "    .dataframe thead th {\n",
       "        text-align: right;\n",
       "    }\n",
       "</style>\n",
       "<table border=\"1\" class=\"dataframe\">\n",
       "  <thead>\n",
       "    <tr style=\"text-align: right;\">\n",
       "      <th></th>\n",
       "      <th>A</th>\n",
       "      <th>B</th>\n",
       "      <th>C</th>\n",
       "    </tr>\n",
       "  </thead>\n",
       "  <tbody>\n",
       "    <tr>\n",
       "      <th>0</th>\n",
       "      <td>5</td>\n",
       "      <td>30</td>\n",
       "      <td>100</td>\n",
       "    </tr>\n",
       "    <tr>\n",
       "      <th>1</th>\n",
       "      <td>5</td>\n",
       "      <td>50</td>\n",
       "      <td>300</td>\n",
       "    </tr>\n",
       "    <tr>\n",
       "      <th>2</th>\n",
       "      <td>2</td>\n",
       "      <td>60</td>\n",
       "      <td>900</td>\n",
       "    </tr>\n",
       "    <tr>\n",
       "      <th>3</th>\n",
       "      <td>8</td>\n",
       "      <td>60</td>\n",
       "      <td>600</td>\n",
       "    </tr>\n",
       "    <tr>\n",
       "      <th>4</th>\n",
       "      <td>9</td>\n",
       "      <td>40</td>\n",
       "      <td>600</td>\n",
       "    </tr>\n",
       "    <tr>\n",
       "      <th>5</th>\n",
       "      <td>8</td>\n",
       "      <td>10</td>\n",
       "      <td>600</td>\n",
       "    </tr>\n",
       "    <tr>\n",
       "      <th>6</th>\n",
       "      <td>4</td>\n",
       "      <td>40</td>\n",
       "      <td>500</td>\n",
       "    </tr>\n",
       "    <tr>\n",
       "      <th>7</th>\n",
       "      <td>1</td>\n",
       "      <td>40</td>\n",
       "      <td>800</td>\n",
       "    </tr>\n",
       "    <tr>\n",
       "      <th>8</th>\n",
       "      <td>3</td>\n",
       "      <td>60</td>\n",
       "      <td>900</td>\n",
       "    </tr>\n",
       "    <tr>\n",
       "      <th>9</th>\n",
       "      <td>8</td>\n",
       "      <td>90</td>\n",
       "      <td>900</td>\n",
       "    </tr>\n",
       "  </tbody>\n",
       "</table>\n",
       "</div>"
      ],
      "text/plain": [
       "   A   B    C\n",
       "0  5  30  100\n",
       "1  5  50  300\n",
       "2  2  60  900\n",
       "3  8  60  600\n",
       "4  9  40  600\n",
       "5  8  10  600\n",
       "6  4  40  500\n",
       "7  1  40  800\n",
       "8  3  60  900\n",
       "9  8  90  900"
      ]
     },
     "execution_count": 67,
     "metadata": {},
     "output_type": "execute_result"
    }
   ],
   "source": [
    "import pandas as pd\n",
    "from random import randint\n",
    "df = pd.DataFrame({'A': [randint(1, 9) for x in range(10)],\n",
    "                       'B': [randint(1, 9)*10 for x in range(10)],\n",
    "                       'C': [randint(1, 9)*100 for x in range(10)]})\n",
    "df"
   ]
  },
  {
   "cell_type": "code",
   "execution_count": 71,
   "metadata": {},
   "outputs": [
    {
     "data": {
      "text/plain": [
       "True"
      ]
     },
     "execution_count": 71,
     "metadata": {},
     "output_type": "execute_result"
    }
   ],
   "source": [
    "'C' in df.columns"
   ]
  },
  {
   "cell_type": "code",
   "execution_count": 2,
   "metadata": {},
   "outputs": [],
   "source": [
    "from enum import Enum\n",
    "\n",
    "class Enum01(Enum):\n",
    "    VAL1 = \"val1\""
   ]
  },
  {
   "cell_type": "code",
   "execution_count": 3,
   "metadata": {},
   "outputs": [],
   "source": [
    "en = Enum01.VAL1"
   ]
  },
  {
   "cell_type": "code",
   "execution_count": 4,
   "metadata": {},
   "outputs": [
    {
     "data": {
      "text/plain": [
       "<Enum01.VAL1: 'val1'>"
      ]
     },
     "execution_count": 4,
     "metadata": {},
     "output_type": "execute_result"
    }
   ],
   "source": [
    "en"
   ]
  },
  {
   "cell_type": "code",
   "execution_count": 6,
   "metadata": {},
   "outputs": [
    {
     "data": {
      "text/plain": [
       "'val1'"
      ]
     },
     "execution_count": 6,
     "metadata": {},
     "output_type": "execute_result"
    }
   ],
   "source": [
    "en.value"
   ]
  },
  {
   "cell_type": "code",
   "execution_count": 26,
   "metadata": {
    "tags": [
     "outputPrepend"
    ]
   },
   "outputs": [
    {
     "name": "stdout",
     "output_type": "stream",
     "text": [
      ".__assign)({},r),g),b),S),E),k.a),j),A),I.a)},xyFN:function(e,t,n){\"use strict\";n.d(t,\"b\",(function(){return f})),n.d(t,\"a\",(function(){return o})),n.d(t,\"c\",(function(){return b}));var r,o,a=n(\"vZQQ\"),s=n(\"mrSG\"),i=n(\"8Qk7\"),c=n(\"CP+j\"),u=n(\"4YCH\"),l=new(function(e){function t(t){var n=e.call(this,t)||this;return n.api=\"https://translate.yandex.net/api/v1/tr.json/translate\",n}return Object(s.__extends)(t,e),t.prototype.isValid=function(e){var t=e.sourceText,n=e.sourceLang,r=e.targetLang;return Boolean(t&&n&&r&&n!==r&&t.length<=this.maxTextLength)},t.prototype.convertQueryParams=function(e){var t=e.options;return Object(s.__assign)({id:[e.sid,this.counter(),0].join(\"-\"),lang:e.sourceLang+\"-\"+e.targetLang,srv:e.srv,sid:e.sid},t?{options:t}:{})},t.prototype.makeRequest=function(e,t){var n=this.convertQueryParams(e);return Object.assign(n,Object(u.a)()),Object(i.post)(this.api,{queryParams:n,credentials:\"same-origin\",format:\"json\",headers:{\"Content-Type\":\"application/x-www-form-urlencoded\"},body:Object(i.stringifyUrlParams)({text:e.isOverflowed?this.cutText(e.sourceText,400,1e3):e.sourceText})},t)},t.prototype.cutText=function(e,t,n){return e.slice(0,t)+e.slice(t,n).replace(/\\s+\\S*$/,\"\")},t}(c.a))({maxTextLength:1e4}),p=n(\"X2DA\"),g=n(\"+L44\"),d=n(\"Dpgr\"),f=function(e){return r=e};function h(e){return function(t){t({type:o.TRANSLATOR_SUCCESS,payload:{targetText:e.text[0]}})}}!function(e){e.REQUEST_TRANSLATOR=\"REQUEST_TRANSLATOR\",e.TRANSLATOR_SUCCESS=\"TRANSLATOR_SUCCESS\",e.AFTER_TRANSLATOR=\"AFTER_TRANSLATOR\",e.TRANSLATION_FROM_ARTICLE=\"TRANSLATION_FROM_ARTICLE\"}(o||(o={}));var b={onRequestTranslator:function(e){return function(e,t){return function(n,a){var s=a();d.d.current&&clearTimeout(d.d.current);var i=Object(g.e)(s.sourceText),c=t||Object(g.g)(s),u=s.sourceText.length>s.fullTranslateTreshold;c===s.lastTranslatorText&&s.targetText||(u&&(i=Object(g.b)(i)),n({type:o.REQUEST_TRANSLATOR,payload:{value:s.sourceText,requestHash:c,isOverflowed:u}}),l.ask({langs:s.langsKeys,sourceLang:s.sourceLang,targetLang:s.targetLang,sourceText:i,isOverflowed:u,srv:s.srv,sid:s.sid,options:r},{successCallback:function(t){if(t.text&&t.text.length){n(h(t));var r=a();Object(g.a)(n,r.sourceText.length),r.sourceText.length&&(n(h(t)),n(e.onAfterTranslator()))}else n(e.onRequestFailed())},failureCallback:function(){n(e.onRequestFailed())},invalidCallback:function(){n(e.onRequestInvalid())}}))}}(this,e)},onAfterTranslator:function(){return e=this,function(t,n){d.d.current&&clearTimeout(d.d.current);var r=n();r.sourceText.length&&(r.dictionary&&!r.hasBeenDrawn||t(e.onRequestDictionary()),r.shouldNotHandleExamples||!r.hasBeenDrawn&&Object(p.b)(r.queryCorpus)||t(e.onRequestExamples()),(!r.hasBeenDrawn&&!r.sourceTranscription||r.hasBeenDrawn)&&t(e.onRequestTranscription(\"source\")),(!r.hasBeenDrawn&&!r.targetTranscription||r.hasBeenDrawn)&&t(e.onRequestTranscription(\"target\")),r.hasBeenDrawn||t({type:a.a.HAS_BEEN_DRAWN}))};var e},submit:function(e){return function(e,t){return void 0===e&&(e=!1),function(n,r){var o,s=r(),i=Object(g.c)(s);if(i!==s.lastTranslatorText||!s.targetText||!s.hasBeenDrawn||e){if(d.d.current&&clearTimeout(d.d.current),Object(g.e)(s.sourceText)&&Object(g.h)({event:\"tech\",type:\"translate\",nodeId:(null===(o=s.baobabNode)||void 0===o?void 0:o.id)||\"\",data:{isEmpty:s.isEmpty},baobabOnly:!0}),e)return n({type:a.a.CLEAR_ALL}),void n(t.onRequestAutodetect(!0));n(t.onRequestTranslator(i))}}}(e,this)},onTranslationFromArticle:function(e,t){return function(e,t,n){return function(r,a){var s=a();r({type:o.TRANSLATION_FROM_ARTICLE,payload:{sourceText:e,sourceLang:t||s.sourceLang,targetLang:t===s.sourceLang?s.targetLang:s.sourceLang}}),r(n.onRequestTranslator())}}(e,t,this)},onTranslatorSuccess:h}}},[[28,\"a90837\",\"6651bf\",\"bfdcf5\",\"658fbe\",\"832672\",\"0fb8a7\",\"761922\",\"efb47a\",\"541f6c\",\"9649cf\",\"a68cbd\",\"111a28\",\"26a5c5\",\"190e65\",\"534e0e\",\"5d7aed\",\"3bb720\",\"7a9883\",\"6c1e6f\",\"7be1ab\",\"85ae2d\",\"970ba8\",\"8669b1\",\"3338ef\",\"413e67\",\"9ec3e3\",\"fe6a55\",\"2f7977\",\"4f97ff\",\"762132\",\"b7cc4f\",\"ecf66f\",\"87d200\",\"942e9b\",\"62d49d\",\"a3df0c\",\"87047f\",\"1731fc\",\"925bcf\",\"10606c\",\"725fd8\",\"29d87c\",\"a7b4b3\",\"1fc47f\",\"1c92d2\",\"13d698\",\"9401b1\",\"c86778\",\"97d642\",\"5bfe76\",\"bd6e0c\",\"853702\",\"9a7742\",\"205cb1\",\"c89062\",\"921cd8\",\"90be49\",\"eaabdb\",\"9103e3\",\"c3c0f2\",\"90da10\",\"7be49f\",\"66f7bb\",\"5cd92c\",\"91b414\",\"f9b4dd\",\"97a48f\"]]])}));(window.webpackJsonp=window.webpackJsonp||[]).push([[\"c4d135\"],{M2DU:function(n,w,o){}}]);(window.webpackJsonp=window.webpackJsonp||[]).push([[\"df446d\"],{\"2aTJ\":function(n,w,o){}}]);(window.webpackJsonp=window.webpackJsonp||[]).push([[\"bb1f9e\"],{vaxf:function(n,w,o){}}]);(window.webpackJsonp=window.webpackJsonp||[]).push([[\"70007e\"],{\"0nMj\":function(n,o,w){},kqYU:function(n,o,w){}}]);(window.webpackJsonp=window.webpackJsonp||[]).push([[\"cfcebd\"],{kY7I:function(n,w,c){}}]);(window.webpackJsonp=window.webpackJsonp||[]).push([[\"d52a58\"],{D5zB:function(n,w,o){}}]);Ya.define(\"static/chunks/components~features/Organic@desktop~features/OrganicText@desktop\",[\"react-with-dom\"],(function(){(window.webpackJsonp=window.webpackJsonp||[]).push([[\"b611d8\"],{Ogiu:function(n,e,t){}}])}));Ya.define(\"static/chunks/components~features/Organic@desktop\",[\"react-with-dom\"],(function(){(window.webpackJsonp=window.webpackJsonp||[]).push([[\"adc622\"],{\"6cMV\":function(n,c,o){},Iaji:function(n,c,o){},KpqU:function(n,c,o){},UXjN:function(n,c,o){},fRBL:function(n,c,o){}}])}));Ya.define(\"static/chunks/features/Organic@desktop\",[\"react-with-dom\"],(function(){(window.webpackJsonp=window.webpackJsonp||[]).push([[\"4ba637\"],{18:function(c,a,e){e(\"WEPz\"),c.exports=e(\"vUdb\")},WEPz:function(c,a,e){e.r(a);var f=e(\"MMKl\");Object(f.setI18nLang)(\"ru\")},Ztor:function(c,a,e){},vUdb:function(c,a,e){\"use strict\";e.r(a);e(\"Y6wp\")}},[[18,\"a90837\",\"6651bf\",\"bfdcf5\",\"658fbe\",\"832672\",\"0fb8a7\",\"761922\",\"efb47a\",\"541f6c\",\"9649cf\",\"111a28\",\"534e0e\",\"3bb720\",\"7a9883\",\"970ba8\",\"c4d135\",\"a3df0c\",\"df446d\",\"bb1f9e\",\"70007e\",\"cfcebd\",\"d52a58\",\"b611d8\",\"adc622\"]]])}));(window.webpackJsonp=window.webpackJsonp||[]).push([[\"6f12b7\"],{pWHN:function(n,p,w){}}]);(window.webpackJsonp=window.webpackJsonp||[]).push([[\"43c858\"],{wusI:function(w,n,o){}}]);(window.webpackJsonp=window.webpackJsonp||[]).push([[\"629b2e\"],{D1oU:function(n,o,w){}}]);(window.webpackJsonp=window.webpackJsonp||[]).push([[\"188fca\"],{LmLv:function(n,o,c){},SfEy:function(n,o,c){},XgQp:function(n,o,c){},dEzj:function(n,o,c){},\"mK/N\":function(n,o,c){},o1UL:function(n,o,c){}}]);(window.webpackJsonp=window.webpackJsonp||[]).push([[\"940464\"],{\"8WVR\":function(n,e,a){},Dqz1:function(n,e,a){\"use strict\";var p=a(\"Bh/V\");Object(p.e)(\".Warning_overflow\",(function(n,e){var a=Object(p.d)(n),c=a.data;c.expanded?(c.expanded=!1,a.className=a.className.replace(\" Warning_expanded\",\"\")):(c.expanded=!0,a.className+=\" Warning_expanded\"),a.props&&a.props.onClick&&a.props.onClick(e)}))}}]);(window.webpackJsonp=window.webpackJsonp||[]).push([[\"25b8df\"],{\"97Aw\":function(w,n,o){}}]);(window.webpackJsonp=window.webpackJsonp||[]).push([[\"c6455d\"],{\"8CLQ\":function(n,o,c){},JAmZ:function(n,o,c){},NuHX:function(n,o,c){},txXi:function(n,o,c){},zh3d:function(n,o,c){}}]);(window.webpackJsonp=window.webpackJsonp||[]).push([[\"b8661c\"],{kBYO:function(n,w,o){}}]);(window.webpackJsonp=window.webpackJsonp||[]).push([[\"9a6ccc\"],{\"31Xo\":function(n,o,c){},\"7Gfd\":function(n,o,c){},VBeX:function(n,o,c){},gFTE:function(n,o,c){},oygu:function(n,o,c){}}]);(window.webpackJsonp=window.webpackJsonp||[]).push([[\"7febd5\"],{\"+eH8\":function(n,o,i){},\"0+ML\":function(n,o,i){},\"7t+D\":function(n,o,i){},BxUp:function(n,o,i){},ESmJ:function(n,o,i){},\"Hi+m\":function(n,o,i){},NKgn:function(n,o,i){},NVTk:function(n,o,i){},X6ts:function(n,o,i){},ZBiR:function(n,o,i){},n52n:function(n,o,i){},oeKc:function(n,o,i){},\"tIW+\":function(n,o,i){},uYt0:function(n,o,i){},w6LA:function(n,o,i){},wKan:function(n,o,i){},yWWb:function(n,o,i){}}]);Ya.define(\"static/chunks/components~components-experiments/arch_organic_ibody/desktop~features/OrganicText@desktop\",[\"react-with-dom\"],(function(){(window.webpackJsonp=window.webpackJsonp||[]).push([[\"d55d4d\"],{fFzh:function(n,e,o){}}])}));Ya.define(\"static/chunks/features/OrganicText@desktop\",[\"react-with-dom\"],(function(){(window.webpackJsonp=window.webpackJsonp||[]).push([[\"672507\"],{112:function(c,e,f){f(\"WEPz\"),c.exports=f(\"5ESF\")},\"5ESF\":function(c,e,f){\"use strict\";f.r(e);f(\"ywpM\"),f(\"Dqz1\")},WEPz:function(c,e,f){f.r(e);var d=f(\"MMKl\");Object(d.setI18nLang)(\"ru\")}},[[112,\"a90837\",\"6651bf\",\"bfdcf5\",\"658fbe\",\"832672\",\"0fb8a7\",\"9649cf\",\"26a5c5\",\"740d9c\",\"56400e\",\"c4d135\",\"5f5ff2\",\"df446d\",\"bb1f9e\",\"70007e\",\"6f12b7\",\"43c858\",\"cfcebd\",\"629b2e\",\"188fca\",\"eeba09\",\"940464\",\"25b8df\",\"c6455d\",\"b8661c\",\"9a6ccc\",\"7febd5\",\"d52a58\",\"b611d8\",\"d55d4d\"]]])}));(window.webpackJsonp=window.webpackJsonp||[]).push([[\"56ae2d\"],{MGJC:function(n,w,o){}}]);(window.webpackJsonp=window.webpackJsonp||[]).push([[\"1c1889\"],{aZMT:function(n,w,o){}}]);(window.webpackJsonp=window.webpackJsonp||[]).push([[\"9f7c5e\"],{\"6LPf\":function(n,w,o){}}]);(window.webpackJsonp=window.webpackJsonp||[]).push([[\"333658\"],{lwjD:function(n,t,u){\"use strict\";u.d(t,\"b\",(function(){return r}));var c=u(\"YD52\");u.d(t,\"a\",(function(){return c.a})),u.d(t,\"c\",(function(){return c.b})),u.d(t,\"d\",(function(){return c.c}));var r=Object(c.a)(null)}}]);(window.webpackJsonp=window.webpackJsonp||[]).push([[\"092cdd\"],{epdq:function(o,n,e){\"use strict\";e.d(n,\"a\",(function(){return u}));var t=e(\"Bh/V\"),c=e(\"ZqlB\"),i=e(\"lwjD\"),r=i.d+\" verified-tooltip\",p={onMouseEnter:function(o,n){var e=Object(t.c)(n);null==e||e.logTech(\"verified-show\",void 0,[o],n.props||{})},getTooltipAnchor:function(o){return o.querySelector(\".\"+i.c)},containerCn:i.b,tooltipCn:r},u=Object(c.a)(p)}}]);Ya.define(\"static/chunks/features/OrganicSubtitle@desktop\",[\"react-with-dom\"],(function(){(window.webpackJsonp=window.webpackJsonp||[]).push([[\"2b833b\"],{\"+q85\":function(n,t,e){\"use strict\";e.r(t);e(\"Bpbm\"),e(\"epdq\"),e(\"Y6wp\")},\"0hmE\":function(n,t,e){},111:function(n,t,e){e(\"WEPz\"),n.exports=e(\"+q85\")},\"3UHA\":function(n,t,e){},\"6rdY\":function(n,t,e){},Bpbm:function(n,t,e){\"use strict\";e.d(t,\"a\",(function(){return u}));var o=e(\"Bh/V\"),i=e(\"ZqlB\"),c=e(\"olj0\"),r={onMouseEnter:function(n,t){var e=Object(o.c)(t);null==e||e.logTech(\"offer-reviews-show\",void 0,[n],t.props||{})},containerCn:c.b,tooltipCn:c.g,getTooltipBaobabParent:function(n){return Object(o.b)(n)},tooltipType:\"reviewsTooltip\"},u=Object(i.a)(r)},IKay:function(n,t,e){},KjFk:function(n,t,e){},MnpT:function(n,t,e){},WEPz:function(n,t,e){e.r(t);var o=e(\"MMKl\");Object(o.setI18nLang)(\"ru\")},Ztor:function(n,t,e){},flq8:function(n,t,e){},okfr:function(n,t,e){},olj0:function(n,t,e){\"use strict\";e.d(t,\"b\",(function(){return r})),e.d(t,\"f\",(function(){return u})),e.d(t,\"e\",(function(){return f})),e.d(t,\"g\",(function(){return a})),e.d(t,\"a\",(function(){return b})),e.d(t,\"d\",(function(){return s})),e.d(t,\"c\",(function(){return d}));var o=e(\"Dps+\"),i=e(\"Bh/V\"),c=Object(o.cn)(\"OrganicReviews\"),r=c(),u=c(\"Rating\"),f=c(\"Rating\",[\"organic__reviews\"]),a=(Object(i.a)(r+\" \"+i.g),Object(o.cn)(\"ReviewsTooltip\")(\"\",[\"offer-reviews-tooltip\"])),b=\"offer-reviews\",s=\"rating\",d={behaviour:{type:\"dynamic\"}}}},[[111,\"a90837\",\"6651bf\",\"bfdcf5\",\"658fbe\",\"832672\",\"9649cf\",\"111a28\",\"534e0e\",\"3bb720\",\"7a9883\",\"6c1e6f\",\"7be1ab\",\"970ba8\",\"8669b1\",\"fe6a55\",\"62d49d\",\"56ae2d\",\"1c1889\",\"9f7c5e\",\"333658\",\"092cdd\"]]])}));(window.webpackJsonp=window.webpackJsonp||[]).push([[\"d7390b\"],{JjTg:function(n,o,w){},VjSB:function(n,o,w){}}]);(window.webpackJsonp=window.webpackJsonp||[]).push([[\"87416f\"],{\"4wic\":function(n,o,w){},\"s9+X\":function(n,o,w){},uEgs:function(n,o,w){}}]);(window.webpackJsonp=window.webpackJsonp||[]).push([[\"9a3712\"],{ds5I:function(n,w,o){}}]);(window.webpackJsonp=window.webpackJsonp||[]).push([[\"d3565a\"],{i5xb:function(n,w,o){}}]);Ya.define(\"static/chunks/features/OrganicMeta@desktop\",[\"react-with-dom\"],(function(){(window.webpackJsonp=window.webpackJsonp||[]).push([[\"530393\"],{108:function(n,e,t){t(\"WEPz\"),n.exports=t(\"nmOj\")},\"9Yhd\":function(n,e,t){\"use strict\";t.d(e,\"a\",(function(){return i})),t.d(e,\"c\",(function(){return u})),t.d(e,\"b\",(function(){return a})),t.d(e,\"d\",(function(){return d}));var o=t(\"Dps+\"),r=t(\"Bh/V\"),c=Object(o.cn)(\"CoveredPhone\"),i=c(),u=c(\"Link\"),a=c(\"Full\"),d=Object(r.a)(u)},AarH:function(n,e,t){\"use strict\";var o=t(\"TJy0\"),r=t(\"Bh/V\"),c=t(\"9Yhd\");Object(r.e)(c.d,(function(n,e){var t,i,u,a,d=Object(r.d)(n),s=d.data,f=s.fullText,l=s.counters;f&&(d.innerHTML='<span class=\"'+c.b+'\">'+Object(o.a)(f)+\"</span>\",d.props&&d.props.onClick&&d.props.onClick(e)),l&&(l.outerClick=(null===(u=null===(i=null===(t=window.Ya)||void 0===t?void 0:t.Serp)||void 0===i?void 0:i.CHelpers)||void 0===u?void 0:u.injectCounterEventId(l.outerClick||\"\",(null===(a=window.Ya)||void 0===a?void 0:a.lastBaobabEventId)||\"\"))||\"\",l.triggerCounterSent?$.ajax({url:l.outerClick,method:\"GET\",xhrFields:{withCredentials:!0},error:function(){(new Image).src=this.outerClick},complete:function(){},context:l}):(new Image).src=l.outerClick)}))},WEPz:function(n,e,t){t.r(e);var o=t(\"MMKl\");Object(o.setI18nLang)(\"ru\")},mxhL:function(n,e,t){},nmOj:function(n,e,t){\"use strict\";t.r(e);t(\"AarH\"),t(\"Dqz1\")}},[[108,\"a90837\",\"6651bf\",\"bfdcf5\",\"658fbe\",\"0fb8a7\",\"740d9c\",\"56400e\",\"413e67\",\"4f97ff\",\"762132\",\"5f5ff2\",\"eeba09\",\"940464\",\"d7390b\",\"b8661c\",\"87416f\",\"9a3712\",\"d3565a\"]]])}));Ya.define(\"static/chunks/libs~features/EntityMusicPopup@desktop~features/LazyLoader@desktop\",[\"react-with-dom\"],(function(){(window.webpackJsonp=window.webpackJsonp||[]).push([[\"4e3f21\"],{\"90U+\":function(e,t,n){\"use strict\";n.d(t,\"a\",(function(){return i}));var c=n(\"mrSG\"),u=n(\"cDcd\"),r=function(e){return(e+1)%1e6},i=function(){return Object(c.__read)(Object(u.useReducer)(r,0),2)[1]}}}])}));Ya.define(\"static/chunks/features/LazyLoader@desktop\",[\"react-with-dom\"],(function(){(window.webpackJsonp=window.webpackJsonp||[]).push([[\"29229a\"],{9:function(n,t,e){e(\"WEPz\"),n.exports=e(\"T55T\")},T55T:function(n,t,e){\"use strict\";e.r(t),e.d(t,\"App\",(function(){return o}));var a=e(\"xLSp\"),c=e(\"5icn\"),o=Object(a.a)(\"LazyLoader\")(c.a)},WEPz:function(n,t,e){e.r(t);var a=e(\"MMKl\");Object(a.setI18nLang)(\"ru\")},cDcd:function(n,t){n.exports=React},faye:function(n,t){n.exports=ReactDOM}},[[9,\"a90837\",\"4e3f21\"]]])}));!function(e){function n(){removeEventListener(\"DOMContentLoaded\",n),removeEventListener(\"load\",n),setTimeout((function(){var e=new XMLHttpRequest;e.onload=function(){Ya.AppendAsset(e.responseText,\"style\")},e.open(\"GET\",\"//yastatic.net/s3/web4static/_/v2/c2Dm2FfME2PtpMHLSggpNzYNOkA.css\"),e.send()}),0)}\"loading\"===document.readyState?(addEventListener(\"DOMContentLoaded\",n),addEventListener(\"load\",n)):n()}();setTimeout((function(){BEM.blocks.metrika.createCounter({\"id\":\"731962\",\"accurateTrackBounce\":true,\"clickmap\":false,\"experiments\":\"KqEt4fEvie1adJHpPE0izx24Kgnfy8k9lAZUf6QKZnbZkIfNd08p3ZA_Pn7GrpM2zviKBLk8ICN9b-nLl-aOT42gXiE10UYlg1ypQtt5AFf1PqiwtpbK8jIzNwy7DB_IoGHhaGqS4PhYWS7uRKbQBAmoksCvhuvExmVColEIelUcOIyvzUEMUg,,\",\"trackLinks\":true,\"webvisor\":false,\"ecommerce\":\"dataLayer\"})}),0);$(function(){window.Ya=window.Ya||{};Ya.Serp=Ya.Serp||{};Ya.Serp.amt={\"las\":\"092cdd.0;0c82ef.0;0f7fbc.0;0fb8a7.0;0fb8a7.1;10606c.0;10606c.1;107343.0;111a28.0;111a28.1;13d698.0;141f50.0;1731fc.0;1731fc.1;188fca.0;188fca.1;190e65.0;1a6e7e.0;1c1889.0;1c1889.1;1c92d2.0;1c92d2.1;1fc47f.0;205cb1.0;21b8d0.0;25b8df.0;25b8df.1;26a5c5.0;26a5c5.1;29229a.0;29d87c.0;29d87c.1;2b833b.0;2f7977.0;2f7977.1;333658.0;3338ef.0;3338ef.1;3bb720.0;3bb720.1;3bfac9.0;3bfac9.1;3cc1d4.0;413e67.0;413e67.1;43c858.0;43c858.1;4ba637.0;4e3f21.0;4f97ff.0;4f97ff.1;530393.0;534e0e.0;534e0e.1;541f6c.0;541f6c.1;56400e.0;56400e.1;56ae2d.0;56ae2d.1;5bfe76.0;5bfe76.1;5cd92c.0;5cd92c.1;5d7aed.0;5d7aed.1;5f5ff2.0;5f5ff2.1;629b2e.0;629b2e.1;62d49d.0;62d49d.1;658fbe.0;658fbe.1;6651bf.0;6651bf.1;66f7bb.0;672507.0;6c1e6f.0;6c1e6f.1;6f12b7.0;6f12b7.1;70007e.0;70007e.1;725fd8.0;725fd8.1;735eb0.0;740d9c.0;740d9c.1;761922.0;761922.1;762132.0;762132.1;7a9883.0;7a9883.1;7be1ab.0;7be1ab.1;7be49f.0;7be49f.1;7febd5.0;7febd5.1;81a482.0;832672.0;832672.1;853702.0;853702.1;85ae2d.0;85ae2d.1;8669b1.0;8669b1.1;87047f.0;87047f.1;87416f.0;87416f.1;87d200.0;87d200.1;89e62f.0;90be49.0;90da10.0;90da10.1;9103e3.0;91b414.0;921cd8.0;925bcf.0;925bcf.1;9401b1.0;9401b1.1;940464.0;940464.1;942e9b.0;942e9b.1;9649cf.0;9649cf.1;970ba8.0;970ba8.1;97a48f.0;97a48f.1;97d642.0;9a3712.0;9a3712.1;9a6ccc.0;9a6ccc.1;9a7742.0;9a7742.1;9ec3e3.0;9ec3e3.1;9f7c5e.0;9f7c5e.1;MARKET_cart_iframe_login;a3df0c.0;a3df0c.1;a68cbd.0;a68cbd.1;a7b4b3.0;a7c653.0;adc622.0;adc622.1;b1c0db.0;b611d8.0;b611d8.1;b7cc4f.0;b7cc4f.1;b8661c.0;b8661c.1;bb1f9e.0;bb1f9e.1;bd6e0c.0;beauty_column_minwidth_css;beauty_column_screen;beauty_column_search;bfdcf5.0;bfdcf5.1;c3c0f2.0;c3c0f2.1;c4d135.0;c4d135.1;c6455d.0;c6455d.1;c7f518.0;c86778.0;c89062.0;c89062.1;cfcebd.0;cfcebd.1;d3565a.0;d3565a.1;d52a58.0;d52a58.1;d55d4d.0;d55d4d.1;d7390b.0;d7390b.1;df446d.0;df446d.1;eaabdb.0;ecf66f.0;ecf66f.1;eeba09.0;eeba09.1;efb47a.0;efb47a.1;f9b4dd.0;favicons;fe6a55.0;fe6a55.1;jtzk0;jtzk1;overlay_base;promo-popup_theme_ffffff;react-organic-title;thumb_placeholder_#502F1E;thumb_placeholder_#58504B;thumb_placeholder_#59513F;thumb_placeholder_#615F61;thumb_placeholder_#817D77;thumb_placeholder_#85837B;thumb_placeholder_#999497;thumb_placeholder_#9D8C7D;thumb_placeholder_#A29589;thumb_placeholder_#B5C0B4;thumb_placeholder_#C78D5B;thumb_rounded_all\"};Ya.Serp.bmt={\"lb\":\"0op03o0pd0p60p90tx10218b07z0o511h0wp11b0x00ar0m51ee0vc0vd0vt0vq0oc02r0wt01e02c01t01x01k0bt0gx0r802101s16p0li1es0ci0d2\"};});_borschik(\"S8ztK\")&&function(e,t){var a=new RegExp(/^(www\\.)?(uslugi|realty|o|travel|afisha|health|invest)?\\.?yandex\\.(ru|kz|by|ua|com|com\\.tr|net|fr)$/),n=function(e){return Boolean(\"/search/\"!==e.pathname&&a.test(e.hostname))},r=function(){var e=window.location,t=Ya.headerData&&Ya.headerData.value;if(!t)try{t=decodeURIComponent((e.search.match(/[?&]text=([^&]*)/)||[])[1])}catch(a){window.logSerpJsError(a)}t&&(document.cookie=\"lsq=\"+encodeURIComponent(t)+\";expires=\"+new Date(Date.now()+6e4).toUTCString()+\";domain=.\"+e.hostname.replace(/^www\\./,\"\")+\";path=/;secure\")};window.w=function(t){e.apply(this,arguments),t&&t.hostname&&t.pathname&&n(t)&&r()};var o=function(e){t.apply(this,arguments),e&&e.hostname&&e.pathname&&e.addEventListener(\"click\",(function t(a){if(this!==e||a.button)return{};var o=document.createElement(\"a\");o.href=e.realHref,n(o)&&r(),this.removeEventListener(\"click\",t)}))};o.adAttrName=t.adAttrName,o.dataCounterAttrName=t.dataCounterAttrName,o.raa=t.adAttrName,window.rc=o}(window.w,window.rc);});</script><noscript><i style=\"background:url('//yandex.ru/clck/click/reqid=1629718580364170-13053169683408006128-man1-4838-man-l7-balancer-8080-BAL-9907/path=690.627/vars=143=28.1034.153/*')\"></i><link type=\"text/css\" rel=stylesheet href=\"//yastatic.net/s3/web4static/_/v2/c2Dm2FfME2PtpMHLSggpNzYNOkA.css\"></noscript><script nonce=11141>var MOUSE_TRACKING_SETTINGS={}</script><script src=\"//yastatic.net/s3/web4static/_/v2/KXuVvG2TUxj-IRGaay-zreibD2c.js\" crossorigin=\"\" async></script><div class=\"unread-letters-updater i-bem\" data-bem='{\"unread-letters-updater\":{\"enabled\":true}}'></div><div class=\"verified-tooltip verified-tooltip_view_default light-popup light-popup_animated_yes i-bem\" data-bem='{\"light-popup\":{\"target\":\"b-page\"}}'><div class=verified-tooltip__popup><div class=verified-tooltip__tail></div><div class=verified-tooltip__message></div></div></div><div class=\"b-counters serp i-bem\" data-bem='{\"b-counters\":{\"ajaxKey\":\"b-cntrs\"},\"serp\":{\"uniqId\":\"search\"}}'></div><div class=\"safety-filter i-bem\" data-bem='{\"safety-filter\":{\"sk\":\"yb2596ea3a1cec0371026630a46e8593b\"}}'></div><div class=\"detect-scripts i-bem\" data-bem='{\"detect-scripts\":{\"host\":\"csp.yandex.net\"}}'></div>\n",
      "Deleting gateway for site 'https://yandex.ru/search/?text=furniture&lr=2&src=suggest_Reformulation'.\n",
      "Deleted 1 endpoints with for site 'https://yandex.ru/search/?text=furniture&lr=2&src=suggest_Reformulation'.\n"
     ]
    }
   ],
   "source": [
    "import requests\n",
    "from requests_ip_rotator import ApiGateway\n",
    "\n",
    "# website_url = \"https://auto.ru/sankt-peterburg/cars/daewoo/all/\"\n",
    "# website_url = \"https://news.google.com/topstories?hl=en-US&gl=US&ceid=US:en\"\n",
    "# website_url = \"https://narod.ru/\"\n",
    "# website_url = \"https://auto.ru/sankt-peterburg/\"\n",
    "# website_url = \"https://ya.ru/\"\n",
    "website_url = \"https://yandex.ru/search/?text=furniture&lr=2&src=suggest_Reformulation\"\n",
    "\n",
    "# Create gateway object and initialise in AWS\n",
    "gateway = ApiGateway(\n",
    "    website_url,\n",
    "    regions=[\"\"],\n",
    "    access_key_id=\"\",\n",
    "    access_key_secret=\"\",\n",
    ")\n",
    "gateway.start()\n",
    "\n",
    "# Assign gateway to session\n",
    "session = requests.Session()\n",
    "session.mount(website_url, gateway)\n",
    "\n",
    "# Send request (IP will be randomised)\n",
    "request_url = website_url\n",
    "# + \"/sankt-peterburg/cars/bmw/all/\"\n",
    "print(request_url)\n",
    "response = session.get(request_url)\n",
    "print(response.status_code)\n",
    "print(response.text)\n",
    "\n",
    "# Delete gateways\n",
    "gateway.shutdown()"
   ]
  },
  {
   "cell_type": "code",
   "execution_count": 27,
   "metadata": {},
   "outputs": [],
   "source": [
    "import requests\n",
    "from lxml.html import fromstring\n",
    "def get_proxies():\n",
    "    url = 'https://free-proxy-list.net/'\n",
    "    response = requests.get(url)\n",
    "    parser = fromstring(response.text)\n",
    "    proxies = set()\n",
    "    for i in parser.xpath('//tbody/tr')[:10]:\n",
    "        if i.xpath('.//td[7][contains(text(),\"yes\")]'):\n",
    "            #Grabbing IP and corresponding PORT\n",
    "            proxy = \":\".join([i.xpath('.//td[1]/text()')[0], i.xpath('.//td[2]/text()')[0]])\n",
    "            proxies.add(proxy)\n",
    "    return proxies"
   ]
  },
  {
   "cell_type": "code",
   "execution_count": 28,
   "metadata": {},
   "outputs": [
    {
     "data": {
      "text/plain": [
       "{'1.10.188.78:45208',\n",
       " '109.86.182.203:3128',\n",
       " '136.228.141.154:80',\n",
       " '159.89.221.73:3128',\n",
       " '175.139.179.65:42580',\n",
       " '178.217.216.184:49086',\n",
       " '190.183.246.27:8080',\n",
       " '41.217.219.53:31398',\n",
       " '49.0.194.179:12345',\n",
       " '80.60.163.90:8118'}"
      ]
     },
     "execution_count": 28,
     "metadata": {},
     "output_type": "execute_result"
    }
   ],
   "source": [
    "get_proxies()"
   ]
  },
  {
   "cell_type": "code",
   "execution_count": 30,
   "metadata": {},
   "outputs": [
    {
     "name": "stdout",
     "output_type": "stream",
     "text": [
      "Request #1\n",
      "Skipping. Connnection error\n",
      "Request #2\n",
      "{'origin': '136.228.141.154'}\n",
      "Request #3\n"
     ]
    }
   ],
   "source": [
    "from itertools import cycle\n",
    "import traceback\n",
    "\n",
    "proxies = get_proxies()\n",
    "proxy_pool = cycle(proxies)\n",
    "url = 'https://httpbin.org/ip'\n",
    "for i in range(1,11):\n",
    "    #Get a proxy from the pool\n",
    "    proxy = next(proxy_pool)\n",
    "    print(\"Request #%d\"%i)\n",
    "    try:\n",
    "        response = requests.get(url, proxies={\"http\": proxy, \"https\": proxy})\n",
    "        print(response.json())\n",
    "    except:\n",
    "        #Most free proxies will often get connection errors. You will have retry the entire request using another proxy to work. \n",
    "        #We will just skip retries as its beyond the scope of this tutorial and we are only downloading a single url \n",
    "        print(\"Skipping. Connnection error\")"
   ]
  },
  {
   "cell_type": "code",
   "execution_count": 10,
   "metadata": {
    "tags": []
   },
   "outputs": [
    {
     "ename": "ProxyError",
     "evalue": "HTTPSConnectionPool(host='auto.ru', port=443): Max retries exceeded with url: /sankt-peterburg/cars/daewoo/all/ (Caused by ProxyError('Cannot connect to proxy.', OSError('Tunnel connection failed: 503 Too many open connections')))",
     "output_type": "error",
     "traceback": [
      "\u001b[0;31m---------------------------------------------------------------------------\u001b[0m",
      "\u001b[0;31mOSError\u001b[0m                                   Traceback (most recent call last)",
      "\u001b[0;32m~/.pyenv/versions/jupyter-3.8.11/lib/python3.8/site-packages/urllib3/connectionpool.py\u001b[0m in \u001b[0;36murlopen\u001b[0;34m(self, method, url, body, headers, retries, redirect, assert_same_host, timeout, pool_timeout, release_conn, chunked, body_pos, **response_kw)\u001b[0m\n\u001b[1;32m    695\u001b[0m             \u001b[0;32mif\u001b[0m \u001b[0mis_new_proxy_conn\u001b[0m \u001b[0;32mand\u001b[0m \u001b[0mhttp_tunnel_required\u001b[0m\u001b[0;34m:\u001b[0m\u001b[0;34m\u001b[0m\u001b[0;34m\u001b[0m\u001b[0m\n\u001b[0;32m--> 696\u001b[0;31m                 \u001b[0mself\u001b[0m\u001b[0;34m.\u001b[0m\u001b[0m_prepare_proxy\u001b[0m\u001b[0;34m(\u001b[0m\u001b[0mconn\u001b[0m\u001b[0;34m)\u001b[0m\u001b[0;34m\u001b[0m\u001b[0;34m\u001b[0m\u001b[0m\n\u001b[0m\u001b[1;32m    697\u001b[0m \u001b[0;34m\u001b[0m\u001b[0m\n",
      "\u001b[0;32m~/.pyenv/versions/jupyter-3.8.11/lib/python3.8/site-packages/urllib3/connectionpool.py\u001b[0m in \u001b[0;36m_prepare_proxy\u001b[0;34m(self, conn)\u001b[0m\n\u001b[1;32m    963\u001b[0m \u001b[0;34m\u001b[0m\u001b[0m\n\u001b[0;32m--> 964\u001b[0;31m         \u001b[0mconn\u001b[0m\u001b[0;34m.\u001b[0m\u001b[0mconnect\u001b[0m\u001b[0;34m(\u001b[0m\u001b[0;34m)\u001b[0m\u001b[0;34m\u001b[0m\u001b[0;34m\u001b[0m\u001b[0m\n\u001b[0m\u001b[1;32m    965\u001b[0m \u001b[0;34m\u001b[0m\u001b[0m\n",
      "\u001b[0;32m~/.pyenv/versions/jupyter-3.8.11/lib/python3.8/site-packages/urllib3/connection.py\u001b[0m in \u001b[0;36mconnect\u001b[0;34m(self)\u001b[0m\n\u001b[1;32m    365\u001b[0m             \u001b[0;31m# self._tunnel_host below.\u001b[0m\u001b[0;34m\u001b[0m\u001b[0;34m\u001b[0m\u001b[0;34m\u001b[0m\u001b[0m\n\u001b[0;32m--> 366\u001b[0;31m             \u001b[0mself\u001b[0m\u001b[0;34m.\u001b[0m\u001b[0m_tunnel\u001b[0m\u001b[0;34m(\u001b[0m\u001b[0;34m)\u001b[0m\u001b[0;34m\u001b[0m\u001b[0;34m\u001b[0m\u001b[0m\n\u001b[0m\u001b[1;32m    367\u001b[0m             \u001b[0;31m# Mark this connection as not reusable\u001b[0m\u001b[0;34m\u001b[0m\u001b[0;34m\u001b[0m\u001b[0;34m\u001b[0m\u001b[0m\n",
      "\u001b[0;32m~/.pyenv/versions/3.8.11/lib/python3.8/http/client.py\u001b[0m in \u001b[0;36m_tunnel\u001b[0;34m(self)\u001b[0m\n\u001b[1;32m    904\u001b[0m             \u001b[0mself\u001b[0m\u001b[0;34m.\u001b[0m\u001b[0mclose\u001b[0m\u001b[0;34m(\u001b[0m\u001b[0;34m)\u001b[0m\u001b[0;34m\u001b[0m\u001b[0;34m\u001b[0m\u001b[0m\n\u001b[0;32m--> 905\u001b[0;31m             raise OSError(\"Tunnel connection failed: %d %s\" % (code,\n\u001b[0m\u001b[1;32m    906\u001b[0m                                                                message.strip()))\n",
      "\u001b[0;31mOSError\u001b[0m: Tunnel connection failed: 503 Too many open connections",
      "\nDuring handling of the above exception, another exception occurred:\n",
      "\u001b[0;31mMaxRetryError\u001b[0m                             Traceback (most recent call last)",
      "\u001b[0;32m~/.pyenv/versions/jupyter-3.8.11/lib/python3.8/site-packages/requests/adapters.py\u001b[0m in \u001b[0;36msend\u001b[0;34m(self, request, stream, timeout, verify, cert, proxies)\u001b[0m\n\u001b[1;32m    438\u001b[0m             \u001b[0;32mif\u001b[0m \u001b[0;32mnot\u001b[0m \u001b[0mchunked\u001b[0m\u001b[0;34m:\u001b[0m\u001b[0;34m\u001b[0m\u001b[0;34m\u001b[0m\u001b[0m\n\u001b[0;32m--> 439\u001b[0;31m                 resp = conn.urlopen(\n\u001b[0m\u001b[1;32m    440\u001b[0m                     \u001b[0mmethod\u001b[0m\u001b[0;34m=\u001b[0m\u001b[0mrequest\u001b[0m\u001b[0;34m.\u001b[0m\u001b[0mmethod\u001b[0m\u001b[0;34m,\u001b[0m\u001b[0;34m\u001b[0m\u001b[0;34m\u001b[0m\u001b[0m\n",
      "\u001b[0;32m~/.pyenv/versions/jupyter-3.8.11/lib/python3.8/site-packages/urllib3/connectionpool.py\u001b[0m in \u001b[0;36murlopen\u001b[0;34m(self, method, url, body, headers, retries, redirect, assert_same_host, timeout, pool_timeout, release_conn, chunked, body_pos, **response_kw)\u001b[0m\n\u001b[1;32m    754\u001b[0m \u001b[0;34m\u001b[0m\u001b[0m\n\u001b[0;32m--> 755\u001b[0;31m             retries = retries.increment(\n\u001b[0m\u001b[1;32m    756\u001b[0m                 \u001b[0mmethod\u001b[0m\u001b[0;34m,\u001b[0m \u001b[0murl\u001b[0m\u001b[0;34m,\u001b[0m \u001b[0merror\u001b[0m\u001b[0;34m=\u001b[0m\u001b[0me\u001b[0m\u001b[0;34m,\u001b[0m \u001b[0m_pool\u001b[0m\u001b[0;34m=\u001b[0m\u001b[0mself\u001b[0m\u001b[0;34m,\u001b[0m \u001b[0m_stacktrace\u001b[0m\u001b[0;34m=\u001b[0m\u001b[0msys\u001b[0m\u001b[0;34m.\u001b[0m\u001b[0mexc_info\u001b[0m\u001b[0;34m(\u001b[0m\u001b[0;34m)\u001b[0m\u001b[0;34m[\u001b[0m\u001b[0;36m2\u001b[0m\u001b[0;34m]\u001b[0m\u001b[0;34m\u001b[0m\u001b[0;34m\u001b[0m\u001b[0m\n",
      "\u001b[0;32m~/.pyenv/versions/jupyter-3.8.11/lib/python3.8/site-packages/urllib3/util/retry.py\u001b[0m in \u001b[0;36mincrement\u001b[0;34m(self, method, url, response, error, _pool, _stacktrace)\u001b[0m\n\u001b[1;32m    573\u001b[0m         \u001b[0;32mif\u001b[0m \u001b[0mnew_retry\u001b[0m\u001b[0;34m.\u001b[0m\u001b[0mis_exhausted\u001b[0m\u001b[0;34m(\u001b[0m\u001b[0;34m)\u001b[0m\u001b[0;34m:\u001b[0m\u001b[0;34m\u001b[0m\u001b[0;34m\u001b[0m\u001b[0m\n\u001b[0;32m--> 574\u001b[0;31m             \u001b[0;32mraise\u001b[0m \u001b[0mMaxRetryError\u001b[0m\u001b[0;34m(\u001b[0m\u001b[0m_pool\u001b[0m\u001b[0;34m,\u001b[0m \u001b[0murl\u001b[0m\u001b[0;34m,\u001b[0m \u001b[0merror\u001b[0m \u001b[0;32mor\u001b[0m \u001b[0mResponseError\u001b[0m\u001b[0;34m(\u001b[0m\u001b[0mcause\u001b[0m\u001b[0;34m)\u001b[0m\u001b[0;34m)\u001b[0m\u001b[0;34m\u001b[0m\u001b[0;34m\u001b[0m\u001b[0m\n\u001b[0m\u001b[1;32m    575\u001b[0m \u001b[0;34m\u001b[0m\u001b[0m\n",
      "\u001b[0;31mMaxRetryError\u001b[0m: HTTPSConnectionPool(host='auto.ru', port=443): Max retries exceeded with url: /sankt-peterburg/cars/daewoo/all/ (Caused by ProxyError('Cannot connect to proxy.', OSError('Tunnel connection failed: 503 Too many open connections')))",
      "\nDuring handling of the above exception, another exception occurred:\n",
      "\u001b[0;31mProxyError\u001b[0m                                Traceback (most recent call last)",
      "\u001b[0;32m/tmp/ipykernel_39518/2801381487.py\u001b[0m in \u001b[0;36m<module>\u001b[0;34m\u001b[0m\n\u001b[1;32m      4\u001b[0m \u001b[0mproxy\u001b[0m \u001b[0;34m=\u001b[0m \u001b[0;34m\"80.60.163.90:8118\"\u001b[0m\u001b[0;34m\u001b[0m\u001b[0;34m\u001b[0m\u001b[0m\n\u001b[1;32m      5\u001b[0m \u001b[0mst\u001b[0m \u001b[0;34m=\u001b[0m \u001b[0mtime\u001b[0m\u001b[0;34m.\u001b[0m\u001b[0mtime\u001b[0m\u001b[0;34m(\u001b[0m\u001b[0;34m)\u001b[0m\u001b[0;34m\u001b[0m\u001b[0;34m\u001b[0m\u001b[0m\n\u001b[0;32m----> 6\u001b[0;31m response = requests.get(\n\u001b[0m\u001b[1;32m      7\u001b[0m     \u001b[0;34m\"https://auto.ru/sankt-peterburg/cars/daewoo/all/\"\u001b[0m\u001b[0;34m,\u001b[0m\u001b[0;34m\u001b[0m\u001b[0;34m\u001b[0m\u001b[0m\n\u001b[1;32m      8\u001b[0m     \u001b[0mproxies\u001b[0m\u001b[0;34m=\u001b[0m\u001b[0;34m{\u001b[0m\u001b[0;34m\"http\"\u001b[0m\u001b[0;34m:\u001b[0m \u001b[0mproxy\u001b[0m\u001b[0;34m,\u001b[0m \u001b[0;34m\"https\"\u001b[0m\u001b[0;34m:\u001b[0m \u001b[0mproxy\u001b[0m\u001b[0;34m}\u001b[0m\u001b[0;34m\u001b[0m\u001b[0;34m\u001b[0m\u001b[0m\n",
      "\u001b[0;32m~/.pyenv/versions/jupyter-3.8.11/lib/python3.8/site-packages/requests/api.py\u001b[0m in \u001b[0;36mget\u001b[0;34m(url, params, **kwargs)\u001b[0m\n\u001b[1;32m     73\u001b[0m     \"\"\"\n\u001b[1;32m     74\u001b[0m \u001b[0;34m\u001b[0m\u001b[0m\n\u001b[0;32m---> 75\u001b[0;31m     \u001b[0;32mreturn\u001b[0m \u001b[0mrequest\u001b[0m\u001b[0;34m(\u001b[0m\u001b[0;34m'get'\u001b[0m\u001b[0;34m,\u001b[0m \u001b[0murl\u001b[0m\u001b[0;34m,\u001b[0m \u001b[0mparams\u001b[0m\u001b[0;34m=\u001b[0m\u001b[0mparams\u001b[0m\u001b[0;34m,\u001b[0m \u001b[0;34m**\u001b[0m\u001b[0mkwargs\u001b[0m\u001b[0;34m)\u001b[0m\u001b[0;34m\u001b[0m\u001b[0;34m\u001b[0m\u001b[0m\n\u001b[0m\u001b[1;32m     76\u001b[0m \u001b[0;34m\u001b[0m\u001b[0m\n\u001b[1;32m     77\u001b[0m \u001b[0;34m\u001b[0m\u001b[0m\n",
      "\u001b[0;32m~/.pyenv/versions/jupyter-3.8.11/lib/python3.8/site-packages/requests/api.py\u001b[0m in \u001b[0;36mrequest\u001b[0;34m(method, url, **kwargs)\u001b[0m\n\u001b[1;32m     59\u001b[0m     \u001b[0;31m# cases, and look like a memory leak in others.\u001b[0m\u001b[0;34m\u001b[0m\u001b[0;34m\u001b[0m\u001b[0;34m\u001b[0m\u001b[0m\n\u001b[1;32m     60\u001b[0m     \u001b[0;32mwith\u001b[0m \u001b[0msessions\u001b[0m\u001b[0;34m.\u001b[0m\u001b[0mSession\u001b[0m\u001b[0;34m(\u001b[0m\u001b[0;34m)\u001b[0m \u001b[0;32mas\u001b[0m \u001b[0msession\u001b[0m\u001b[0;34m:\u001b[0m\u001b[0;34m\u001b[0m\u001b[0;34m\u001b[0m\u001b[0m\n\u001b[0;32m---> 61\u001b[0;31m         \u001b[0;32mreturn\u001b[0m \u001b[0msession\u001b[0m\u001b[0;34m.\u001b[0m\u001b[0mrequest\u001b[0m\u001b[0;34m(\u001b[0m\u001b[0mmethod\u001b[0m\u001b[0;34m=\u001b[0m\u001b[0mmethod\u001b[0m\u001b[0;34m,\u001b[0m \u001b[0murl\u001b[0m\u001b[0;34m=\u001b[0m\u001b[0murl\u001b[0m\u001b[0;34m,\u001b[0m \u001b[0;34m**\u001b[0m\u001b[0mkwargs\u001b[0m\u001b[0;34m)\u001b[0m\u001b[0;34m\u001b[0m\u001b[0;34m\u001b[0m\u001b[0m\n\u001b[0m\u001b[1;32m     62\u001b[0m \u001b[0;34m\u001b[0m\u001b[0m\n\u001b[1;32m     63\u001b[0m \u001b[0;34m\u001b[0m\u001b[0m\n",
      "\u001b[0;32m~/.pyenv/versions/jupyter-3.8.11/lib/python3.8/site-packages/requests/sessions.py\u001b[0m in \u001b[0;36mrequest\u001b[0;34m(self, method, url, params, data, headers, cookies, files, auth, timeout, allow_redirects, proxies, hooks, stream, verify, cert, json)\u001b[0m\n\u001b[1;32m    540\u001b[0m         }\n\u001b[1;32m    541\u001b[0m         \u001b[0msend_kwargs\u001b[0m\u001b[0;34m.\u001b[0m\u001b[0mupdate\u001b[0m\u001b[0;34m(\u001b[0m\u001b[0msettings\u001b[0m\u001b[0;34m)\u001b[0m\u001b[0;34m\u001b[0m\u001b[0;34m\u001b[0m\u001b[0m\n\u001b[0;32m--> 542\u001b[0;31m         \u001b[0mresp\u001b[0m \u001b[0;34m=\u001b[0m \u001b[0mself\u001b[0m\u001b[0;34m.\u001b[0m\u001b[0msend\u001b[0m\u001b[0;34m(\u001b[0m\u001b[0mprep\u001b[0m\u001b[0;34m,\u001b[0m \u001b[0;34m**\u001b[0m\u001b[0msend_kwargs\u001b[0m\u001b[0;34m)\u001b[0m\u001b[0;34m\u001b[0m\u001b[0;34m\u001b[0m\u001b[0m\n\u001b[0m\u001b[1;32m    543\u001b[0m \u001b[0;34m\u001b[0m\u001b[0m\n\u001b[1;32m    544\u001b[0m         \u001b[0;32mreturn\u001b[0m \u001b[0mresp\u001b[0m\u001b[0;34m\u001b[0m\u001b[0;34m\u001b[0m\u001b[0m\n",
      "\u001b[0;32m~/.pyenv/versions/jupyter-3.8.11/lib/python3.8/site-packages/requests/sessions.py\u001b[0m in \u001b[0;36msend\u001b[0;34m(self, request, **kwargs)\u001b[0m\n\u001b[1;32m    653\u001b[0m \u001b[0;34m\u001b[0m\u001b[0m\n\u001b[1;32m    654\u001b[0m         \u001b[0;31m# Send the request\u001b[0m\u001b[0;34m\u001b[0m\u001b[0;34m\u001b[0m\u001b[0;34m\u001b[0m\u001b[0m\n\u001b[0;32m--> 655\u001b[0;31m         \u001b[0mr\u001b[0m \u001b[0;34m=\u001b[0m \u001b[0madapter\u001b[0m\u001b[0;34m.\u001b[0m\u001b[0msend\u001b[0m\u001b[0;34m(\u001b[0m\u001b[0mrequest\u001b[0m\u001b[0;34m,\u001b[0m \u001b[0;34m**\u001b[0m\u001b[0mkwargs\u001b[0m\u001b[0;34m)\u001b[0m\u001b[0;34m\u001b[0m\u001b[0;34m\u001b[0m\u001b[0m\n\u001b[0m\u001b[1;32m    656\u001b[0m \u001b[0;34m\u001b[0m\u001b[0m\n\u001b[1;32m    657\u001b[0m         \u001b[0;31m# Total elapsed time of the request (approximately)\u001b[0m\u001b[0;34m\u001b[0m\u001b[0;34m\u001b[0m\u001b[0;34m\u001b[0m\u001b[0m\n",
      "\u001b[0;32m~/.pyenv/versions/jupyter-3.8.11/lib/python3.8/site-packages/requests/adapters.py\u001b[0m in \u001b[0;36msend\u001b[0;34m(self, request, stream, timeout, verify, cert, proxies)\u001b[0m\n\u001b[1;32m    508\u001b[0m \u001b[0;34m\u001b[0m\u001b[0m\n\u001b[1;32m    509\u001b[0m             \u001b[0;32mif\u001b[0m \u001b[0misinstance\u001b[0m\u001b[0;34m(\u001b[0m\u001b[0me\u001b[0m\u001b[0;34m.\u001b[0m\u001b[0mreason\u001b[0m\u001b[0;34m,\u001b[0m \u001b[0m_ProxyError\u001b[0m\u001b[0;34m)\u001b[0m\u001b[0;34m:\u001b[0m\u001b[0;34m\u001b[0m\u001b[0;34m\u001b[0m\u001b[0m\n\u001b[0;32m--> 510\u001b[0;31m                 \u001b[0;32mraise\u001b[0m \u001b[0mProxyError\u001b[0m\u001b[0;34m(\u001b[0m\u001b[0me\u001b[0m\u001b[0;34m,\u001b[0m \u001b[0mrequest\u001b[0m\u001b[0;34m=\u001b[0m\u001b[0mrequest\u001b[0m\u001b[0;34m)\u001b[0m\u001b[0;34m\u001b[0m\u001b[0;34m\u001b[0m\u001b[0m\n\u001b[0m\u001b[1;32m    511\u001b[0m \u001b[0;34m\u001b[0m\u001b[0m\n\u001b[1;32m    512\u001b[0m             \u001b[0;32mif\u001b[0m \u001b[0misinstance\u001b[0m\u001b[0;34m(\u001b[0m\u001b[0me\u001b[0m\u001b[0;34m.\u001b[0m\u001b[0mreason\u001b[0m\u001b[0;34m,\u001b[0m \u001b[0m_SSLError\u001b[0m\u001b[0;34m)\u001b[0m\u001b[0;34m:\u001b[0m\u001b[0;34m\u001b[0m\u001b[0;34m\u001b[0m\u001b[0m\n",
      "\u001b[0;31mProxyError\u001b[0m: HTTPSConnectionPool(host='auto.ru', port=443): Max retries exceeded with url: /sankt-peterburg/cars/daewoo/all/ (Caused by ProxyError('Cannot connect to proxy.', OSError('Tunnel connection failed: 503 Too many open connections')))"
     ]
    }
   ],
   "source": [
    "import requests\n",
    "import time\n",
    "\n",
    "proxy = \"80.60.163.90:8118\"\n",
    "st = time.time()\n",
    "response = requests.get(\n",
    "    \"https://auto.ru/sankt-peterburg/cars/daewoo/all/\",\n",
    "    proxies={\"http\": proxy, \"https\": proxy}\n",
    ")\n",
    "delta_t = time.time() - st\n",
    "print(delta_t)\n",
    "print(response.status_code)"
   ]
  },
  {
   "cell_type": "code",
   "execution_count": null,
   "metadata": {},
   "outputs": [],
   "source": []
  }
 ],
 "metadata": {
  "kernelspec": {
   "display_name": "Python 3.8.11 64-bit ('jupyter-3.8.11')",
   "name": "python381164bitjupyter3811b28b8a7852634d1493de990ed77d1eac"
  },
  "language_info": {
   "codemirror_mode": {
    "name": "ipython",
    "version": 3
   },
   "file_extension": ".py",
   "mimetype": "text/x-python",
   "name": "python",
   "nbconvert_exporter": "python",
   "pygments_lexer": "ipython3",
   "version": "3.8.11-final"
  },
  "orig_nbformat": 2
 },
 "nbformat": 4,
 "nbformat_minor": 2
}
